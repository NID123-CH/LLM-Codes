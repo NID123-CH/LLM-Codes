{
  "cells": [
    {
      "cell_type": "markdown",
      "metadata": {
        "id": "view-in-github",
        "colab_type": "text"
      },
      "source": [
        "<a href=\"https://colab.research.google.com/github/NID123-CH/LLM-Codes/blob/main/Copy_of_LangchainMistral.ipynb\" target=\"_parent\"><img src=\"https://colab.research.google.com/assets/colab-badge.svg\" alt=\"Open In Colab\"/></a>"
      ]
    },
    {
      "cell_type": "markdown",
      "metadata": {
        "id": "4-d-abLEVi7e"
      },
      "source": [
        "# Introduction to LangChain\n",
        "\n",
        "- https://console.mistral.ai/\n",
        "- https://www.langchain.com/\n",
        "\n"
      ]
    },
    {
      "cell_type": "code",
      "execution_count": 1,
      "metadata": {
        "id": "tkjUUDWqMuMx"
      },
      "outputs": [],
      "source": [
        "# Get the API key here and add it to the secrets (left).\n",
        "from google.colab import userdata\n",
        "api_key = userdata.get(\"mistralapikey\")"
      ]
    },
    {
      "cell_type": "code",
      "execution_count": 2,
      "metadata": {
        "id": "FaIXwH0zQKj_",
        "colab": {
          "base_uri": "https://localhost:8080/"
        },
        "outputId": "a2256146-bcb3-4b05-ce26-644df4f3c167"
      },
      "outputs": [
        {
          "output_type": "stream",
          "name": "stdout",
          "text": [
            "Requirement already satisfied: langchain-core in /usr/local/lib/python3.10/dist-packages (0.3.12)\n",
            "Requirement already satisfied: langchain-mistralai in /usr/local/lib/python3.10/dist-packages (0.2.0)\n",
            "Requirement already satisfied: langchain-community in /usr/local/lib/python3.10/dist-packages (0.3.3)\n",
            "Requirement already satisfied: langchain-chroma in /usr/local/lib/python3.10/dist-packages (0.1.4)\n",
            "Requirement already satisfied: PyYAML>=5.3 in /usr/local/lib/python3.10/dist-packages (from langchain-core) (6.0.2)\n",
            "Requirement already satisfied: jsonpatch<2.0,>=1.33 in /usr/local/lib/python3.10/dist-packages (from langchain-core) (1.33)\n",
            "Requirement already satisfied: langsmith<0.2.0,>=0.1.125 in /usr/local/lib/python3.10/dist-packages (from langchain-core) (0.1.137)\n",
            "Requirement already satisfied: packaging<25,>=23.2 in /usr/local/lib/python3.10/dist-packages (from langchain-core) (24.1)\n",
            "Requirement already satisfied: pydantic<3.0.0,>=2.5.2 in /usr/local/lib/python3.10/dist-packages (from langchain-core) (2.9.2)\n",
            "Requirement already satisfied: tenacity!=8.4.0,<10.0.0,>=8.1.0 in /usr/local/lib/python3.10/dist-packages (from langchain-core) (9.0.0)\n",
            "Requirement already satisfied: typing-extensions>=4.7 in /usr/local/lib/python3.10/dist-packages (from langchain-core) (4.12.2)\n",
            "Requirement already satisfied: httpx<1,>=0.25.2 in /usr/local/lib/python3.10/dist-packages (from langchain-mistralai) (0.27.2)\n",
            "Requirement already satisfied: httpx-sse<1,>=0.3.1 in /usr/local/lib/python3.10/dist-packages (from langchain-mistralai) (0.4.0)\n",
            "Requirement already satisfied: tokenizers<1,>=0.15.1 in /usr/local/lib/python3.10/dist-packages (from langchain-mistralai) (0.19.1)\n",
            "Requirement already satisfied: SQLAlchemy<3,>=1.4 in /usr/local/lib/python3.10/dist-packages (from langchain-community) (2.0.36)\n",
            "Requirement already satisfied: aiohttp<4.0.0,>=3.8.3 in /usr/local/lib/python3.10/dist-packages (from langchain-community) (3.10.10)\n",
            "Requirement already satisfied: dataclasses-json<0.7,>=0.5.7 in /usr/local/lib/python3.10/dist-packages (from langchain-community) (0.6.7)\n",
            "Requirement already satisfied: langchain<0.4.0,>=0.3.4 in /usr/local/lib/python3.10/dist-packages (from langchain-community) (0.3.4)\n",
            "Requirement already satisfied: numpy<2,>=1 in /usr/local/lib/python3.10/dist-packages (from langchain-community) (1.26.4)\n",
            "Requirement already satisfied: pydantic-settings<3.0.0,>=2.4.0 in /usr/local/lib/python3.10/dist-packages (from langchain-community) (2.6.0)\n",
            "Requirement already satisfied: requests<3,>=2 in /usr/local/lib/python3.10/dist-packages (from langchain-community) (2.32.3)\n",
            "Requirement already satisfied: chromadb!=0.5.4,!=0.5.5,<0.6.0,>=0.4.0 in /usr/local/lib/python3.10/dist-packages (from langchain-chroma) (0.5.15)\n",
            "Requirement already satisfied: fastapi<1,>=0.95.2 in /usr/local/lib/python3.10/dist-packages (from langchain-chroma) (0.115.3)\n",
            "Requirement already satisfied: aiohappyeyeballs>=2.3.0 in /usr/local/lib/python3.10/dist-packages (from aiohttp<4.0.0,>=3.8.3->langchain-community) (2.4.3)\n",
            "Requirement already satisfied: aiosignal>=1.1.2 in /usr/local/lib/python3.10/dist-packages (from aiohttp<4.0.0,>=3.8.3->langchain-community) (1.3.1)\n",
            "Requirement already satisfied: attrs>=17.3.0 in /usr/local/lib/python3.10/dist-packages (from aiohttp<4.0.0,>=3.8.3->langchain-community) (24.2.0)\n",
            "Requirement already satisfied: frozenlist>=1.1.1 in /usr/local/lib/python3.10/dist-packages (from aiohttp<4.0.0,>=3.8.3->langchain-community) (1.4.1)\n",
            "Requirement already satisfied: multidict<7.0,>=4.5 in /usr/local/lib/python3.10/dist-packages (from aiohttp<4.0.0,>=3.8.3->langchain-community) (6.1.0)\n",
            "Requirement already satisfied: yarl<2.0,>=1.12.0 in /usr/local/lib/python3.10/dist-packages (from aiohttp<4.0.0,>=3.8.3->langchain-community) (1.16.0)\n",
            "Requirement already satisfied: async-timeout<5.0,>=4.0 in /usr/local/lib/python3.10/dist-packages (from aiohttp<4.0.0,>=3.8.3->langchain-community) (4.0.3)\n",
            "Requirement already satisfied: build>=1.0.3 in /usr/local/lib/python3.10/dist-packages (from chromadb!=0.5.4,!=0.5.5,<0.6.0,>=0.4.0->langchain-chroma) (1.2.2.post1)\n",
            "Requirement already satisfied: chroma-hnswlib==0.7.6 in /usr/local/lib/python3.10/dist-packages (from chromadb!=0.5.4,!=0.5.5,<0.6.0,>=0.4.0->langchain-chroma) (0.7.6)\n",
            "Requirement already satisfied: uvicorn>=0.18.3 in /usr/local/lib/python3.10/dist-packages (from uvicorn[standard]>=0.18.3->chromadb!=0.5.4,!=0.5.5,<0.6.0,>=0.4.0->langchain-chroma) (0.32.0)\n",
            "Requirement already satisfied: posthog>=2.4.0 in /usr/local/lib/python3.10/dist-packages (from chromadb!=0.5.4,!=0.5.5,<0.6.0,>=0.4.0->langchain-chroma) (3.7.0)\n",
            "Requirement already satisfied: onnxruntime>=1.14.1 in /usr/local/lib/python3.10/dist-packages (from chromadb!=0.5.4,!=0.5.5,<0.6.0,>=0.4.0->langchain-chroma) (1.19.2)\n",
            "Requirement already satisfied: opentelemetry-api>=1.2.0 in /usr/local/lib/python3.10/dist-packages (from chromadb!=0.5.4,!=0.5.5,<0.6.0,>=0.4.0->langchain-chroma) (1.27.0)\n",
            "Requirement already satisfied: opentelemetry-exporter-otlp-proto-grpc>=1.2.0 in /usr/local/lib/python3.10/dist-packages (from chromadb!=0.5.4,!=0.5.5,<0.6.0,>=0.4.0->langchain-chroma) (1.27.0)\n",
            "Requirement already satisfied: opentelemetry-instrumentation-fastapi>=0.41b0 in /usr/local/lib/python3.10/dist-packages (from chromadb!=0.5.4,!=0.5.5,<0.6.0,>=0.4.0->langchain-chroma) (0.48b0)\n",
            "Requirement already satisfied: opentelemetry-sdk>=1.2.0 in /usr/local/lib/python3.10/dist-packages (from chromadb!=0.5.4,!=0.5.5,<0.6.0,>=0.4.0->langchain-chroma) (1.27.0)\n",
            "Requirement already satisfied: pypika>=0.48.9 in /usr/local/lib/python3.10/dist-packages (from chromadb!=0.5.4,!=0.5.5,<0.6.0,>=0.4.0->langchain-chroma) (0.48.9)\n",
            "Requirement already satisfied: tqdm>=4.65.0 in /usr/local/lib/python3.10/dist-packages (from chromadb!=0.5.4,!=0.5.5,<0.6.0,>=0.4.0->langchain-chroma) (4.66.5)\n",
            "Requirement already satisfied: overrides>=7.3.1 in /usr/local/lib/python3.10/dist-packages (from chromadb!=0.5.4,!=0.5.5,<0.6.0,>=0.4.0->langchain-chroma) (7.7.0)\n",
            "Requirement already satisfied: importlib-resources in /usr/local/lib/python3.10/dist-packages (from chromadb!=0.5.4,!=0.5.5,<0.6.0,>=0.4.0->langchain-chroma) (6.4.5)\n",
            "Requirement already satisfied: grpcio>=1.58.0 in /usr/local/lib/python3.10/dist-packages (from chromadb!=0.5.4,!=0.5.5,<0.6.0,>=0.4.0->langchain-chroma) (1.64.1)\n",
            "Requirement already satisfied: bcrypt>=4.0.1 in /usr/local/lib/python3.10/dist-packages (from chromadb!=0.5.4,!=0.5.5,<0.6.0,>=0.4.0->langchain-chroma) (4.2.0)\n",
            "Requirement already satisfied: typer>=0.9.0 in /usr/local/lib/python3.10/dist-packages (from chromadb!=0.5.4,!=0.5.5,<0.6.0,>=0.4.0->langchain-chroma) (0.12.5)\n",
            "Requirement already satisfied: kubernetes>=28.1.0 in /usr/local/lib/python3.10/dist-packages (from chromadb!=0.5.4,!=0.5.5,<0.6.0,>=0.4.0->langchain-chroma) (31.0.0)\n",
            "Requirement already satisfied: mmh3>=4.0.1 in /usr/local/lib/python3.10/dist-packages (from chromadb!=0.5.4,!=0.5.5,<0.6.0,>=0.4.0->langchain-chroma) (5.0.1)\n",
            "Requirement already satisfied: orjson>=3.9.12 in /usr/local/lib/python3.10/dist-packages (from chromadb!=0.5.4,!=0.5.5,<0.6.0,>=0.4.0->langchain-chroma) (3.10.10)\n",
            "Requirement already satisfied: rich>=10.11.0 in /usr/local/lib/python3.10/dist-packages (from chromadb!=0.5.4,!=0.5.5,<0.6.0,>=0.4.0->langchain-chroma) (13.9.2)\n",
            "Requirement already satisfied: marshmallow<4.0.0,>=3.18.0 in /usr/local/lib/python3.10/dist-packages (from dataclasses-json<0.7,>=0.5.7->langchain-community) (3.23.0)\n",
            "Requirement already satisfied: typing-inspect<1,>=0.4.0 in /usr/local/lib/python3.10/dist-packages (from dataclasses-json<0.7,>=0.5.7->langchain-community) (0.9.0)\n",
            "Requirement already satisfied: starlette<0.42.0,>=0.40.0 in /usr/local/lib/python3.10/dist-packages (from fastapi<1,>=0.95.2->langchain-chroma) (0.41.0)\n",
            "Requirement already satisfied: anyio in /usr/local/lib/python3.10/dist-packages (from httpx<1,>=0.25.2->langchain-mistralai) (3.7.1)\n",
            "Requirement already satisfied: certifi in /usr/local/lib/python3.10/dist-packages (from httpx<1,>=0.25.2->langchain-mistralai) (2024.8.30)\n",
            "Requirement already satisfied: httpcore==1.* in /usr/local/lib/python3.10/dist-packages (from httpx<1,>=0.25.2->langchain-mistralai) (1.0.6)\n",
            "Requirement already satisfied: idna in /usr/local/lib/python3.10/dist-packages (from httpx<1,>=0.25.2->langchain-mistralai) (3.10)\n",
            "Requirement already satisfied: sniffio in /usr/local/lib/python3.10/dist-packages (from httpx<1,>=0.25.2->langchain-mistralai) (1.3.1)\n",
            "Requirement already satisfied: h11<0.15,>=0.13 in /usr/local/lib/python3.10/dist-packages (from httpcore==1.*->httpx<1,>=0.25.2->langchain-mistralai) (0.14.0)\n",
            "Requirement already satisfied: jsonpointer>=1.9 in /usr/local/lib/python3.10/dist-packages (from jsonpatch<2.0,>=1.33->langchain-core) (3.0.0)\n",
            "Requirement already satisfied: langchain-text-splitters<0.4.0,>=0.3.0 in /usr/local/lib/python3.10/dist-packages (from langchain<0.4.0,>=0.3.4->langchain-community) (0.3.0)\n",
            "Requirement already satisfied: requests-toolbelt<2.0.0,>=1.0.0 in /usr/local/lib/python3.10/dist-packages (from langsmith<0.2.0,>=0.1.125->langchain-core) (1.0.0)\n",
            "Requirement already satisfied: annotated-types>=0.6.0 in /usr/local/lib/python3.10/dist-packages (from pydantic<3.0.0,>=2.5.2->langchain-core) (0.7.0)\n",
            "Requirement already satisfied: pydantic-core==2.23.4 in /usr/local/lib/python3.10/dist-packages (from pydantic<3.0.0,>=2.5.2->langchain-core) (2.23.4)\n",
            "Requirement already satisfied: python-dotenv>=0.21.0 in /usr/local/lib/python3.10/dist-packages (from pydantic-settings<3.0.0,>=2.4.0->langchain-community) (1.0.1)\n",
            "Requirement already satisfied: charset-normalizer<4,>=2 in /usr/local/lib/python3.10/dist-packages (from requests<3,>=2->langchain-community) (3.4.0)\n",
            "Requirement already satisfied: urllib3<3,>=1.21.1 in /usr/local/lib/python3.10/dist-packages (from requests<3,>=2->langchain-community) (2.2.3)\n",
            "Requirement already satisfied: greenlet!=0.4.17 in /usr/local/lib/python3.10/dist-packages (from SQLAlchemy<3,>=1.4->langchain-community) (3.1.1)\n",
            "Requirement already satisfied: huggingface-hub<1.0,>=0.16.4 in /usr/local/lib/python3.10/dist-packages (from tokenizers<1,>=0.15.1->langchain-mistralai) (0.26.1)\n",
            "Requirement already satisfied: pyproject_hooks in /usr/local/lib/python3.10/dist-packages (from build>=1.0.3->chromadb!=0.5.4,!=0.5.5,<0.6.0,>=0.4.0->langchain-chroma) (1.2.0)\n",
            "Requirement already satisfied: tomli>=1.1.0 in /usr/local/lib/python3.10/dist-packages (from build>=1.0.3->chromadb!=0.5.4,!=0.5.5,<0.6.0,>=0.4.0->langchain-chroma) (2.0.2)\n",
            "Requirement already satisfied: filelock in /usr/local/lib/python3.10/dist-packages (from huggingface-hub<1.0,>=0.16.4->tokenizers<1,>=0.15.1->langchain-mistralai) (3.16.1)\n",
            "Requirement already satisfied: fsspec>=2023.5.0 in /usr/local/lib/python3.10/dist-packages (from huggingface-hub<1.0,>=0.16.4->tokenizers<1,>=0.15.1->langchain-mistralai) (2024.6.1)\n",
            "Requirement already satisfied: six>=1.9.0 in /usr/local/lib/python3.10/dist-packages (from kubernetes>=28.1.0->chromadb!=0.5.4,!=0.5.5,<0.6.0,>=0.4.0->langchain-chroma) (1.16.0)\n",
            "Requirement already satisfied: python-dateutil>=2.5.3 in /usr/local/lib/python3.10/dist-packages (from kubernetes>=28.1.0->chromadb!=0.5.4,!=0.5.5,<0.6.0,>=0.4.0->langchain-chroma) (2.8.2)\n",
            "Requirement already satisfied: google-auth>=1.0.1 in /usr/local/lib/python3.10/dist-packages (from kubernetes>=28.1.0->chromadb!=0.5.4,!=0.5.5,<0.6.0,>=0.4.0->langchain-chroma) (2.27.0)\n",
            "Requirement already satisfied: websocket-client!=0.40.0,!=0.41.*,!=0.42.*,>=0.32.0 in /usr/local/lib/python3.10/dist-packages (from kubernetes>=28.1.0->chromadb!=0.5.4,!=0.5.5,<0.6.0,>=0.4.0->langchain-chroma) (1.8.0)\n",
            "Requirement already satisfied: requests-oauthlib in /usr/local/lib/python3.10/dist-packages (from kubernetes>=28.1.0->chromadb!=0.5.4,!=0.5.5,<0.6.0,>=0.4.0->langchain-chroma) (1.3.1)\n",
            "Requirement already satisfied: oauthlib>=3.2.2 in /usr/local/lib/python3.10/dist-packages (from kubernetes>=28.1.0->chromadb!=0.5.4,!=0.5.5,<0.6.0,>=0.4.0->langchain-chroma) (3.2.2)\n",
            "Requirement already satisfied: durationpy>=0.7 in /usr/local/lib/python3.10/dist-packages (from kubernetes>=28.1.0->chromadb!=0.5.4,!=0.5.5,<0.6.0,>=0.4.0->langchain-chroma) (0.9)\n",
            "Requirement already satisfied: coloredlogs in /usr/local/lib/python3.10/dist-packages (from onnxruntime>=1.14.1->chromadb!=0.5.4,!=0.5.5,<0.6.0,>=0.4.0->langchain-chroma) (15.0.1)\n",
            "Requirement already satisfied: flatbuffers in /usr/local/lib/python3.10/dist-packages (from onnxruntime>=1.14.1->chromadb!=0.5.4,!=0.5.5,<0.6.0,>=0.4.0->langchain-chroma) (24.3.25)\n",
            "Requirement already satisfied: protobuf in /usr/local/lib/python3.10/dist-packages (from onnxruntime>=1.14.1->chromadb!=0.5.4,!=0.5.5,<0.6.0,>=0.4.0->langchain-chroma) (3.20.3)\n",
            "Requirement already satisfied: sympy in /usr/local/lib/python3.10/dist-packages (from onnxruntime>=1.14.1->chromadb!=0.5.4,!=0.5.5,<0.6.0,>=0.4.0->langchain-chroma) (1.13.1)\n",
            "Requirement already satisfied: deprecated>=1.2.6 in /usr/local/lib/python3.10/dist-packages (from opentelemetry-api>=1.2.0->chromadb!=0.5.4,!=0.5.5,<0.6.0,>=0.4.0->langchain-chroma) (1.2.14)\n",
            "Requirement already satisfied: importlib-metadata<=8.4.0,>=6.0 in /usr/local/lib/python3.10/dist-packages (from opentelemetry-api>=1.2.0->chromadb!=0.5.4,!=0.5.5,<0.6.0,>=0.4.0->langchain-chroma) (8.4.0)\n",
            "Requirement already satisfied: googleapis-common-protos~=1.52 in /usr/local/lib/python3.10/dist-packages (from opentelemetry-exporter-otlp-proto-grpc>=1.2.0->chromadb!=0.5.4,!=0.5.5,<0.6.0,>=0.4.0->langchain-chroma) (1.65.0)\n",
            "Requirement already satisfied: opentelemetry-exporter-otlp-proto-common==1.27.0 in /usr/local/lib/python3.10/dist-packages (from opentelemetry-exporter-otlp-proto-grpc>=1.2.0->chromadb!=0.5.4,!=0.5.5,<0.6.0,>=0.4.0->langchain-chroma) (1.27.0)\n",
            "Requirement already satisfied: opentelemetry-proto==1.27.0 in /usr/local/lib/python3.10/dist-packages (from opentelemetry-exporter-otlp-proto-grpc>=1.2.0->chromadb!=0.5.4,!=0.5.5,<0.6.0,>=0.4.0->langchain-chroma) (1.27.0)\n",
            "Requirement already satisfied: opentelemetry-instrumentation-asgi==0.48b0 in /usr/local/lib/python3.10/dist-packages (from opentelemetry-instrumentation-fastapi>=0.41b0->chromadb!=0.5.4,!=0.5.5,<0.6.0,>=0.4.0->langchain-chroma) (0.48b0)\n",
            "Requirement already satisfied: opentelemetry-instrumentation==0.48b0 in /usr/local/lib/python3.10/dist-packages (from opentelemetry-instrumentation-fastapi>=0.41b0->chromadb!=0.5.4,!=0.5.5,<0.6.0,>=0.4.0->langchain-chroma) (0.48b0)\n",
            "Requirement already satisfied: opentelemetry-semantic-conventions==0.48b0 in /usr/local/lib/python3.10/dist-packages (from opentelemetry-instrumentation-fastapi>=0.41b0->chromadb!=0.5.4,!=0.5.5,<0.6.0,>=0.4.0->langchain-chroma) (0.48b0)\n",
            "Requirement already satisfied: opentelemetry-util-http==0.48b0 in /usr/local/lib/python3.10/dist-packages (from opentelemetry-instrumentation-fastapi>=0.41b0->chromadb!=0.5.4,!=0.5.5,<0.6.0,>=0.4.0->langchain-chroma) (0.48b0)\n",
            "Requirement already satisfied: setuptools>=16.0 in /usr/local/lib/python3.10/dist-packages (from opentelemetry-instrumentation==0.48b0->opentelemetry-instrumentation-fastapi>=0.41b0->chromadb!=0.5.4,!=0.5.5,<0.6.0,>=0.4.0->langchain-chroma) (75.1.0)\n",
            "Requirement already satisfied: wrapt<2.0.0,>=1.0.0 in /usr/local/lib/python3.10/dist-packages (from opentelemetry-instrumentation==0.48b0->opentelemetry-instrumentation-fastapi>=0.41b0->chromadb!=0.5.4,!=0.5.5,<0.6.0,>=0.4.0->langchain-chroma) (1.16.0)\n",
            "Requirement already satisfied: asgiref~=3.0 in /usr/local/lib/python3.10/dist-packages (from opentelemetry-instrumentation-asgi==0.48b0->opentelemetry-instrumentation-fastapi>=0.41b0->chromadb!=0.5.4,!=0.5.5,<0.6.0,>=0.4.0->langchain-chroma) (3.8.1)\n",
            "Requirement already satisfied: monotonic>=1.5 in /usr/local/lib/python3.10/dist-packages (from posthog>=2.4.0->chromadb!=0.5.4,!=0.5.5,<0.6.0,>=0.4.0->langchain-chroma) (1.6)\n",
            "Requirement already satisfied: backoff>=1.10.0 in /usr/local/lib/python3.10/dist-packages (from posthog>=2.4.0->chromadb!=0.5.4,!=0.5.5,<0.6.0,>=0.4.0->langchain-chroma) (2.2.1)\n",
            "Requirement already satisfied: markdown-it-py>=2.2.0 in /usr/local/lib/python3.10/dist-packages (from rich>=10.11.0->chromadb!=0.5.4,!=0.5.5,<0.6.0,>=0.4.0->langchain-chroma) (3.0.0)\n",
            "Requirement already satisfied: pygments<3.0.0,>=2.13.0 in /usr/local/lib/python3.10/dist-packages (from rich>=10.11.0->chromadb!=0.5.4,!=0.5.5,<0.6.0,>=0.4.0->langchain-chroma) (2.18.0)\n",
            "Requirement already satisfied: exceptiongroup in /usr/local/lib/python3.10/dist-packages (from anyio->httpx<1,>=0.25.2->langchain-mistralai) (1.2.2)\n",
            "Requirement already satisfied: click>=8.0.0 in /usr/local/lib/python3.10/dist-packages (from typer>=0.9.0->chromadb!=0.5.4,!=0.5.5,<0.6.0,>=0.4.0->langchain-chroma) (8.1.7)\n",
            "Requirement already satisfied: shellingham>=1.3.0 in /usr/local/lib/python3.10/dist-packages (from typer>=0.9.0->chromadb!=0.5.4,!=0.5.5,<0.6.0,>=0.4.0->langchain-chroma) (1.5.4)\n",
            "Requirement already satisfied: mypy-extensions>=0.3.0 in /usr/local/lib/python3.10/dist-packages (from typing-inspect<1,>=0.4.0->dataclasses-json<0.7,>=0.5.7->langchain-community) (1.0.0)\n",
            "Requirement already satisfied: httptools>=0.5.0 in /usr/local/lib/python3.10/dist-packages (from uvicorn[standard]>=0.18.3->chromadb!=0.5.4,!=0.5.5,<0.6.0,>=0.4.0->langchain-chroma) (0.6.4)\n",
            "Requirement already satisfied: uvloop!=0.15.0,!=0.15.1,>=0.14.0 in /usr/local/lib/python3.10/dist-packages (from uvicorn[standard]>=0.18.3->chromadb!=0.5.4,!=0.5.5,<0.6.0,>=0.4.0->langchain-chroma) (0.21.0)\n",
            "Requirement already satisfied: watchfiles>=0.13 in /usr/local/lib/python3.10/dist-packages (from uvicorn[standard]>=0.18.3->chromadb!=0.5.4,!=0.5.5,<0.6.0,>=0.4.0->langchain-chroma) (0.24.0)\n",
            "Requirement already satisfied: websockets>=10.4 in /usr/local/lib/python3.10/dist-packages (from uvicorn[standard]>=0.18.3->chromadb!=0.5.4,!=0.5.5,<0.6.0,>=0.4.0->langchain-chroma) (12.0)\n",
            "Requirement already satisfied: propcache>=0.2.0 in /usr/local/lib/python3.10/dist-packages (from yarl<2.0,>=1.12.0->aiohttp<4.0.0,>=3.8.3->langchain-community) (0.2.0)\n",
            "Requirement already satisfied: cachetools<6.0,>=2.0.0 in /usr/local/lib/python3.10/dist-packages (from google-auth>=1.0.1->kubernetes>=28.1.0->chromadb!=0.5.4,!=0.5.5,<0.6.0,>=0.4.0->langchain-chroma) (5.5.0)\n",
            "Requirement already satisfied: pyasn1-modules>=0.2.1 in /usr/local/lib/python3.10/dist-packages (from google-auth>=1.0.1->kubernetes>=28.1.0->chromadb!=0.5.4,!=0.5.5,<0.6.0,>=0.4.0->langchain-chroma) (0.4.1)\n",
            "Requirement already satisfied: rsa<5,>=3.1.4 in /usr/local/lib/python3.10/dist-packages (from google-auth>=1.0.1->kubernetes>=28.1.0->chromadb!=0.5.4,!=0.5.5,<0.6.0,>=0.4.0->langchain-chroma) (4.9)\n",
            "Requirement already satisfied: zipp>=0.5 in /usr/local/lib/python3.10/dist-packages (from importlib-metadata<=8.4.0,>=6.0->opentelemetry-api>=1.2.0->chromadb!=0.5.4,!=0.5.5,<0.6.0,>=0.4.0->langchain-chroma) (3.20.2)\n",
            "Requirement already satisfied: mdurl~=0.1 in /usr/local/lib/python3.10/dist-packages (from markdown-it-py>=2.2.0->rich>=10.11.0->chromadb!=0.5.4,!=0.5.5,<0.6.0,>=0.4.0->langchain-chroma) (0.1.2)\n",
            "Requirement already satisfied: humanfriendly>=9.1 in /usr/local/lib/python3.10/dist-packages (from coloredlogs->onnxruntime>=1.14.1->chromadb!=0.5.4,!=0.5.5,<0.6.0,>=0.4.0->langchain-chroma) (10.0)\n",
            "Requirement already satisfied: mpmath<1.4,>=1.1.0 in /usr/local/lib/python3.10/dist-packages (from sympy->onnxruntime>=1.14.1->chromadb!=0.5.4,!=0.5.5,<0.6.0,>=0.4.0->langchain-chroma) (1.3.0)\n",
            "Requirement already satisfied: pyasn1<0.7.0,>=0.4.6 in /usr/local/lib/python3.10/dist-packages (from pyasn1-modules>=0.2.1->google-auth>=1.0.1->kubernetes>=28.1.0->chromadb!=0.5.4,!=0.5.5,<0.6.0,>=0.4.0->langchain-chroma) (0.6.1)\n"
          ]
        }
      ],
      "source": [
        "!pip install -U langchain-core langchain-mistralai langchain-community langchain-chroma"
      ]
    },
    {
      "cell_type": "markdown",
      "metadata": {
        "id": "Ll_ToC8h5qxm"
      },
      "source": [
        "# Imports.\n"
      ]
    },
    {
      "cell_type": "code",
      "execution_count": 3,
      "metadata": {
        "id": "G87WPagmQipG"
      },
      "outputs": [],
      "source": [
        "import json\n",
        "from langchain_core.messages import HumanMessage, SystemMessage, AIMessage\n",
        "from langchain_mistralai.chat_models import ChatMistralAI\n",
        "\n",
        "from langchain_core.globals import set_verbose, set_debug\n",
        "set_verbose(False)\n",
        "set_debug(False)\n",
        "\n",
        "import logging\n",
        "logging.getLogger().setLevel(logging.ERROR)\n",
        "\n",
        "import warnings\n",
        "warnings.filterwarnings(\"ignore\")"
      ]
    },
    {
      "cell_type": "markdown",
      "metadata": {
        "id": "6kQVM2DC-5AZ"
      },
      "source": [
        "## Getting started.\n",
        "\n",
        "- https://docs.mistral.ai/getting-started/models/"
      ]
    },
    {
      "cell_type": "code",
      "execution_count": 4,
      "metadata": {
        "id": "_ILPGkwUQn-Z",
        "colab": {
          "base_uri": "https://localhost:8080/"
        },
        "outputId": "9553f20b-d4d2-40dc-9213-257d4a9fe97f"
      },
      "outputs": [
        {
          "output_type": "stream",
          "name": "stdout",
          "text": [
            "In the realm of hearts, where love does dwell,\n",
            "Liebe, the purest form, weaves its magic spell.\n",
            "A tender touch, a whisper soft and light,\n",
            "Ignites a fire that burns through endless night.\n",
            "\n",
            "Two souls entwined in a passionate dance,\n",
            "Sharing dreams, encircled in a romantic trance.\n",
            "The symphony of love plays an enchanting tune,\n",
            "Underneath the moon's gentle silver bloom.\n",
            "\n",
            "Liebe transcends boundaries, knows no limits,\n",
            "Fuels the bravest hearts, calms the wildest spirits.\n",
            "It breaks down walls and fears that once divided,\n",
            "Creates a bond so strong, it can never be derided.\n",
            "\n",
            "In the quiet moments or amidst life's storm,\n",
            "Love remains steadfast, a protective uniform.\n",
            "A sanctuary, a refuge, a soothing balm,\n",
            "Healing wounds, mending hearts that were once harmed.\n",
            "\n",
            "Liebe, a language spoken by every heart,\n",
            "A symphony, a masterpiece, a timeless work of art.\n",
            "Through laughter, tears, and challenges we face,\n",
            "May love guide us all to an infinite embrace.\n"
          ]
        }
      ],
      "source": [
        "llm = ChatMistralAI(\n",
        "    api_key=api_key,\n",
        "    model=\"mistral-medium-latest\"\n",
        ")\n",
        "\n",
        "messages = [\n",
        "    SystemMessage(\n",
        "        content=\"You are a friendly AI assistant that speaks English but sometimes uses German words.\"\n",
        "    ),\n",
        "    HumanMessage(\n",
        "        content=\"Write a poem about love.\"\n",
        "    )\n",
        "]\n",
        "result = llm.invoke(messages)\n",
        "print(result.content)"
      ]
    },
    {
      "cell_type": "code",
      "execution_count": 5,
      "metadata": {
        "id": "RJsAgzcABH5F",
        "colab": {
          "base_uri": "https://localhost:8080/"
        },
        "outputId": "62c43fff-e1a9-4f37-a2cb-0c3ccf0abdf7"
      },
      "outputs": [
        {
          "output_type": "stream",
          "name": "stdout",
          "text": [
            "{\n",
            "    \"token_usage\": {\n",
            "        \"prompt_tokens\": 33,\n",
            "        \"total_tokens\": 312,\n",
            "        \"completion_tokens\": 279\n",
            "    },\n",
            "    \"model\": \"mistral-medium-latest\",\n",
            "    \"finish_reason\": \"stop\"\n",
            "}\n"
          ]
        }
      ],
      "source": [
        "print(json.dumps(result.response_metadata, indent=4))"
      ]
    },
    {
      "cell_type": "markdown",
      "metadata": {
        "id": "emLJ8nkc_qQw"
      },
      "source": [
        "## Use streaming."
      ]
    },
    {
      "cell_type": "code",
      "execution_count": 6,
      "metadata": {
        "id": "P_B5PHfs-4kX",
        "colab": {
          "base_uri": "https://localhost:8080/"
        },
        "outputId": "c6679461-4969-4623-9edf-41ecf2bcc18f"
      },
      "outputs": [
        {
          "output_type": "stream",
          "name": "stdout",
          "text": [
            "In the realm of the heart, where love plays its part,\n",
            "Liebe, the German word, carries a special art.\n",
            "A feeling so profound, it knows no bounds,\n",
            "Transcending languages, in every corner found.\n",
            "\n",
            "Liebe is the whisper in the quiet night,\n",
            "A beacon of hope, in dark's plight.\n",
            "It's the gentle touch, that sets hearts alight,\n",
            "A symphony of emotions, dancing in delight.\n",
            "\n",
            "In the canvas of the soul, love paints its hue,\n",
            "A masterpiece of feelings, forever new.\n",
            "Through joy and sorrow, it remains true,\n",
            "A testament of devotion, from me to you.\n",
            "\n",
            "So let's cherish this Liebe, pure and bright,\n",
            "Hold it close, with all our might.\n",
            "For in this journey of love, day and night,\n",
            "Together, we'll make everything just right."
          ]
        }
      ],
      "source": [
        "async for chunk in llm.astream(messages):\n",
        "    print(chunk.content, end=\"\", flush=True)"
      ]
    },
    {
      "cell_type": "markdown",
      "metadata": {
        "id": "i0e1F1TWHt5M"
      },
      "source": [
        "## Translation"
      ]
    },
    {
      "cell_type": "code",
      "execution_count": 7,
      "metadata": {
        "id": "44W0B6uZTpa4",
        "colab": {
          "base_uri": "https://localhost:8080/",
          "height": 237
        },
        "outputId": "cd7315c3-aa83-4fbe-9eb1-1ee231e15c04"
      },
      "outputs": [
        {
          "output_type": "execute_result",
          "data": {
            "text/plain": [
              "'The man is free when he wants to be.\\n\\n<ul>\\n<li>L\\'homme: This is French for \"the man\" or \"man\" in general.</li>\\n<li>est: This is the third person singular form of the verb \"être\" which means \"to be\" in English.</li>\\n<li>libre: This is an adjective that means \"free\" in English.</li>\\n<li>au moment qu\\'il veut l\\'être: This is a French expression that can be translated to \"when he wants to be\" in English. It is made up of several parts: \"au moment\" means \"at the moment\", \"qu\\'\" is a relative pronoun that can be translated to \"that\" in English, \"il veut\" is the third person singular form of the verb \"vouloir\" which means \"to want\" in English, and \"l\\'être\" is the infinitive form of the verb \"être\" which means \"to be\" in English.</li>\\n</ul>\\n\\nOverall, the sentence \"L\\'homme est libre au moment qu\\'il veut l\\'être\" can be translated to \"The man is free when he wants to be\" in English. It expresses the idea that freedom is a choice and that a person can be free if they want to be.'"
            ],
            "application/vnd.google.colaboratory.intrinsic+json": {
              "type": "string"
            }
          },
          "metadata": {},
          "execution_count": 7
        }
      ],
      "source": [
        "messages = [\n",
        "    SystemMessage(\n",
        "        content=\"\"\n",
        "            \"You are a friendly AI assistant.\"\n",
        "            \" Your specialty are great translations. Answer with the translation first. And then explain it in detail. Explanation as a bulleted list please. Use HTML tags.\"\n",
        "    ),\n",
        "    HumanMessage(\n",
        "        content=\"\"\n",
        "            \"L'homme est libre au moment qu'il veut l'être.\"\n",
        "        )\n",
        "]\n",
        "result = llm.invoke(messages)\n",
        "result.content"
      ]
    },
    {
      "cell_type": "code",
      "source": [
        "print(result.content)"
      ],
      "metadata": {
        "id": "eYQ0v_5OlK3E",
        "colab": {
          "base_uri": "https://localhost:8080/"
        },
        "outputId": "d3b030e7-b409-4e79-ec3e-dba53977c9b1"
      },
      "execution_count": 8,
      "outputs": [
        {
          "output_type": "stream",
          "name": "stdout",
          "text": [
            "The man is free when he wants to be.\n",
            "\n",
            "<ul>\n",
            "<li>L'homme: This is French for \"the man\" or \"man\" in general.</li>\n",
            "<li>est: This is the third person singular form of the verb \"être\" which means \"to be\" in English.</li>\n",
            "<li>libre: This is an adjective that means \"free\" in English.</li>\n",
            "<li>au moment qu'il veut l'être: This is a French expression that can be translated to \"when he wants to be\" in English. It is made up of several parts: \"au moment\" means \"at the moment\", \"qu'\" is a relative pronoun that can be translated to \"that\" in English, \"il veut\" is the third person singular form of the verb \"vouloir\" which means \"to want\" in English, and \"l'être\" is the infinitive form of the verb \"être\" which means \"to be\" in English.</li>\n",
            "</ul>\n",
            "\n",
            "Overall, the sentence \"L'homme est libre au moment qu'il veut l'être\" can be translated to \"The man is free when he wants to be\" in English. It expresses the idea that freedom is a choice and that a person can be free if they want to be.\n"
          ]
        }
      ]
    },
    {
      "cell_type": "markdown",
      "metadata": {
        "id": "eKy5M8CwU9R5"
      },
      "source": [
        "## Chain example: Parsing."
      ]
    },
    {
      "cell_type": "code",
      "execution_count": 9,
      "metadata": {
        "id": "rtMwq7dSU_cL",
        "colab": {
          "base_uri": "https://localhost:8080/"
        },
        "outputId": "6d1bd8ad-4556-4b94-a98c-90a8dedeaf63"
      },
      "outputs": [
        {
          "output_type": "stream",
          "name": "stdout",
          "text": [
            "content='The man is free when he wants to be.\\n\\n<ul>\\n<li>L\\'homme - This is French for \"the man\".</li>\\n<li>est - This is the third person singular form of the verb \"être\" which means \"to be\" in English.</li>\\n<li>libre - This is an adjective that means \"free\" in English.</li>\\n<li>au moment - This is a French expression that means \"at the moment\" or \"when\".</li>\\n<li>qu\\'il veut - This is a subordinate clause that means \"that he wants\" in English. The word \"qu\\'\" is a relative pronoun that can be translated as \"that\" or \"which\". The verb \"vouloir\" means \"to want\" in English.</li>\\n<li>l\\'être - This is a infinitive form of the verb \"être\" which means \"to be\" in English. Here, it functions as the complement of the verb \"vouloir\" and can be translated as \"to be\".</li>\\n</ul>\\n\\nOverall, the sentence can be translated to \"The man is free when he wants to be\". The sentence is expressing the idea that freedom is a state of mind and that a person can choose to be free at any moment.' additional_kwargs={} response_metadata={'token_usage': {'prompt_tokens': 69, 'total_tokens': 358, 'completion_tokens': 289}, 'model': 'mistral-medium-latest', 'finish_reason': 'stop'} id='run-19b00be6-4082-4fbb-8122-3f5dc2d0f01b-0' usage_metadata={'input_tokens': 69, 'output_tokens': 289, 'total_tokens': 358}\n",
            "The man is free when he wants to be.\n",
            "\n",
            "<ul>\n",
            "<li>L'homme - This is French for \"the man\".</li>\n",
            "<li>est - This is the third person singular form of the verb \"être\" which means \"to be\" in English.</li>\n",
            "<li>libre - This is an adjective that means \"free\" in English.</li>\n",
            "<li>au moment - This is a French expression that means \"at the moment\" or \"when\".</li>\n",
            "<li>qu'il veut - This is a subordinate clause that means \"that he wants\" in English. The word \"qu'\" is a relative pronoun that can be translated as \"that\" or \"which\". The verb \"vouloir\" means \"to want\" in English.</li>\n",
            "<li>l'être - This is a infinitive form of the verb \"être\" which means \"to be\" in English. Here, it functions as the complement of the verb \"vouloir\" and can be translated as \"to be\".</li>\n",
            "</ul>\n",
            "\n",
            "Overall, the sentence can be translated to \"The man is free when he wants to be\". The sentence is expressing the idea that freedom is a state of mind and that a person can choose to be free at any moment.\n"
          ]
        }
      ],
      "source": [
        "from langchain_core.output_parsers import StrOutputParser\n",
        "\n",
        "parser = StrOutputParser()\n",
        "\n",
        "result = llm.invoke(messages)\n",
        "print(result)\n",
        "parsed_result = parser.invoke(result)\n",
        "print(parsed_result)"
      ]
    },
    {
      "cell_type": "code",
      "execution_count": 10,
      "metadata": {
        "id": "91XgS0i9VQgm",
        "colab": {
          "base_uri": "https://localhost:8080/",
          "height": 182
        },
        "outputId": "29252ff0-d509-41f1-df92-4496e4148420"
      },
      "outputs": [
        {
          "output_type": "execute_result",
          "data": {
            "text/plain": [
              "'The man is free when he wants to be.\\n\\n<ul>\\n<li><strong>L\\'homme est libre:</strong> This translates to \"the man is free\". In French, \"l\\'homme\" means \"the man\" and \"est libre\" means \"is free\".</li>\\n<li><strong>au moment qu\\'il veut l\\'être:</strong> This phrase translates to \"when he wants to be\". In French, \"au moment\" means \"at the moment\" and \"qu\\'il veut l\\'être\" means \"that he wants to be\".</li>\\n</ul>\\n\\nSo the full translation of \"L\\'homme est libre au moment qu\\'il veut l\\'être\" is \"The man is free when he wants to be\". This can be interpreted as the idea that freedom is a choice and a man can choose to be free when he wants to. It suggests that true freedom comes from within and is not dependent on external circumstances.'"
            ],
            "application/vnd.google.colaboratory.intrinsic+json": {
              "type": "string"
            }
          },
          "metadata": {},
          "execution_count": 10
        }
      ],
      "source": [
        "chain = llm | parser\n",
        "chain.invoke(messages)"
      ]
    },
    {
      "cell_type": "markdown",
      "metadata": {
        "id": "b4ielLqj5kpX"
      },
      "source": [
        "## Summarization.\n",
        "\n",
        "https://python.langchain.com/v0.1/docs/modules/data_connection/document_loaders/"
      ]
    },
    {
      "cell_type": "code",
      "execution_count": 11,
      "metadata": {
        "id": "YSyd4Tjl8BIJ",
        "colab": {
          "base_uri": "https://localhost:8080/"
        },
        "outputId": "0a7b64de-c506-4d5c-bb1d-35fbdb3486ed"
      },
      "outputs": [
        {
          "output_type": "stream",
          "name": "stdout",
          "text": [
            "--2024-10-24 14:55:05--  https://raw.githubusercontent.com/vilmibm/lovecraftcorpus/master/ulthar.txt\n",
            "Resolving raw.githubusercontent.com (raw.githubusercontent.com)... 185.199.108.133, 185.199.109.133, 185.199.110.133, ...\n",
            "Connecting to raw.githubusercontent.com (raw.githubusercontent.com)|185.199.108.133|:443... connected.\n",
            "HTTP request sent, awaiting response... 200 OK\n",
            "Length: 7351 (7.2K) [text/plain]\n",
            "Saving to: ‘ulthar.txt.1’\n",
            "\n",
            "ulthar.txt.1        100%[===================>]   7.18K  --.-KB/s    in 0s      \n",
            "\n",
            "2024-10-24 14:55:06 (55.4 MB/s) - ‘ulthar.txt.1’ saved [7351/7351]\n",
            "\n"
          ]
        }
      ],
      "source": [
        "# Get a file.\n",
        "!wget https://raw.githubusercontent.com/vilmibm/lovecraftcorpus/master/ulthar.txt"
      ]
    },
    {
      "cell_type": "code",
      "execution_count": 12,
      "metadata": {
        "id": "HXNmf09G8C9n",
        "colab": {
          "base_uri": "https://localhost:8080/",
          "height": 237
        },
        "outputId": "9fb26bc9-ebe4-4fd3-e561-b06234f3443e"
      },
      "outputs": [
        {
          "output_type": "execute_result",
          "data": {
            "text/plain": [
              "'\"The Cats of Ulthar\" is a short story by H.P. Lovecraft. It takes place in the town of Ulthar, where the inhabitants are forbidden from killing cats. The story explains the origin of this law.\\n\\nThe story begins by describing the mysterious nature of cats and their connection to ancient civilizations. In Ulthar, an old couple used to trap and kill their neighbors\\' cats, much to the disapproval of the townspeople.\\n\\nOne day, a caravan of dark-skinned travelers arrived in Ulthar. They had strange customs and painted images of cats, hawks, rams, and lions on their wagons. A little boy named Menes in the caravan had a black kitten, which was his only source of comfort after losing his parents to the plague.\\n\\nWhen Menes\\'s kitten went missing, the townspeople told him about the old couple and their habit of killing cats. Menes prayed to the sun for the safe return of his kitten, and that night, all the cats in Ulthar mysteriously disappeared.\\n\\nThe next day, the caravan left Ulthar, and all the cats reappeared in their homes, looking well-fed and content. However, the old couple was nowhere to be found. A week later, the townspeople discovered their cleanly picked skeletons in their cottage, along with strange beetles crawling in the corners.\\n\\nThe burgesses of Ulthar then passed the law that no man may kill a cat, and the story concludes by saying that this law is still discussed by travelers in the region.\\n\\nIn summary, \"The Cats of Ulthar\" is a tale about the mysterious power of cats and the consequences of harming them. The story explains the origin of a unique law in the town of Ulthar and shows how the townspeople are deeply connected to their feline companions.'"
            ],
            "application/vnd.google.colaboratory.intrinsic+json": {
              "type": "string"
            }
          },
          "metadata": {},
          "execution_count": 12
        }
      ],
      "source": [
        "from langchain_community.document_loaders import TextLoader\n",
        "\n",
        "loader = TextLoader(\"ulthar.txt\")\n",
        "documents = loader.load()\n",
        "\n",
        "first_document_content = documents[0].page_content\n",
        "\n",
        "summary_prompt = f\"Please summarize the following document:\\n\\n{first_document_content}\"\n",
        "messages = [\n",
        "    SystemMessage(\n",
        "        content=\"You are a friendly AI assistant that speaks English.\"\n",
        "                \"You write really good summaries.\"\n",
        "                \"You sometimes use bulleted lists but not all the time.\"\n",
        "    ),\n",
        "    HumanMessage(content=summary_prompt)\n",
        "]\n",
        "\n",
        "chain = llm | parser\n",
        "summary = chain.invoke(messages)\n",
        "summary"
      ]
    },
    {
      "cell_type": "markdown",
      "metadata": {
        "id": "oddbPE6sgfud"
      },
      "source": [
        "## Advanced summarization."
      ]
    },
    {
      "cell_type": "code",
      "execution_count": 13,
      "metadata": {
        "id": "FUX7Mt06gfBz",
        "colab": {
          "base_uri": "https://localhost:8080/",
          "height": 145
        },
        "outputId": "1d66f583-e798-48be-cd16-e95f5010e3ba"
      },
      "outputs": [
        {
          "output_type": "execute_result",
          "data": {
            "text/plain": [
              "\"In the town of Ulthar, a law prohibits killing cats due to their supposed mystical significance. When an old couple defies this by killing neighbors' cats, the arrival of a caravan with a boy named Menes and his black kitten triggers strange events. After the kitten disappears, presumably killed by the old couple, Menes prays to the sun, causing all cats in Ulthar to vanish for a night. Once the cats return, appearing well-fed, the old couple is found dead with clean skeletons. The villagers enact a law banning cat killing, which still stands.\""
            ],
            "application/vnd.google.colaboratory.intrinsic+json": {
              "type": "string"
            }
          },
          "metadata": {},
          "execution_count": 13
        }
      ],
      "source": [
        "from langchain.chains.summarize import load_summarize_chain\n",
        "\n",
        "chain = load_summarize_chain(llm, chain_type=\"map_reduce\")\n",
        "summary = chain.invoke(documents)[\"output_text\"]\n",
        "summary"
      ]
    },
    {
      "cell_type": "code",
      "execution_count": 14,
      "metadata": {
        "id": "gx0XsuIKhMe_",
        "colab": {
          "base_uri": "https://localhost:8080/",
          "height": 182
        },
        "outputId": "682b1ee1-5da8-4632-d32b-d5c43c168973"
      },
      "outputs": [
        {
          "output_type": "execute_result",
          "data": {
            "text/plain": [
              "\"In the town of Ulthar, a law was passed forbidding the killing of cats. This law came about due to the actions of an old couple who trapped and killed their neighbors' cats. When a caravan of strange wanderers arrived in Ulthar, a young boy named Menes, who had recently lost his parents to plague, befriended a black kitten. However, the old couple killed the kitten, and in response, Menes prayed to the cat gods for revenge. The next morning, all the cats in Ulthar had vanished, and when they returned a week later, they refused to eat. A few weeks later, the old couple was found dead, their skeletons picked clean. The villagers concluded that the cats had taken revenge on the old couple, and passed a law protecting them.\""
            ],
            "application/vnd.google.colaboratory.intrinsic+json": {
              "type": "string"
            }
          },
          "metadata": {},
          "execution_count": 14
        }
      ],
      "source": [
        "chain = load_summarize_chain(llm, chain_type=\"stuff\")\n",
        "summary = chain.invoke(documents)[\"output_text\"]\n",
        "summary"
      ]
    },
    {
      "cell_type": "code",
      "execution_count": 15,
      "metadata": {
        "id": "0FKZ_gnIhOFu",
        "colab": {
          "base_uri": "https://localhost:8080/",
          "height": 164
        },
        "outputId": "2353b70e-cb1b-4954-9b10-3661df5e5cb3"
      },
      "outputs": [
        {
          "output_type": "execute_result",
          "data": {
            "text/plain": [
              "'In the town of Ulthar, it is forbidden to kill cats due This law came about due a old couple who enjoyed trapping and killing cats mysteriously disappeared. One day, a caravan of strange wanderers arrived, Ul with and a young boy named Menes from the groupavan lost his kitten go missing. The villagers believed it was the work couple who took it, Men response, Menes prayed to the gods for justice safe return of his kitten. So night, all the cats in thethar disappeared and returnedappeared the next morning, well-fed and content. A week later, the old couple was found dead in their homeottage. their bones picked clean. The villagers then passed a law forbing cats.'"
            ],
            "application/vnd.google.colaboratory.intrinsic+json": {
              "type": "string"
            }
          },
          "metadata": {},
          "execution_count": 15
        }
      ],
      "source": [
        "chain = load_summarize_chain(llm, chain_type=\"refine\")\n",
        "summary = chain.invoke(documents)[\"output_text\"]\n",
        "summary"
      ]
    },
    {
      "cell_type": "markdown",
      "metadata": {
        "id": "FVF7Yc-lAtK7"
      },
      "source": [
        "## Structured output."
      ]
    },
    {
      "cell_type": "code",
      "execution_count": 16,
      "metadata": {
        "id": "bO-Os0Ao_8Hz",
        "colab": {
          "base_uri": "https://localhost:8080/"
        },
        "outputId": "4104521c-fac4-49a0-abd1-53ec45041fb6"
      },
      "outputs": [
        {
          "output_type": "stream",
          "name": "stdout",
          "text": [
            "{\n",
            "    \"Characters\": [\n",
            "        {\n",
            "            \"name\": \"The Cat\",\n",
            "            \"description\": \"Cryptic and close to strange things which men cannot see. Bearer of tales from forgotten cities in Meroe and Ophir. Kin of the jungle's lords and heir to the secrets of hoary and sinister Africa. More ancient than the Sphinx and remembers that which she hath forgotten.\"\n",
            "        },\n",
            "        {\n",
            "            \"name\": \"Old Cotter\",\n",
            "            \"description\": \"An old man who lived in Ulthar with his wife. They delighted in trapping and slaying their neighbors' cats. Their cottage was hidden under spreading oaks at the back of a neglected yard.\"\n",
            "        },\n",
            "        {\n",
            "            \"name\": \"Old Cotter's Wife\",\n",
            "            \"description\": \"Wife of the old cotter. She also delighted in trapping and slaying their neighbors' cats.\"\n",
            "        },\n",
            "        {\n",
            "            \"name\": \"Menes\",\n",
            "            \"description\": \"A little boy with no father or mother, traveling with a caravan of dark wanderers from the South. He had a tiny black kitten to cherish.\"\n",
            "        },\n",
            "        {\n",
            "            \"name\": \"Kranon\",\n",
            "            \"description\": \"The burgomaster of Ulthar. He swore that the dark folk had taken the cats away in revenge for the killing of Menes' kitten.\"\n",
            "        },\n",
            "        {\n",
            "            \"name\": \"Nith\",\n",
            "            \"description\": \"The lean notary of Ulthar. He declared that the old cotter and his wife were more likely persons to suspect for the disappearance of the cats.\"\n",
            "        },\n",
            "        {\n",
            "            \"name\": \"Atal\",\n",
            "            \"description\": \"The innkeeper's son. He vowed that he had seen all the cats of Ulthar in the accursed yard under the trees, pacing very slowly and solemnly in a circle around the cottage.\"\n",
            "        },\n",
            "        {\n",
            "            \"name\": \"Zath\",\n",
            "            \"description\": \"The coroner of Ulthar. He disputed at length with Nith, the lean notary, about the events that took place in the cottage under the dark trees in the repellent yard.\"\n",
            "        }\n",
            "    ]\n",
            "}\n"
          ]
        }
      ],
      "source": [
        "import json\n",
        "from langchain_core.output_parsers import JsonOutputParser\n",
        "\n",
        "messages = [\n",
        "    SystemMessage(\n",
        "        content=\"You are a friendly AI assistant that speaks English.\"\n",
        "                \"Your specialty is extracting structured output in JSON.\"\n",
        "    ),\n",
        "    HumanMessage(\n",
        "        content=f\"List all the characters and what you know about them as JSON:\\n\\n{first_document_content}\"\n",
        "    )\n",
        "]\n",
        "\n",
        "chain = llm | JsonOutputParser()\n",
        "structured_output = chain.invoke(messages)\n",
        "print(json.dumps(structured_output, indent=4))"
      ]
    },
    {
      "cell_type": "markdown",
      "metadata": {
        "id": "kvNLqeDtiNwV"
      },
      "source": [
        "## Advanced structured output with Pydantic\n",
        "\n",
        "- https://docs.pydantic.dev/latest/"
      ]
    },
    {
      "cell_type": "code",
      "execution_count": 17,
      "metadata": {
        "id": "aUYWTaGLiTax",
        "colab": {
          "base_uri": "https://localhost:8080/"
        },
        "outputId": "a5afd766-2792-4992-c028-2e7f642984bc"
      },
      "outputs": [
        {
          "output_type": "stream",
          "name": "stdout",
          "text": [
            "persons=[Person(first_name='Menes', last_name='', known_facts='Lost his black kitten and prayed for its return. The villagers of Ulthar noticed that no cats were to be found after his prayer, but all the cats returned the next day, refusing to eat or drink. The old cotter and his wife were found dead in their cottage, with their bones cleanly picked.')]\n",
            "\n",
            "{\n",
            "    \"persons\": [\n",
            "        {\n",
            "            \"first_name\": \"Menes\",\n",
            "            \"last_name\": \"\",\n",
            "            \"known_facts\": \"Lost his black kitten and prayed for its return. The villagers of Ulthar noticed that no cats were to be found after his prayer, but all the cats returned the next day, refusing to eat or drink. The old cotter and his wife were found dead in their cottage, with their bones cleanly picked.\"\n",
            "        }\n",
            "    ]\n",
            "}\n"
          ]
        }
      ],
      "source": [
        "from typing import List\n",
        "from pydantic import BaseModel\n",
        "from langchain.chains import create_extraction_chain_pydantic\n",
        "\n",
        "\n",
        "class Person(BaseModel):\n",
        "    first_name: str\n",
        "    last_name: str\n",
        "    known_facts: str\n",
        "\n",
        "class PersonGroup(BaseModel):\n",
        "    persons: List[Person]\n",
        "\n",
        "llm_small = ChatMistralAI(\n",
        "    api_key=api_key,\n",
        "    model=\"mistral-small-latest\" # Medium does not have function calling.\n",
        ")\n",
        "\n",
        "chain = llm_small.with_structured_output(PersonGroup)\n",
        "structured_output = chain.invoke(summary_prompt)\n",
        "print(structured_output)\n",
        "print()\n",
        "print(structured_output.model_dump_json(indent=4))"
      ]
    },
    {
      "cell_type": "markdown",
      "metadata": {
        "id": "0dnb95WT4gpF"
      },
      "source": [
        "## Classification."
      ]
    },
    {
      "cell_type": "code",
      "execution_count": 18,
      "metadata": {
        "id": "-EAqmg8B4hFx",
        "colab": {
          "base_uri": "https://localhost:8080/"
        },
        "outputId": "d7279ed1-2d35-4048-ecb5-5effac2fd97f"
      },
      "outputs": [
        {
          "output_type": "stream",
          "name": "stdout",
          "text": [
            "I absolutely love this new restaurant! The food is amazing, and the service is top-notch.\n",
            "{'sentiment': 'positive', 'aggressiveness': 0, 'language': 'english'}\n",
            "\n",
            "Le service client ici est terrible, et je ne reviendrai jamais.\n",
            "{'sentiment': 'negative', 'aggressiveness': 0, 'language': 'french'}\n",
            "\n",
            "Ich bin gleichgültig gegenüber der neuen Politik; sie betrifft mich nicht wirklich.\n",
            "{'sentiment': 'neutral', 'aggressiveness': 0, 'language': 'german'}\n",
            "\n",
            "Your recent actions were completely unacceptable, and they have consequences.\n",
            "{'sentiment': 'negative', 'aggressiveness': 3, 'language': 'english'}\n",
            "\n",
            "Quel beau jour ! Je me sens si heureux et en paix.\n",
            "{'sentiment': 'positive', 'aggressiveness': 0, 'language': 'french'}\n",
            "\n",
            "Die Art und Weise, wie Sie die Situation gehandhabt haben, war sehr enttäuschend und unprofessionell.\n",
            "{'sentiment': 'negative', 'aggressiveness': 2, 'language': 'german'}\n",
            "\n",
            "Creo que la presentación estuvo bien, pero podría mejorar.\n",
            "{'sentiment': 'negative', 'aggressiveness': 1, 'language': 'spanish'}\n",
            "\n",
            "You have no right to speak to me that way! It's utterly disrespectful.\n",
            "{'sentiment': 'negative', 'aggressiveness': 3, 'language': 'english'}\n",
            "\n",
            "Ce livre est très intéressant, et j'ai beaucoup aimé le lire.\n",
            "{'sentiment': 'positive', 'aggressiveness': 0, 'language': 'french'}\n",
            "\n",
            "Ihre Bemühungen bei dem Projekt waren bestenfalls mittelmäßig, und wir müssen das besprechen.\n",
            "{'sentiment': 'negative', 'aggressiveness': 1, 'language': 'german'}\n",
            "\n",
            "Hab SoSlI' Quch!\n",
            "{'sentiment': 'positive', 'aggressiveness': 2, 'language': 'other'}\n",
            "\n"
          ]
        }
      ],
      "source": [
        "from pydantic import BaseModel, Field\n",
        "\n",
        "\n",
        "class Classification(BaseModel):\n",
        "    sentiment: str = Field(\n",
        "        ...,\n",
        "        description=\"describes the sentiment of the statement\",\n",
        "        enum=[\"negative\", \"neutral\", \"positive\"]\n",
        "    )\n",
        "    aggressiveness: int = Field(\n",
        "        ...,\n",
        "        description=\"describes how aggressive the statement is, the higher the number the more aggressive\",\n",
        "        enum=[0, 1, 2, 3],\n",
        "    )\n",
        "    language: str = Field(\n",
        "        ...,\n",
        "        description=\"describes the language of the statement\",\n",
        "        enum=[\"english\", \"french\", \"german\", \"other\"]\n",
        "    )\n",
        "\n",
        "statements = [\n",
        "    \"I absolutely love this new restaurant! The food is amazing, and the service is top-notch.\",\n",
        "    \"Le service client ici est terrible, et je ne reviendrai jamais.\",\n",
        "    \"Ich bin gleichgültig gegenüber der neuen Politik; sie betrifft mich nicht wirklich.\",\n",
        "    \"Your recent actions were completely unacceptable, and they have consequences.\",\n",
        "    \"Quel beau jour ! Je me sens si heureux et en paix.\",\n",
        "    \"Die Art und Weise, wie Sie die Situation gehandhabt haben, war sehr enttäuschend und unprofessionell.\",\n",
        "    \"Creo que la presentación estuvo bien, pero podría mejorar.\",\n",
        "    \"You have no right to speak to me that way! It's utterly disrespectful.\",\n",
        "    \"Ce livre est très intéressant, et j'ai beaucoup aimé le lire.\",\n",
        "    \"Ihre Bemühungen bei dem Projekt waren bestenfalls mittelmäßig, und wir müssen das besprechen.\",\n",
        "    \"Hab SoSlI' Quch!\"\n",
        "]\n",
        "\n",
        "for statement in statements:\n",
        "    chain = llm_small.with_structured_output(Classification)\n",
        "    structured_output = chain.invoke(statement)\n",
        "    print(statement)\n",
        "    print(structured_output.dict())\n",
        "    print(\"\")"
      ]
    },
    {
      "cell_type": "markdown",
      "metadata": {
        "id": "MRHii9sOCE1V"
      },
      "source": [
        "## Tool use."
      ]
    },
    {
      "cell_type": "code",
      "execution_count": 19,
      "metadata": {
        "id": "NaF0q6CU9YGE",
        "colab": {
          "base_uri": "https://localhost:8080/"
        },
        "outputId": "a5384d99-c367-41fc-c921-775c21fa1e3e"
      },
      "outputs": [
        {
          "output_type": "stream",
          "name": "stdout",
          "text": [
            "sum_tool\n",
            "Sum up numbers.\n",
            "{'numbers': {'items': {}, 'title': 'Numbers', 'type': 'array'}}\n",
            "Expected: 1310383\n",
            "\n",
            "Without tools:\n",
            "content='To sum up the numbers provided, you simply add them together:\\n\\n42 + 308423 + 666 + 1000000 + 1729 - 1245 + 768 = 1312923\\n\\nSo, the sum of the numbers is 1,312,923.' additional_kwargs={} response_metadata={'token_usage': {'prompt_tokens': 96, 'total_tokens': 182, 'completion_tokens': 86}, 'model': 'mistral-small-latest', 'finish_reason': 'stop'} id='run-50eb0d2a-af84-4671-b24c-5bca03604866-0' usage_metadata={'input_tokens': 96, 'output_tokens': 86, 'total_tokens': 182}\n",
            "\n",
            "With tools:\n",
            "content='' additional_kwargs={'tool_calls': [{'id': 'wtAfo4JQ3', 'type': 'function', 'function': {'name': 'sum_tool', 'arguments': '{\"numbers\": [42, 308423, 666, 1000000, 1729, -1245, 768]}'}}]} response_metadata={'token_usage': {'prompt_tokens': 160, 'total_tokens': 222, 'completion_tokens': 62}, 'model': 'mistral-small-latest', 'finish_reason': 'tool_calls'} id='run-512e0a8a-5fc2-447d-aca0-a7df9549f08a-0' tool_calls=[{'name': 'sum_tool', 'args': {'numbers': [42, 308423, 666, 1000000, 1729, -1245, 768]}, 'id': 'wtAfo4JQ3', 'type': 'tool_call'}] usage_metadata={'input_tokens': 160, 'output_tokens': 62, 'total_tokens': 222}\n",
            "1310383\n"
          ]
        }
      ],
      "source": [
        "from langchain_core.tools import tool\n",
        "\n",
        "@tool\n",
        "def sum_tool(numbers:list) -> int:\n",
        "    \"\"\"Sum up numbers.\"\"\"\n",
        "    return sum(numbers)\n",
        "\n",
        "print(sum_tool.name)\n",
        "print(sum_tool.description)\n",
        "print(sum_tool.args)\n",
        "\n",
        "numbers = [42, 308423, 666, 1000000, 1729, -1245, 768]\n",
        "numbers_string = \", \".join(str(n) for n in numbers)\n",
        "\n",
        "# Sanity.\n",
        "print(\"Expected:\", sum(numbers))\n",
        "print(\"\")\n",
        "\n",
        "# Create the prompts.\n",
        "system_prompt = f\"You are a friendly AI assistant that speaks English. You are good at math.\"\n",
        "sum_prompt = f\"Please sum up the following numbers: {numbers_string}.\"\n",
        "messages = [\n",
        "    SystemMessage(content=sum_prompt),\n",
        "    HumanMessage(content=numbers_string)\n",
        "]\n",
        "\n",
        "# Without tools.\n",
        "print(\"Without tools:\")\n",
        "print(llm_small.invoke(messages))\n",
        "print(\"\")\n",
        "\n",
        "# With tools.\n",
        "print(\"With tools:\")\n",
        "llm_small_with_tools = llm_small.bind_tools([sum_tool])\n",
        "print(llm_small_with_tools.invoke(messages))\n",
        "chain = llm_small_with_tools | (lambda x: x.tool_calls[0][\"args\"]) | sum_tool\n",
        "print(chain.invoke(messages))"
      ]
    },
    {
      "cell_type": "markdown",
      "metadata": {
        "id": "K59VlZkmDXkW"
      },
      "source": [
        "## Loading PDFs.\n"
      ]
    },
    {
      "cell_type": "code",
      "execution_count": 20,
      "metadata": {
        "id": "GQCVnkO88Inu",
        "colab": {
          "base_uri": "https://localhost:8080/"
        },
        "outputId": "233d5b03-b0e4-4a24-836e-fd2d42d7f15f"
      },
      "outputs": [
        {
          "output_type": "stream",
          "name": "stdout",
          "text": [
            "--2024-10-24 14:59:16--  https://www.pileface.com/sollers/pdf/Zarathustra.pdf\n",
            "Resolving www.pileface.com (www.pileface.com)... 46.105.204.11, 2001:41d0:1:1b00:213:186:33:40\n",
            "Connecting to www.pileface.com (www.pileface.com)|46.105.204.11|:443... connected.\n",
            "HTTP request sent, awaiting response... 200 OK\n",
            "Length: 683432 (667K) [application/pdf]\n",
            "Saving to: ‘Zarathustra.pdf.1’\n",
            "\n",
            "Zarathustra.pdf.1   100%[===================>] 667.41K  1.28MB/s    in 0.5s    \n",
            "\n",
            "2024-10-24 14:59:18 (1.28 MB/s) - ‘Zarathustra.pdf.1’ saved [683432/683432]\n",
            "\n",
            "Requirement already satisfied: pypdf in /usr/local/lib/python3.10/dist-packages (5.0.1)\n",
            "Requirement already satisfied: typing_extensions>=4.0 in /usr/local/lib/python3.10/dist-packages (from pypdf) (4.12.2)\n"
          ]
        }
      ],
      "source": [
        "!wget https://www.pileface.com/sollers/pdf/Zarathustra.pdf\n",
        "!pip install pypdf"
      ]
    },
    {
      "cell_type": "code",
      "execution_count": 21,
      "metadata": {
        "id": "H68EULy6Da4W",
        "colab": {
          "base_uri": "https://localhost:8080/"
        },
        "outputId": "4bceaa1b-ee2d-4581-b2cf-1b6943bf7ef6"
      },
      "outputs": [
        {
          "output_type": "stream",
          "name": "stdout",
          "text": [
            "1Friedrich Nietzsche \n",
            " \n",
            "Also sprach Zarathustra \n",
            " \n",
            "Ein Buch für Alle und Keinen \n",
            " \n",
            "   Inhaltsverzeichnis    Erster Theil       Zarathustra's Vorrede     Die Reden Zarathustra's       Von den drei Verwandlungen       Von den Lehrstühlen der Tugend       Von den Hinterweltlern       Von den Verächtern des Leibes       Von den Freuden- und Leidenschaften       Vom bleichen Verbrecher       Vom Lesen und Schreiben       Vom Baum am Berge       Von den Predigern des Todes       Vom Krieg und Kriegsvolke       Vom neuen Götzen       Von den Fliegen des Marktes       Von der Keuschheit       Vom Freunde       Von tausend und Einem Ziele       Von der Nächstenliebe       Vom Wege des Schaffenden       Von alten und jungen Weiblein       Vom Biss der Natter       Von Kind und Ehe       Vom freien Tode       Von der schenkenden Tugend   Zweiter Theil       Das Kind mit dem Spiegel       Auf den glückseligen Inseln       Von den Mitleidigen       Von den Priestern       Von den Tugendhaften       Vom Gesindel       Von den Taranteln       Von den berühmten Weisen       Das Nachtlied       Das Tanzlied       Das Grablied       Von der Selbst-Überwindung\n",
            "\n",
            "2      Von den Erhabenen \n",
            "      Vom Lande der Bildung       Von der unbefleckten Erkenntniss       Von den Gelehrten       Von den Dichtern       Von grossen Ereignissen       Der Wahrsager       Von der Erlösing       Von der Menschen-Klugheit       Die stillste Stunde   Dritter Theil       Der Wanderer       Vom Gesicht und Räthsel       Von der Seligkeit wider Willen       Vor Sonnen-Aufgang       Von der verkleinernden Tugend       Auf dem Ölberge       Vom Vorübergehen \n",
            "      Von den Abtrünnigen \n",
            "      Die Heimkehr       Von den drei Bösen       Vom Geist der Schwere       Von alten und neuen Tafeln       Der Genesende       Von der grossen Sehnsucht       Das andere Tanzlied       Die sieben Siegel (Oder: das Ja- und Amen-Lied) \n",
            "  Vierter und letzter Theil      Das Honig-Opfer      Der Nothschrei      Gespräch mit den Königen      Der Blutegel      Der Zauberer      Ausser Dienst      Der hässlichste Mensch      Der freiwillige Bettler      Der Schatten      Mittags      Die Begrüssung      Das Abendmahl      Vom höheren Menschen      Das Lied der Schwermuth      Von der Wissenschaft      Unter Töchtern der Wüste      Die Erweckung      Das Eselsfest      Das Nachtwandler-Lied      Das Zeichen\n",
            "\n"
          ]
        }
      ],
      "source": [
        "from langchain_community.document_loaders import PyPDFLoader\n",
        "\n",
        "loader = PyPDFLoader(\"Zarathustra.pdf\")\n",
        "pages = loader.load_and_split()\n",
        "\n",
        "for page in pages[:2]:\n",
        "    print(page.page_content)\n",
        "    print(\"\")"
      ]
    },
    {
      "cell_type": "markdown",
      "metadata": {
        "id": "vhcpTXk3F3w3"
      },
      "source": [
        "## Web Loader"
      ]
    },
    {
      "cell_type": "code",
      "execution_count": 22,
      "metadata": {
        "id": "-J6Q1o87DrFZ",
        "colab": {
          "base_uri": "https://localhost:8080/"
        },
        "outputId": "4f60a752-52ce-44c2-a2b5-a2b122b100a2"
      },
      "outputs": [
        {
          "output_type": "stream",
          "name": "stdout",
          "text": [
            "Heilbronn – Wikipedia\n",
            "\n",
            "\n",
            "\n",
            "\n",
            "\n",
            "\n",
            "\n",
            "\n",
            "\n",
            "\n",
            "\n",
            "\n",
            "\n",
            "\n",
            "\n",
            "\n",
            "\n",
            "\n",
            "\n",
            "\n",
            "\n",
            "\n",
            "\n",
            "\n",
            "\n",
            "\n",
            "\n",
            "\n",
            "\n",
            "\n",
            "\n",
            "\n",
            "\n",
            "\n",
            "\n",
            "\n",
            "\n",
            "\n",
            "\n",
            "\n",
            "\n",
            "\n",
            "\n",
            "\n",
            "Heilbronn\n",
            "\n",
            "aus Wikipedia, der freien Enzyklopädie\n",
            "\n",
            "\n",
            "\n",
            "Zur Navigation springen\n",
            "Zur Suche springen\n",
            "\n",
            "\n",
            "\n",
            "Der Titel dieses Artikels ist mehrdeutig. Weitere Bedeutungen sind unter Heilbronn (Begriffsklärung) aufgeführt.\n",
            "\n",
            "\n",
            "\n",
            "Wappen\n",
            "\n",
            "Deutschlandkarte\n",
            "\n",
            "\n",
            "\n",
            "\n",
            "\n",
            "\n",
            "\n",
            "\n",
            "\n",
            "\n",
            "\n",
            "Basisdaten\n",
            "\n",
            "\n",
            "Koordinaten:\n",
            "\n",
            "49° 9′ N, 9° 13′ O49.1416666666679.2222222222222157Koordinaten: 49° 9′ N, 9° 13′ O\n",
            "\n",
            "\n",
            "Bundesland:\n",
            "Baden-Württemberg\n",
            "\n",
            "\n",
            "Regierungsbezirk:\n",
            "\n",
            "Stuttgart\n",
            "\n",
            "\n",
            "Höhe:\n",
            "\n",
            "157 m ü. NHN\n",
            "\n",
            "\n",
            "Fläche:\n",
            "\n",
            "99,9 km2\n",
            "\n",
            "\n",
            "Einwohner:\n",
            "\n",
            "130.093 (31. Dez. 2023)[1]\n",
            "\n",
            "\n",
            "Bevölkerungsdichte:\n",
            "\n",
            "1302 Einwohner je km2\n",
            "\n",
            "\n",
            "Postleitzahlen:\n",
            "\n",
            "74072–74081\n",
            "\n",
            "\n",
            "Vorwahlen:\n",
            "\n",
            "07131, 07066\n",
            "\n",
            "\n",
            "Kfz-Kennzeichen:\n",
            "\n",
            "HN\n",
            "\n",
            "\n",
            "Gemeindeschlüssel:\n",
            "\n",
            "08 1 21 000\n",
            "\n",
            "\n",
            "LOCODE:\n",
            "\n",
            "DE HEN\n",
            "\n",
            "\n",
            "NUTS:\n",
            "\n",
            "DE117\n",
            "\n",
            "\n",
            "Stadtgliederung:\n",
            "\n",
            "9 Stadtteile\n",
            "\n",
            "\n",
            "Adresse der Stadtverwaltung:\n",
            "\n",
            "Marktplatz 774072 Heilbronn\n",
            "\n",
            "\n",
            "Website:\n",
            "\n",
            "www.heilbronn.de\n",
            "\n",
            "\n",
            "Oberbürgermeister:\n",
            "\n",
            "Harry Mergel (SPD)\n",
            "\n",
            "\n",
            "Lage der Stadt Heilbronn in Baden-Württemberg\n",
            "\n",
            "\n",
            "Karte\n",
            "\n",
            "Blick über die Heilbronner Innenstadt in Richtung Wartberg\n",
            "Heilbronn ([haɪ̯lˈbʁɔn] ) ist eine Großstadt im Norden Baden-Württembergs und mit 130.093 Einwohnern (31. Dezember 2023) die sechstgrößte Stadt des Bundeslandes. Die Stadt liegt am Neckar, etwa 50 Kilometer nördlich der Landeshauptstadt Stuttgart, ist ein eigener Stadtkreis und darüber hinaus Sitz des Landkreises Heilbronn, der sie vollständig umgibt. Außerdem ist Heilbronn Oberzentrum der Region Heilbronn-Franken (bis 20. Mai 2003 Region Franken), die den Nordosten Baden-Württembergs umfasst, und gehört zur Randzone der europäischen Metropolregion Stuttgart. Die Gegend um Heilbronn wird in der weiteren Region meistens das Unterland genannt.\n",
            "Erstmals 741 erwähnt, erlangte Heilbronn 1371 den Status der Reichsstadt und entwickelte sich aufgrund seiner Lage am Neckar ab dem späten Mittelalter zu einem bedeutenden Handelsplatz. Zu Beginn des 19. Jahrhunderts wurde Heilbronn eines der Zentren der frühen Industrialisierung in Württemberg. Die Heilbronner Altstadt wurde beim Luftangriff vom 4. Dezember 1944 fast vollständig zerstört und in den 1950er Jahren wieder errichtet. Aus dieser Zeit stammen heute die meisten Bauwerke der Innenstadt.\n",
            "Heilbronn ist wegen seiner ausgedehnten Rebflächen bekannt als Stadt des Weins. Die Stadt wird auch Käthchenstadt genannt, nach der Titelperson in Heinrich von Kleists Schauspiel Das Käthchen von Heilbronn.\n",
            "Zum 1. Februar 2020 verlieh das Innenministerium Baden-Württemberg der Stadt Heilbronn die Bezeichnung Universitätsstadt.[2]\n",
            "\n",
            "Inhaltsverzeichnis\n",
            "\n",
            "1 Geographie\n",
            "\n",
            "1.1 Geographische Lage\n",
            "1.2 Geologie\n",
            "1.3 Nachbargemeinden\n",
            "1.4 Stadtgliederung\n",
            "1.5 Flächenaufteilung\n",
            "1.6 Naturschutz\n",
            "1.7 Klima\n",
            "1.8 Raumplanung\n",
            "\n",
            "\n",
            "2 Geschichte\n",
            "\n",
            "2.1 Besiedlung und Stadtgründung\n",
            "2.2 Reichsstadt ab 1371\n",
            "2.3 Württembergische Oberamtsstadt ab 1802\n",
            "2.4 Zeit des Nationalsozialismus und Zweiter Weltkrieg\n",
            "2.5 Zweite Hälfte des 20. Jahrhunderts\n",
            "2.6 21. Jahrhundert\n",
            "2.7 Religionen\n",
            "\n",
            "2.7.1 Konfessionsstatistik\n",
            "2.7.2 Protestanten\n",
            "2.7.3 Katholiken\n",
            "2.7.4 Juden\n",
            "2.7.5 Muslime\n",
            "2.7.6 Sonstige\n",
            "\n",
            "\n",
            "2.8 Eingemeindungen\n",
            "2.9 Einwohnerentwicklung\n",
            "\n",
            "\n",
            "3 Politik\n",
            "\n",
            "3.1 Gemeinderat\n",
            "3.2 Stadtoberhaupt\n",
            "3.3 Wappen und Flagge\n",
            "3.4 Städtepartnerschaften\n",
            "3.5 Abgeordnete aus Heilbronn\n",
            "3.6 Heilbronn als Namensgeberin\n",
            "\n",
            "\n",
            "4 Kultur und Sehenswürdigkeiten\n",
            "\n",
            "4.1 Bauwerke\n",
            "\n",
            "4.1.1 Kirchen\n",
            "4.1.2 Historische Gebäude der Innenstadt\n",
            "4.1.3 Historische Gebäude außerhalb der Innenstadt\n",
            "4.1.4 Türme\n",
            "4.1.5 Brunnen und Denkmäler\n",
            "4.1.6 Villen\n",
            "\n",
            "\n",
            "4.2 Kultur\n",
            "4.3 Museen\n",
            "4.4 Kunst im öffentlichen Raum\n",
            "4.5 Theater\n",
            "4.6 Musik\n",
            "4.7 Parks und Grünanlagen\n",
            "4.8 Regelmäßige Veranstaltungen\n",
            "4.9 Sport\n",
            "\n",
            "\n",
            "5 Wirtschaft und Infrastruktur\n",
            "\n",
            "5.1 Industrie\n",
            "5.2 Handel\n",
            "5.3 Banken und Versicherungen\n",
            "5.4 Bergbau\n",
            "5.5 Lebensmittel\n",
            "5.6 Weinbau\n",
            "5.7 Gastgewerbe\n",
            "5.8 Ver- und Entsorgung\n",
            "5.9 Medien\n",
            "5.10 Logistik\n",
            "5.11 Verkehr\n",
            "\n",
            "5.11.1 Straße\n",
            "5.11.2 Eisenbahn\n",
            "5.11.3 Öffentlicher Personennahverkehr\n",
            "5.11.4 Schifffahrt\n",
            "5.11.5 Luftfahrt\n",
            "5.11.6 Radverkehr\n",
            "\n",
            "5.11.1 Straße\n",
            "5.11.2 Eisenbahn\n",
            "5.11.3 Öffentlicher Personennahverkehr\n",
            "5.11.4 Schifffahrt\n",
            "5.11.5 Luftfahrt\n",
            "5.11.6 Radverkehr\n",
            "\n",
            "\n",
            "5.12 Behörden, Gerichte und Einrichtungen\n",
            "5.13 Bildung\n",
            "\n",
            "5.13.1 Hochschulen\n",
            "5.13.2 Schulen\n",
            "5.13.3 Kindergärten\n",
            "\n",
            "\n",
            "\n",
            "\n",
            "6 Persönlichkeiten\n",
            "\n",
            "6.1 Ehrenbürger der Stadt Heilbronn\n",
            "6.2 Ehrenringträger\n",
            "6.3 Söhne und Töchter der Stadt (Auswahl)\n",
            "\n",
            "\n",
            "7 Siehe auch\n",
            "8 Literatur\n",
            "9 Weblinks\n",
            "10 Einzelnachweise\n",
            "\n",
            "\n",
            "Geographie[Bearbeiten | Quelltext bearbeiten]\n",
            "Heilbronn und seine Nachbarorte\n",
            "Geographische Lage[Bearbeiten | Quelltext bearbeiten]\n",
            "Die Kernstadt von Heilbronn liegt in der vom Neckar geschaffenen, fruchtbaren Talfläche des Heilbronner Beckens, einem nördlichen Ausläufer des Neckarbeckens. Im Westen schließt sich das vergleichsweise wenig hügelige Gartacher Feld an. Im Osten umschließen von Norden nach Süden als Ausläufer der Löwensteiner Berge die Heilbronner Berge[3] die Stadt, an deren Hängen sich ausgedehnte Weinberglandschaften befinden; dazu gehören unter anderem die Erhebungen Büchelberg, Galgenberg, Gaffenberg, Hintersberg, Reisberg, Schweinsberg und Wartberg. Nördlich davon liegt die Sulmer Bergebene.\n",
            "Der höchste Punkt des Stadtgebiets liegt auf dem in der äußersten südöstlichen Spitze des Stadtwaldes gelegenen, 378 m ü. NN hohen Reisberg, die zweithöchste Erhebung ist mit 372,8 m der Schweinsberg. Ihren tiefsten Punkt erreicht die Gemarkung mit 151 m am Neckar an der Gemarkungsgrenze zu Neckarsulm. Das Stadtgebiet dehnt sich in Nord-Süd-Richtung über 13 Kilometer, in Ost-West-Richtung über 19 Kilometer aus.[4] Heilbronn hat Anteil an den drei Naturräumen Neckarbecken, Kraichgau und Schwäbisch-Fränkische Waldberge.[5]\n",
            "Der Heilbronner Dialekt ist eine Variante des südfränkischen Dialekts in der Übergangszone zur Alemannischen Dialektgruppe.\n",
            "\n"
          ]
        }
      ],
      "source": [
        "from langchain_community.document_loaders import WebBaseLoader\n",
        "\n",
        "loader = WebBaseLoader(\"https://de.wikipedia.org/wiki/Heilbronn\")\n",
        "\n",
        "pages = loader.load_and_split()\n",
        "\n",
        "for page in pages[:2]:\n",
        "    print(page.page_content)\n",
        "    print(\"\")"
      ]
    },
    {
      "cell_type": "markdown",
      "metadata": {
        "id": "kmb2CaNrHMtj"
      },
      "source": [
        "## Gradio chat.\n",
        "\n",
        "https://www.gradio.app/"
      ]
    },
    {
      "cell_type": "code",
      "execution_count": 23,
      "metadata": {
        "id": "o6mikqJhHMM9",
        "colab": {
          "base_uri": "https://localhost:8080/"
        },
        "outputId": "49765fcb-6db3-4b0d-920b-d1288924be26"
      },
      "outputs": [
        {
          "output_type": "stream",
          "name": "stdout",
          "text": [
            "Requirement already satisfied: gradio in /usr/local/lib/python3.10/dist-packages (5.3.0)\n",
            "Requirement already satisfied: aiofiles<24.0,>=22.0 in /usr/local/lib/python3.10/dist-packages (from gradio) (23.2.1)\n",
            "Requirement already satisfied: anyio<5.0,>=3.0 in /usr/local/lib/python3.10/dist-packages (from gradio) (3.7.1)\n",
            "Requirement already satisfied: fastapi<1.0,>=0.115.2 in /usr/local/lib/python3.10/dist-packages (from gradio) (0.115.3)\n",
            "Requirement already satisfied: ffmpy in /usr/local/lib/python3.10/dist-packages (from gradio) (0.4.0)\n",
            "Requirement already satisfied: gradio-client==1.4.2 in /usr/local/lib/python3.10/dist-packages (from gradio) (1.4.2)\n",
            "Requirement already satisfied: httpx>=0.24.1 in /usr/local/lib/python3.10/dist-packages (from gradio) (0.27.2)\n",
            "Requirement already satisfied: huggingface-hub>=0.25.1 in /usr/local/lib/python3.10/dist-packages (from gradio) (0.26.1)\n",
            "Requirement already satisfied: jinja2<4.0 in /usr/local/lib/python3.10/dist-packages (from gradio) (3.1.4)\n",
            "Requirement already satisfied: markupsafe~=2.0 in /usr/local/lib/python3.10/dist-packages (from gradio) (2.1.5)\n",
            "Requirement already satisfied: numpy<3.0,>=1.0 in /usr/local/lib/python3.10/dist-packages (from gradio) (1.26.4)\n",
            "Requirement already satisfied: orjson~=3.0 in /usr/local/lib/python3.10/dist-packages (from gradio) (3.10.10)\n",
            "Requirement already satisfied: packaging in /usr/local/lib/python3.10/dist-packages (from gradio) (24.1)\n",
            "Requirement already satisfied: pandas<3.0,>=1.0 in /usr/local/lib/python3.10/dist-packages (from gradio) (2.2.2)\n",
            "Requirement already satisfied: pillow<11.0,>=8.0 in /usr/local/lib/python3.10/dist-packages (from gradio) (10.4.0)\n",
            "Requirement already satisfied: pydantic>=2.0 in /usr/local/lib/python3.10/dist-packages (from gradio) (2.9.2)\n",
            "Requirement already satisfied: pydub in /usr/local/lib/python3.10/dist-packages (from gradio) (0.25.1)\n",
            "Requirement already satisfied: python-multipart>=0.0.9 in /usr/local/lib/python3.10/dist-packages (from gradio) (0.0.14)\n",
            "Requirement already satisfied: pyyaml<7.0,>=5.0 in /usr/local/lib/python3.10/dist-packages (from gradio) (6.0.2)\n",
            "Requirement already satisfied: ruff>=0.2.2 in /usr/local/lib/python3.10/dist-packages (from gradio) (0.7.0)\n",
            "Requirement already satisfied: semantic-version~=2.0 in /usr/local/lib/python3.10/dist-packages (from gradio) (2.10.0)\n",
            "Requirement already satisfied: starlette<1.0,>=0.40.0 in /usr/local/lib/python3.10/dist-packages (from gradio) (0.41.0)\n",
            "Requirement already satisfied: tomlkit==0.12.0 in /usr/local/lib/python3.10/dist-packages (from gradio) (0.12.0)\n",
            "Requirement already satisfied: typer<1.0,>=0.12 in /usr/local/lib/python3.10/dist-packages (from gradio) (0.12.5)\n",
            "Requirement already satisfied: typing-extensions~=4.0 in /usr/local/lib/python3.10/dist-packages (from gradio) (4.12.2)\n",
            "Requirement already satisfied: uvicorn>=0.14.0 in /usr/local/lib/python3.10/dist-packages (from gradio) (0.32.0)\n",
            "Requirement already satisfied: fsspec in /usr/local/lib/python3.10/dist-packages (from gradio-client==1.4.2->gradio) (2024.6.1)\n",
            "Requirement already satisfied: websockets<13.0,>=10.0 in /usr/local/lib/python3.10/dist-packages (from gradio-client==1.4.2->gradio) (12.0)\n",
            "Requirement already satisfied: idna>=2.8 in /usr/local/lib/python3.10/dist-packages (from anyio<5.0,>=3.0->gradio) (3.10)\n",
            "Requirement already satisfied: sniffio>=1.1 in /usr/local/lib/python3.10/dist-packages (from anyio<5.0,>=3.0->gradio) (1.3.1)\n",
            "Requirement already satisfied: exceptiongroup in /usr/local/lib/python3.10/dist-packages (from anyio<5.0,>=3.0->gradio) (1.2.2)\n",
            "Requirement already satisfied: certifi in /usr/local/lib/python3.10/dist-packages (from httpx>=0.24.1->gradio) (2024.8.30)\n",
            "Requirement already satisfied: httpcore==1.* in /usr/local/lib/python3.10/dist-packages (from httpx>=0.24.1->gradio) (1.0.6)\n",
            "Requirement already satisfied: h11<0.15,>=0.13 in /usr/local/lib/python3.10/dist-packages (from httpcore==1.*->httpx>=0.24.1->gradio) (0.14.0)\n",
            "Requirement already satisfied: filelock in /usr/local/lib/python3.10/dist-packages (from huggingface-hub>=0.25.1->gradio) (3.16.1)\n",
            "Requirement already satisfied: requests in /usr/local/lib/python3.10/dist-packages (from huggingface-hub>=0.25.1->gradio) (2.32.3)\n",
            "Requirement already satisfied: tqdm>=4.42.1 in /usr/local/lib/python3.10/dist-packages (from huggingface-hub>=0.25.1->gradio) (4.66.5)\n",
            "Requirement already satisfied: python-dateutil>=2.8.2 in /usr/local/lib/python3.10/dist-packages (from pandas<3.0,>=1.0->gradio) (2.8.2)\n",
            "Requirement already satisfied: pytz>=2020.1 in /usr/local/lib/python3.10/dist-packages (from pandas<3.0,>=1.0->gradio) (2024.2)\n",
            "Requirement already satisfied: tzdata>=2022.7 in /usr/local/lib/python3.10/dist-packages (from pandas<3.0,>=1.0->gradio) (2024.2)\n",
            "Requirement already satisfied: annotated-types>=0.6.0 in /usr/local/lib/python3.10/dist-packages (from pydantic>=2.0->gradio) (0.7.0)\n",
            "Requirement already satisfied: pydantic-core==2.23.4 in /usr/local/lib/python3.10/dist-packages (from pydantic>=2.0->gradio) (2.23.4)\n",
            "Requirement already satisfied: click>=8.0.0 in /usr/local/lib/python3.10/dist-packages (from typer<1.0,>=0.12->gradio) (8.1.7)\n",
            "Requirement already satisfied: shellingham>=1.3.0 in /usr/local/lib/python3.10/dist-packages (from typer<1.0,>=0.12->gradio) (1.5.4)\n",
            "Requirement already satisfied: rich>=10.11.0 in /usr/local/lib/python3.10/dist-packages (from typer<1.0,>=0.12->gradio) (13.9.2)\n",
            "Requirement already satisfied: six>=1.5 in /usr/local/lib/python3.10/dist-packages (from python-dateutil>=2.8.2->pandas<3.0,>=1.0->gradio) (1.16.0)\n",
            "Requirement already satisfied: markdown-it-py>=2.2.0 in /usr/local/lib/python3.10/dist-packages (from rich>=10.11.0->typer<1.0,>=0.12->gradio) (3.0.0)\n",
            "Requirement already satisfied: pygments<3.0.0,>=2.13.0 in /usr/local/lib/python3.10/dist-packages (from rich>=10.11.0->typer<1.0,>=0.12->gradio) (2.18.0)\n",
            "Requirement already satisfied: charset-normalizer<4,>=2 in /usr/local/lib/python3.10/dist-packages (from requests->huggingface-hub>=0.25.1->gradio) (3.4.0)\n",
            "Requirement already satisfied: urllib3<3,>=1.21.1 in /usr/local/lib/python3.10/dist-packages (from requests->huggingface-hub>=0.25.1->gradio) (2.2.3)\n",
            "Requirement already satisfied: mdurl~=0.1 in /usr/local/lib/python3.10/dist-packages (from markdown-it-py>=2.2.0->rich>=10.11.0->typer<1.0,>=0.12->gradio) (0.1.2)\n"
          ]
        }
      ],
      "source": [
        "!pip install gradio"
      ]
    },
    {
      "cell_type": "code",
      "source": [
        "!pip install gradio"
      ],
      "metadata": {
        "id": "G1JjTQhQlYTO",
        "colab": {
          "base_uri": "https://localhost:8080/"
        },
        "outputId": "0dd992a1-22c7-4e90-c64b-711a03a57806"
      },
      "execution_count": 26,
      "outputs": [
        {
          "output_type": "stream",
          "name": "stdout",
          "text": [
            "Requirement already satisfied: gradio in /usr/local/lib/python3.10/dist-packages (5.3.0)\n",
            "Requirement already satisfied: aiofiles<24.0,>=22.0 in /usr/local/lib/python3.10/dist-packages (from gradio) (23.2.1)\n",
            "Requirement already satisfied: anyio<5.0,>=3.0 in /usr/local/lib/python3.10/dist-packages (from gradio) (3.7.1)\n",
            "Requirement already satisfied: fastapi<1.0,>=0.115.2 in /usr/local/lib/python3.10/dist-packages (from gradio) (0.115.3)\n",
            "Requirement already satisfied: ffmpy in /usr/local/lib/python3.10/dist-packages (from gradio) (0.4.0)\n",
            "Requirement already satisfied: gradio-client==1.4.2 in /usr/local/lib/python3.10/dist-packages (from gradio) (1.4.2)\n",
            "Requirement already satisfied: httpx>=0.24.1 in /usr/local/lib/python3.10/dist-packages (from gradio) (0.27.2)\n",
            "Requirement already satisfied: huggingface-hub>=0.25.1 in /usr/local/lib/python3.10/dist-packages (from gradio) (0.26.1)\n",
            "Requirement already satisfied: jinja2<4.0 in /usr/local/lib/python3.10/dist-packages (from gradio) (3.1.4)\n",
            "Requirement already satisfied: markupsafe~=2.0 in /usr/local/lib/python3.10/dist-packages (from gradio) (2.1.5)\n",
            "Requirement already satisfied: numpy<3.0,>=1.0 in /usr/local/lib/python3.10/dist-packages (from gradio) (1.26.4)\n",
            "Requirement already satisfied: orjson~=3.0 in /usr/local/lib/python3.10/dist-packages (from gradio) (3.10.10)\n",
            "Requirement already satisfied: packaging in /usr/local/lib/python3.10/dist-packages (from gradio) (24.1)\n",
            "Requirement already satisfied: pandas<3.0,>=1.0 in /usr/local/lib/python3.10/dist-packages (from gradio) (2.2.2)\n",
            "Requirement already satisfied: pillow<11.0,>=8.0 in /usr/local/lib/python3.10/dist-packages (from gradio) (10.4.0)\n",
            "Requirement already satisfied: pydantic>=2.0 in /usr/local/lib/python3.10/dist-packages (from gradio) (2.9.2)\n",
            "Requirement already satisfied: pydub in /usr/local/lib/python3.10/dist-packages (from gradio) (0.25.1)\n",
            "Requirement already satisfied: python-multipart>=0.0.9 in /usr/local/lib/python3.10/dist-packages (from gradio) (0.0.14)\n",
            "Requirement already satisfied: pyyaml<7.0,>=5.0 in /usr/local/lib/python3.10/dist-packages (from gradio) (6.0.2)\n",
            "Requirement already satisfied: ruff>=0.2.2 in /usr/local/lib/python3.10/dist-packages (from gradio) (0.7.0)\n",
            "Requirement already satisfied: semantic-version~=2.0 in /usr/local/lib/python3.10/dist-packages (from gradio) (2.10.0)\n",
            "Requirement already satisfied: starlette<1.0,>=0.40.0 in /usr/local/lib/python3.10/dist-packages (from gradio) (0.41.0)\n",
            "Requirement already satisfied: tomlkit==0.12.0 in /usr/local/lib/python3.10/dist-packages (from gradio) (0.12.0)\n",
            "Requirement already satisfied: typer<1.0,>=0.12 in /usr/local/lib/python3.10/dist-packages (from gradio) (0.12.5)\n",
            "Requirement already satisfied: typing-extensions~=4.0 in /usr/local/lib/python3.10/dist-packages (from gradio) (4.12.2)\n",
            "Requirement already satisfied: uvicorn>=0.14.0 in /usr/local/lib/python3.10/dist-packages (from gradio) (0.32.0)\n",
            "Requirement already satisfied: fsspec in /usr/local/lib/python3.10/dist-packages (from gradio-client==1.4.2->gradio) (2024.6.1)\n",
            "Requirement already satisfied: websockets<13.0,>=10.0 in /usr/local/lib/python3.10/dist-packages (from gradio-client==1.4.2->gradio) (12.0)\n",
            "Requirement already satisfied: idna>=2.8 in /usr/local/lib/python3.10/dist-packages (from anyio<5.0,>=3.0->gradio) (3.10)\n",
            "Requirement already satisfied: sniffio>=1.1 in /usr/local/lib/python3.10/dist-packages (from anyio<5.0,>=3.0->gradio) (1.3.1)\n",
            "Requirement already satisfied: exceptiongroup in /usr/local/lib/python3.10/dist-packages (from anyio<5.0,>=3.0->gradio) (1.2.2)\n",
            "Requirement already satisfied: certifi in /usr/local/lib/python3.10/dist-packages (from httpx>=0.24.1->gradio) (2024.8.30)\n",
            "Requirement already satisfied: httpcore==1.* in /usr/local/lib/python3.10/dist-packages (from httpx>=0.24.1->gradio) (1.0.6)\n",
            "Requirement already satisfied: h11<0.15,>=0.13 in /usr/local/lib/python3.10/dist-packages (from httpcore==1.*->httpx>=0.24.1->gradio) (0.14.0)\n",
            "Requirement already satisfied: filelock in /usr/local/lib/python3.10/dist-packages (from huggingface-hub>=0.25.1->gradio) (3.16.1)\n",
            "Requirement already satisfied: requests in /usr/local/lib/python3.10/dist-packages (from huggingface-hub>=0.25.1->gradio) (2.32.3)\n",
            "Requirement already satisfied: tqdm>=4.42.1 in /usr/local/lib/python3.10/dist-packages (from huggingface-hub>=0.25.1->gradio) (4.66.5)\n",
            "Requirement already satisfied: python-dateutil>=2.8.2 in /usr/local/lib/python3.10/dist-packages (from pandas<3.0,>=1.0->gradio) (2.8.2)\n",
            "Requirement already satisfied: pytz>=2020.1 in /usr/local/lib/python3.10/dist-packages (from pandas<3.0,>=1.0->gradio) (2024.2)\n",
            "Requirement already satisfied: tzdata>=2022.7 in /usr/local/lib/python3.10/dist-packages (from pandas<3.0,>=1.0->gradio) (2024.2)\n",
            "Requirement already satisfied: annotated-types>=0.6.0 in /usr/local/lib/python3.10/dist-packages (from pydantic>=2.0->gradio) (0.7.0)\n",
            "Requirement already satisfied: pydantic-core==2.23.4 in /usr/local/lib/python3.10/dist-packages (from pydantic>=2.0->gradio) (2.23.4)\n",
            "Requirement already satisfied: click>=8.0.0 in /usr/local/lib/python3.10/dist-packages (from typer<1.0,>=0.12->gradio) (8.1.7)\n",
            "Requirement already satisfied: shellingham>=1.3.0 in /usr/local/lib/python3.10/dist-packages (from typer<1.0,>=0.12->gradio) (1.5.4)\n",
            "Requirement already satisfied: rich>=10.11.0 in /usr/local/lib/python3.10/dist-packages (from typer<1.0,>=0.12->gradio) (13.9.2)\n",
            "Requirement already satisfied: six>=1.5 in /usr/local/lib/python3.10/dist-packages (from python-dateutil>=2.8.2->pandas<3.0,>=1.0->gradio) (1.16.0)\n",
            "Requirement already satisfied: markdown-it-py>=2.2.0 in /usr/local/lib/python3.10/dist-packages (from rich>=10.11.0->typer<1.0,>=0.12->gradio) (3.0.0)\n",
            "Requirement already satisfied: pygments<3.0.0,>=2.13.0 in /usr/local/lib/python3.10/dist-packages (from rich>=10.11.0->typer<1.0,>=0.12->gradio) (2.18.0)\n",
            "Requirement already satisfied: charset-normalizer<4,>=2 in /usr/local/lib/python3.10/dist-packages (from requests->huggingface-hub>=0.25.1->gradio) (3.4.0)\n",
            "Requirement already satisfied: urllib3<3,>=1.21.1 in /usr/local/lib/python3.10/dist-packages (from requests->huggingface-hub>=0.25.1->gradio) (2.2.3)\n",
            "Requirement already satisfied: mdurl~=0.1 in /usr/local/lib/python3.10/dist-packages (from markdown-it-py>=2.2.0->rich>=10.11.0->typer<1.0,>=0.12->gradio) (0.1.2)\n"
          ]
        }
      ]
    },
    {
      "cell_type": "code",
      "source": [
        "!pip install python-multipart"
      ],
      "metadata": {
        "colab": {
          "base_uri": "https://localhost:8080/"
        },
        "id": "jb28-gQIDL52",
        "outputId": "ff134eaf-106c-490d-9a0f-19969752409f"
      },
      "execution_count": 28,
      "outputs": [
        {
          "output_type": "stream",
          "name": "stdout",
          "text": [
            "Requirement already satisfied: python-multipart in /usr/local/lib/python3.10/dist-packages (0.0.14)\n"
          ]
        }
      ]
    },
    {
      "cell_type": "code",
      "execution_count": 29,
      "metadata": {
        "id": "qFolpDDPFu9c",
        "colab": {
          "base_uri": "https://localhost:8080/",
          "height": 551
        },
        "outputId": "fa004fd7-92e8-4627-81f8-9e978d9a10da"
      },
      "outputs": [
        {
          "output_type": "error",
          "ename": "ModuleNotFoundError",
          "evalue": "No module named 'multipart'",
          "traceback": [
            "\u001b[0;31m---------------------------------------------------------------------------\u001b[0m",
            "\u001b[0;31mModuleNotFoundError\u001b[0m                       Traceback (most recent call last)",
            "\u001b[0;32m<ipython-input-29-b2c86219dbc1>\u001b[0m in \u001b[0;36m<cell line: 1>\u001b[0;34m()\u001b[0m\n\u001b[0;32m----> 1\u001b[0;31m \u001b[0;32mimport\u001b[0m \u001b[0mgradio\u001b[0m \u001b[0;32mas\u001b[0m \u001b[0mgr\u001b[0m\u001b[0;34m\u001b[0m\u001b[0;34m\u001b[0m\u001b[0m\n\u001b[0m\u001b[1;32m      2\u001b[0m \u001b[0;34m\u001b[0m\u001b[0m\n\u001b[1;32m      3\u001b[0m \u001b[0;32mdef\u001b[0m \u001b[0mpredict\u001b[0m\u001b[0;34m(\u001b[0m\u001b[0mmessage\u001b[0m\u001b[0;34m,\u001b[0m \u001b[0mhistory\u001b[0m\u001b[0;34m)\u001b[0m\u001b[0;34m:\u001b[0m\u001b[0;34m\u001b[0m\u001b[0;34m\u001b[0m\u001b[0m\n\u001b[1;32m      4\u001b[0m     \u001b[0mhistory_langchain_format\u001b[0m \u001b[0;34m=\u001b[0m \u001b[0;34m[\u001b[0m\u001b[0;34m]\u001b[0m\u001b[0;34m\u001b[0m\u001b[0;34m\u001b[0m\u001b[0m\n\u001b[1;32m      5\u001b[0m     \u001b[0;32mfor\u001b[0m \u001b[0mhuman\u001b[0m\u001b[0;34m,\u001b[0m \u001b[0mai\u001b[0m \u001b[0;32min\u001b[0m \u001b[0mhistory\u001b[0m\u001b[0;34m:\u001b[0m\u001b[0;34m\u001b[0m\u001b[0;34m\u001b[0m\u001b[0m\n",
            "\u001b[0;32m/usr/local/lib/python3.10/dist-packages/gradio/__init__.py\u001b[0m in \u001b[0;36m<module>\u001b[0;34m\u001b[0m\n\u001b[1;32m      1\u001b[0m \u001b[0;32mimport\u001b[0m \u001b[0mjson\u001b[0m\u001b[0;34m\u001b[0m\u001b[0;34m\u001b[0m\u001b[0m\n\u001b[1;32m      2\u001b[0m \u001b[0;34m\u001b[0m\u001b[0m\n\u001b[0;32m----> 3\u001b[0;31m \u001b[0;32mimport\u001b[0m \u001b[0mgradio\u001b[0m\u001b[0;34m.\u001b[0m\u001b[0m_simple_templates\u001b[0m\u001b[0;34m\u001b[0m\u001b[0;34m\u001b[0m\u001b[0m\n\u001b[0m\u001b[1;32m      4\u001b[0m \u001b[0;32mimport\u001b[0m \u001b[0mgradio\u001b[0m\u001b[0;34m.\u001b[0m\u001b[0mimage_utils\u001b[0m\u001b[0;34m\u001b[0m\u001b[0;34m\u001b[0m\u001b[0m\n\u001b[1;32m      5\u001b[0m \u001b[0;32mimport\u001b[0m \u001b[0mgradio\u001b[0m\u001b[0;34m.\u001b[0m\u001b[0mprocessing_utils\u001b[0m\u001b[0;34m\u001b[0m\u001b[0;34m\u001b[0m\u001b[0m\n",
            "\u001b[0;32m/usr/local/lib/python3.10/dist-packages/gradio/_simple_templates/__init__.py\u001b[0m in \u001b[0;36m<module>\u001b[0;34m\u001b[0m\n\u001b[0;32m----> 1\u001b[0;31m \u001b[0;32mfrom\u001b[0m \u001b[0;34m.\u001b[0m\u001b[0msimpledropdown\u001b[0m \u001b[0;32mimport\u001b[0m \u001b[0mSimpleDropdown\u001b[0m\u001b[0;34m\u001b[0m\u001b[0;34m\u001b[0m\u001b[0m\n\u001b[0m\u001b[1;32m      2\u001b[0m \u001b[0;32mfrom\u001b[0m \u001b[0;34m.\u001b[0m\u001b[0msimpleimage\u001b[0m \u001b[0;32mimport\u001b[0m \u001b[0mSimpleImage\u001b[0m\u001b[0;34m\u001b[0m\u001b[0;34m\u001b[0m\u001b[0m\n\u001b[1;32m      3\u001b[0m \u001b[0;32mfrom\u001b[0m \u001b[0;34m.\u001b[0m\u001b[0msimpletextbox\u001b[0m \u001b[0;32mimport\u001b[0m \u001b[0mSimpleTextbox\u001b[0m\u001b[0;34m\u001b[0m\u001b[0;34m\u001b[0m\u001b[0m\n\u001b[1;32m      4\u001b[0m \u001b[0;34m\u001b[0m\u001b[0m\n\u001b[1;32m      5\u001b[0m \u001b[0m__all__\u001b[0m \u001b[0;34m=\u001b[0m \u001b[0;34m[\u001b[0m\u001b[0;34m\"SimpleDropdown\"\u001b[0m\u001b[0;34m,\u001b[0m \u001b[0;34m\"SimpleTextbox\"\u001b[0m\u001b[0;34m,\u001b[0m \u001b[0;34m\"SimpleImage\"\u001b[0m\u001b[0;34m]\u001b[0m\u001b[0;34m\u001b[0m\u001b[0;34m\u001b[0m\u001b[0m\n",
            "\u001b[0;32m/usr/local/lib/python3.10/dist-packages/gradio/_simple_templates/simpledropdown.py\u001b[0m in \u001b[0;36m<module>\u001b[0;34m\u001b[0m\n\u001b[1;32m      5\u001b[0m \u001b[0;32mfrom\u001b[0m \u001b[0mtyping\u001b[0m \u001b[0;32mimport\u001b[0m \u001b[0mTYPE_CHECKING\u001b[0m\u001b[0;34m,\u001b[0m \u001b[0mAny\u001b[0m\u001b[0;34m\u001b[0m\u001b[0;34m\u001b[0m\u001b[0m\n\u001b[1;32m      6\u001b[0m \u001b[0;34m\u001b[0m\u001b[0m\n\u001b[0;32m----> 7\u001b[0;31m \u001b[0;32mfrom\u001b[0m \u001b[0mgradio\u001b[0m\u001b[0;34m.\u001b[0m\u001b[0mcomponents\u001b[0m\u001b[0;34m.\u001b[0m\u001b[0mbase\u001b[0m \u001b[0;32mimport\u001b[0m \u001b[0mComponent\u001b[0m\u001b[0;34m,\u001b[0m \u001b[0mFormComponent\u001b[0m\u001b[0;34m\u001b[0m\u001b[0;34m\u001b[0m\u001b[0m\n\u001b[0m\u001b[1;32m      8\u001b[0m \u001b[0;32mfrom\u001b[0m \u001b[0mgradio\u001b[0m\u001b[0;34m.\u001b[0m\u001b[0mevents\u001b[0m \u001b[0;32mimport\u001b[0m \u001b[0mEvents\u001b[0m\u001b[0;34m\u001b[0m\u001b[0;34m\u001b[0m\u001b[0m\n\u001b[1;32m      9\u001b[0m \u001b[0;34m\u001b[0m\u001b[0m\n",
            "\u001b[0;32m/usr/local/lib/python3.10/dist-packages/gradio/components/__init__.py\u001b[0m in \u001b[0;36m<module>\u001b[0;34m\u001b[0m\n\u001b[0;32m----> 1\u001b[0;31m \u001b[0;32mfrom\u001b[0m \u001b[0mgradio\u001b[0m\u001b[0;34m.\u001b[0m\u001b[0mcomponents\u001b[0m\u001b[0;34m.\u001b[0m\u001b[0mannotated_image\u001b[0m \u001b[0;32mimport\u001b[0m \u001b[0mAnnotatedImage\u001b[0m\u001b[0;34m\u001b[0m\u001b[0;34m\u001b[0m\u001b[0m\n\u001b[0m\u001b[1;32m      2\u001b[0m \u001b[0;32mfrom\u001b[0m \u001b[0mgradio\u001b[0m\u001b[0;34m.\u001b[0m\u001b[0mcomponents\u001b[0m\u001b[0;34m.\u001b[0m\u001b[0maudio\u001b[0m \u001b[0;32mimport\u001b[0m \u001b[0mAudio\u001b[0m\u001b[0;34m\u001b[0m\u001b[0;34m\u001b[0m\u001b[0m\n\u001b[1;32m      3\u001b[0m from gradio.components.base import (\n\u001b[1;32m      4\u001b[0m     \u001b[0mComponent\u001b[0m\u001b[0;34m,\u001b[0m\u001b[0;34m\u001b[0m\u001b[0;34m\u001b[0m\u001b[0m\n\u001b[1;32m      5\u001b[0m     \u001b[0mFormComponent\u001b[0m\u001b[0;34m,\u001b[0m\u001b[0;34m\u001b[0m\u001b[0;34m\u001b[0m\u001b[0m\n",
            "\u001b[0;32m/usr/local/lib/python3.10/dist-packages/gradio/components/annotated_image.py\u001b[0m in \u001b[0;36m<module>\u001b[0;34m\u001b[0m\n\u001b[1;32m     12\u001b[0m \u001b[0;32mfrom\u001b[0m \u001b[0mgradio_client\u001b[0m\u001b[0;34m.\u001b[0m\u001b[0mdocumentation\u001b[0m \u001b[0;32mimport\u001b[0m \u001b[0mdocument\u001b[0m\u001b[0;34m\u001b[0m\u001b[0;34m\u001b[0m\u001b[0m\n\u001b[1;32m     13\u001b[0m \u001b[0;34m\u001b[0m\u001b[0m\n\u001b[0;32m---> 14\u001b[0;31m \u001b[0;32mfrom\u001b[0m \u001b[0mgradio\u001b[0m \u001b[0;32mimport\u001b[0m \u001b[0mprocessing_utils\u001b[0m\u001b[0;34m,\u001b[0m \u001b[0mutils\u001b[0m\u001b[0;34m\u001b[0m\u001b[0;34m\u001b[0m\u001b[0m\n\u001b[0m\u001b[1;32m     15\u001b[0m \u001b[0;32mfrom\u001b[0m \u001b[0mgradio\u001b[0m\u001b[0;34m.\u001b[0m\u001b[0mcomponents\u001b[0m\u001b[0;34m.\u001b[0m\u001b[0mbase\u001b[0m \u001b[0;32mimport\u001b[0m \u001b[0mComponent\u001b[0m\u001b[0;34m\u001b[0m\u001b[0;34m\u001b[0m\u001b[0m\n\u001b[1;32m     16\u001b[0m \u001b[0;32mfrom\u001b[0m \u001b[0mgradio\u001b[0m\u001b[0;34m.\u001b[0m\u001b[0mdata_classes\u001b[0m \u001b[0;32mimport\u001b[0m \u001b[0mFileData\u001b[0m\u001b[0;34m,\u001b[0m \u001b[0mGradioModel\u001b[0m\u001b[0;34m\u001b[0m\u001b[0;34m\u001b[0m\u001b[0m\n",
            "\u001b[0;32m/usr/local/lib/python3.10/dist-packages/gradio/processing_utils.py\u001b[0m in \u001b[0;36m<module>\u001b[0;34m\u001b[0m\n\u001b[1;32m     32\u001b[0m \u001b[0;32mfrom\u001b[0m \u001b[0mgradio\u001b[0m\u001b[0;34m.\u001b[0m\u001b[0mdata_classes\u001b[0m \u001b[0;32mimport\u001b[0m \u001b[0mFileData\u001b[0m\u001b[0;34m,\u001b[0m \u001b[0mGradioModel\u001b[0m\u001b[0;34m,\u001b[0m \u001b[0mGradioRootModel\u001b[0m\u001b[0;34m,\u001b[0m \u001b[0mJsonData\u001b[0m\u001b[0;34m\u001b[0m\u001b[0;34m\u001b[0m\u001b[0m\n\u001b[1;32m     33\u001b[0m \u001b[0;32mfrom\u001b[0m \u001b[0mgradio\u001b[0m\u001b[0;34m.\u001b[0m\u001b[0mexceptions\u001b[0m \u001b[0;32mimport\u001b[0m \u001b[0mError\u001b[0m\u001b[0;34m,\u001b[0m \u001b[0mInvalidPathError\u001b[0m\u001b[0;34m\u001b[0m\u001b[0;34m\u001b[0m\u001b[0m\n\u001b[0;32m---> 34\u001b[0;31m \u001b[0;32mfrom\u001b[0m \u001b[0mgradio\u001b[0m\u001b[0;34m.\u001b[0m\u001b[0mroute_utils\u001b[0m \u001b[0;32mimport\u001b[0m \u001b[0mAPI_PREFIX\u001b[0m\u001b[0;34m\u001b[0m\u001b[0;34m\u001b[0m\u001b[0m\n\u001b[0m\u001b[1;32m     35\u001b[0m \u001b[0;32mfrom\u001b[0m \u001b[0mgradio\u001b[0m\u001b[0;34m.\u001b[0m\u001b[0mutils\u001b[0m \u001b[0;32mimport\u001b[0m \u001b[0mabspath\u001b[0m\u001b[0;34m,\u001b[0m \u001b[0mget_hash_seed\u001b[0m\u001b[0;34m,\u001b[0m \u001b[0mget_upload_folder\u001b[0m\u001b[0;34m,\u001b[0m \u001b[0mis_in_or_equal\u001b[0m\u001b[0;34m\u001b[0m\u001b[0;34m\u001b[0m\u001b[0m\n\u001b[1;32m     36\u001b[0m \u001b[0;34m\u001b[0m\u001b[0m\n",
            "\u001b[0;32m/usr/local/lib/python3.10/dist-packages/gradio/route_utils.py\u001b[0m in \u001b[0;36m<module>\u001b[0;34m\u001b[0m\n\u001b[1;32m     32\u001b[0m \u001b[0;32mimport\u001b[0m \u001b[0mgradio_client\u001b[0m\u001b[0;34m.\u001b[0m\u001b[0mutils\u001b[0m \u001b[0;32mas\u001b[0m \u001b[0mclient_utils\u001b[0m\u001b[0;34m\u001b[0m\u001b[0;34m\u001b[0m\u001b[0m\n\u001b[1;32m     33\u001b[0m \u001b[0;32mimport\u001b[0m \u001b[0mhttpx\u001b[0m\u001b[0;34m\u001b[0m\u001b[0;34m\u001b[0m\u001b[0m\n\u001b[0;32m---> 34\u001b[0;31m \u001b[0;32mimport\u001b[0m \u001b[0mmultipart\u001b[0m\u001b[0;34m\u001b[0m\u001b[0;34m\u001b[0m\u001b[0m\n\u001b[0m\u001b[1;32m     35\u001b[0m \u001b[0;32mfrom\u001b[0m \u001b[0mgradio_client\u001b[0m\u001b[0;34m.\u001b[0m\u001b[0mdocumentation\u001b[0m \u001b[0;32mimport\u001b[0m \u001b[0mdocument\u001b[0m\u001b[0;34m\u001b[0m\u001b[0;34m\u001b[0m\u001b[0m\n\u001b[1;32m     36\u001b[0m \u001b[0;32mfrom\u001b[0m \u001b[0mmultipart\u001b[0m\u001b[0;34m.\u001b[0m\u001b[0mmultipart\u001b[0m \u001b[0;32mimport\u001b[0m \u001b[0mparse_options_header\u001b[0m\u001b[0;34m\u001b[0m\u001b[0;34m\u001b[0m\u001b[0m\n",
            "\u001b[0;31mModuleNotFoundError\u001b[0m: No module named 'multipart'",
            "",
            "\u001b[0;31m---------------------------------------------------------------------------\u001b[0;32m\nNOTE: If your import is failing due to a missing package, you can\nmanually install dependencies using either !pip or !apt.\n\nTo view examples of installing some common dependencies, click the\n\"Open Examples\" button below.\n\u001b[0;31m---------------------------------------------------------------------------\u001b[0m\n"
          ],
          "errorDetails": {
            "actions": [
              {
                "action": "open_url",
                "actionText": "Open Examples",
                "url": "/notebooks/snippets/importing_libraries.ipynb"
              }
            ]
          }
        }
      ],
      "source": [
        "import gradio as gr\n",
        "\n",
        "def predict(message, history):\n",
        "    history_langchain_format = []\n",
        "    for human, ai in history:\n",
        "        history_langchain_format.append(HumanMessage(content=human))\n",
        "        history_langchain_format.append(AIMessage(content=ai))\n",
        "    history_langchain_format.append(HumanMessage(content=message))\n",
        "    gpt_response = llm(history_langchain_format)\n",
        "    return gpt_response.content\n",
        "\n",
        "gr.ChatInterface(predict).launch()"
      ]
    },
    {
      "cell_type": "markdown",
      "metadata": {
        "id": "j9b7VMDSOheU"
      },
      "source": [
        "## Vector Databases."
      ]
    },
    {
      "cell_type": "code",
      "execution_count": 30,
      "metadata": {
        "id": "Fpam-59rp6I9",
        "colab": {
          "base_uri": "https://localhost:8080/"
        },
        "outputId": "80e194d0-9306-45c7-ca48-86ab1b92d845"
      },
      "outputs": [
        {
          "output_type": "stream",
          "name": "stdout",
          "text": [
            "1024\n"
          ]
        }
      ],
      "source": [
        "from langchain_community.document_loaders import TextLoader\n",
        "from langchain_text_splitters import CharacterTextSplitter\n",
        "from langchain_mistralai import MistralAIEmbeddings\n",
        "\n",
        "embeddings_model = MistralAIEmbeddings(\n",
        "    api_key=api_key,\n",
        "    model=\"mistral-embed\"\n",
        ")\n",
        "\n",
        "embedding = embeddings_model.embed_query(\"This is a test, I want to embed.\")\n",
        "print(len(embedding))"
      ]
    },
    {
      "cell_type": "code",
      "execution_count": 31,
      "metadata": {
        "id": "2Hsb8C5crPTb",
        "colab": {
          "base_uri": "https://localhost:8080/"
        },
        "outputId": "575eab03-2d9a-488a-81ef-df1321d03c9d"
      },
      "outputs": [
        {
          "output_type": "stream",
          "name": "stdout",
          "text": [
            "{'score': 0.24685926507781253}\n",
            "{'score': 0.4234202117961898}\n"
          ]
        }
      ],
      "source": [
        "from langchain.evaluation import load_evaluator\n",
        "\n",
        "evaluator = load_evaluator(\"embedding_distance\", embeddings=embeddings_model)\n",
        "\n",
        "distance = evaluator.evaluate_strings(\n",
        "    prediction=\"Dune is a great movie.\",\n",
        "    reference=\"I like the Star Wars series.\"\n",
        ")\n",
        "print(distance)\n",
        "\n",
        "distance = evaluator.evaluate_strings(\n",
        "    prediction=\"Dune is a great movie.\",\n",
        "    reference=\"Hi. I am Tristan. I love teaching AI.\"\n",
        ")\n",
        "print(distance)"
      ]
    },
    {
      "cell_type": "code",
      "execution_count": 32,
      "metadata": {
        "id": "j08pQvBJsJsS",
        "colab": {
          "base_uri": "https://localhost:8080/"
        },
        "outputId": "96a94566-13c7-4e33-a79e-f657f19903b6"
      },
      "outputs": [
        {
          "output_type": "stream",
          "name": "stdout",
          "text": [
            "--2024-10-24 15:06:55--  https://raw.githubusercontent.com/vilmibm/lovecraftcorpus/master/mountains_of_madness.txt\n",
            "Resolving raw.githubusercontent.com (raw.githubusercontent.com)... 185.199.109.133, 185.199.110.133, 185.199.108.133, ...\n",
            "Connecting to raw.githubusercontent.com (raw.githubusercontent.com)|185.199.109.133|:443... connected.\n",
            "HTTP request sent, awaiting response... 200 OK\n",
            "Length: 245885 (240K) [text/plain]\n",
            "Saving to: ‘mountains_of_madness.txt’\n",
            "\n",
            "mountains_of_madnes 100%[===================>] 240.12K  --.-KB/s    in 0.03s   \n",
            "\n",
            "2024-10-24 15:06:56 (7.76 MB/s) - ‘mountains_of_madness.txt’ saved [245885/245885]\n",
            "\n"
          ]
        }
      ],
      "source": [
        "!wget https://raw.githubusercontent.com/vilmibm/lovecraftcorpus/master/mountains_of_madness.txt"
      ]
    },
    {
      "cell_type": "markdown",
      "metadata": {
        "id": "apilPYnlOnEx"
      },
      "source": [
        "## Let us use Chroma.\n",
        "\n",
        "- https://www.trychroma.com/"
      ]
    },
    {
      "cell_type": "code",
      "execution_count": 33,
      "metadata": {
        "id": "FqEdZIrfsR3l",
        "colab": {
          "base_uri": "https://localhost:8080/"
        },
        "outputId": "d8c283e3-1aec-4f73-c94c-52a200188ad8"
      },
      "outputs": [
        {
          "output_type": "stream",
          "name": "stdout",
          "text": [
            "Got 264 documents after splitting\n",
            "page_content='AT THE MOUNTAINS OF MADNESS\n",
            "\n",
            "I\n",
            "\n",
            "I am forced into speech because men of science have refused to follow my advice without knowing why. It is altogether against my will that I tell my reasons for opposing this contemplated invasion of the antarctic--with its vast fossil hunt and its wholesale boring and melting of the ancient ice caps. And I am the more reluctant because my warning may be in vain.\n",
            "\n",
            "Doubt of the real facts, as I must reveal them, is inevitable; yet, if I suppressed what will seem extravagant and incredible, there would be nothing left. The hitherto withheld photographs, both ordinary and aerial, will count in my favor, for they are damnably vivid and graphic. Still, they will be doubted because of the great lengths to which clever fakery can be carried. The ink drawings, of course, will be jeered at as obvious impostures, notwithstanding a strangeness of technique which art experts ought to remark and puzzle over.' metadata={'source': 'mountains_of_madness.txt'}\n"
          ]
        }
      ],
      "source": [
        "from langchain_chroma import Chroma\n",
        "\n",
        "raw_documents = TextLoader(\"mountains_of_madness.txt\").load()\n",
        "text_splitter = CharacterTextSplitter(chunk_size=1000, chunk_overlap=0)\n",
        "documents = text_splitter.split_documents(raw_documents)\n",
        "print(f\"Got {len(documents)} documents after splitting\")\n",
        "\n",
        "print(documents[0])"
      ]
    },
    {
      "cell_type": "markdown",
      "source": [
        "Fill the database."
      ],
      "metadata": {
        "id": "1mBa3vw6wjtD"
      }
    },
    {
      "cell_type": "code",
      "execution_count": 34,
      "metadata": {
        "id": "xDVUM0OitQ4Z"
      },
      "outputs": [],
      "source": [
        "database = Chroma.from_documents(documents, embeddings_model)"
      ]
    },
    {
      "cell_type": "markdown",
      "source": [
        "Query the database."
      ],
      "metadata": {
        "id": "K8UesY9WwkKG"
      }
    },
    {
      "cell_type": "code",
      "execution_count": 35,
      "metadata": {
        "id": "3c_oWN_pttFG",
        "colab": {
          "base_uri": "https://localhost:8080/",
          "height": 237
        },
        "outputId": "8fa0b406-ca5f-4dd1-c7ce-2b3dda2014db"
      },
      "outputs": [
        {
          "output_type": "execute_result",
          "data": {
            "text/plain": [
              "'It was curious to note from the pictured battles that both the Cthulhu spawn and the Mi-Go seem to have been composed of matter more widely different from that which we know than was the substance of the Old Ones. They were able to undergo transformations and reintegrations impossible for their adversaries, and seem therefore to have originally come from even remoter gulfs of the cosmic space. The Old Ones, but for their abnormal toughness and peculiar vital properties, were strictly material, and must have had their absolute origin within the known space-time continuum--whereas the first sources of the other beings can only be guessed at with bated breath. All this, of course, assuming that the non-terrestrial linkages and the anomalies ascribed to the invading foes are not pure mythology. Conceivably, the Old Ones might have invented a cosmic framework to account for their occasional defeats, since historical interest and pride obviously formed their chief psychological element. It is significant that their annals failed to mention many advanced and potent races of beings whose mighty cultures and towering cities figure persistently in certain obscure legends.'"
            ],
            "application/vnd.google.colaboratory.intrinsic+json": {
              "type": "string"
            }
          },
          "metadata": {},
          "execution_count": 35
        }
      ],
      "source": [
        "query = \"What is an Old One?\"\n",
        "docs = database.similarity_search(query)\n",
        "docs[0].page_content"
      ]
    },
    {
      "cell_type": "code",
      "execution_count": 36,
      "metadata": {
        "id": "FDK-NSjwv6g0",
        "colab": {
          "base_uri": "https://localhost:8080/"
        },
        "outputId": "5e88e947-65cf-48a3-c4b5-1042451c6ff8"
      },
      "outputs": [
        {
          "output_type": "execute_result",
          "data": {
            "text/plain": [
              "('It was curious to note from the pictured battles that both the Cthulhu spawn and the Mi-Go seem to have been composed of matter more widely different from that which we know than was the substance of the Old Ones. They were able to undergo transformations and reintegrations impossible for their adversaries, and seem therefore to have originally come from even remoter gulfs of the cosmic space. The Old Ones, but for their abnormal toughness and peculiar vital properties, were strictly material, and must have had their absolute origin within the known space-time continuum--whereas the first sources of the other beings can only be guessed at with bated breath. All this, of course, assuming that the non-terrestrial linkages and the anomalies ascribed to the invading foes are not pure mythology. Conceivably, the Old Ones might have invented a cosmic framework to account for their occasional defeats, since historical interest and pride obviously formed their chief psychological element. It is significant that their annals failed to mention many advanced and potent races of beings whose mighty cultures and towering cities figure persistently in certain obscure legends.',\n",
              " 0.3742658197879791)"
            ]
          },
          "metadata": {},
          "execution_count": 36
        }
      ],
      "source": [
        "query = \"What is an Old One?\"\n",
        "docs = database.similarity_search_with_score(query)\n",
        "docs[0][0].page_content, docs[0][1]"
      ]
    },
    {
      "cell_type": "markdown",
      "metadata": {
        "id": "aDfAAoyw0fjg"
      },
      "source": [
        "## Talk to document."
      ]
    },
    {
      "cell_type": "code",
      "execution_count": 37,
      "metadata": {
        "id": "7MVGscxPyJFl",
        "colab": {
          "base_uri": "https://localhost:8080/",
          "height": 183
        },
        "outputId": "d8c7c45d-55f2-4c1e-9934-6520cb02a3a2"
      },
      "outputs": [
        {
          "output_type": "error",
          "ename": "NameError",
          "evalue": "name 'gr' is not defined",
          "traceback": [
            "\u001b[0;31m---------------------------------------------------------------------------\u001b[0m",
            "\u001b[0;31mNameError\u001b[0m                                 Traceback (most recent call last)",
            "\u001b[0;32m<ipython-input-37-f3958028d3cd>\u001b[0m in \u001b[0;36m<cell line: 44>\u001b[0;34m()\u001b[0m\n\u001b[1;32m     42\u001b[0m     \u001b[0;32mreturn\u001b[0m \u001b[0mresponse\u001b[0m\u001b[0;34m[\u001b[0m\u001b[0;34m\"answer\"\u001b[0m\u001b[0;34m]\u001b[0m\u001b[0;34m\u001b[0m\u001b[0;34m\u001b[0m\u001b[0m\n\u001b[1;32m     43\u001b[0m \u001b[0;34m\u001b[0m\u001b[0m\n\u001b[0;32m---> 44\u001b[0;31m \u001b[0mgr\u001b[0m\u001b[0;34m.\u001b[0m\u001b[0mChatInterface\u001b[0m\u001b[0;34m(\u001b[0m\u001b[0mpredict\u001b[0m\u001b[0;34m)\u001b[0m\u001b[0;34m.\u001b[0m\u001b[0mlaunch\u001b[0m\u001b[0;34m(\u001b[0m\u001b[0;34m)\u001b[0m\u001b[0;34m\u001b[0m\u001b[0;34m\u001b[0m\u001b[0m\n\u001b[0m",
            "\u001b[0;31mNameError\u001b[0m: name 'gr' is not defined"
          ]
        }
      ],
      "source": [
        "from langchain.chains.question_answering import load_qa_chain\n",
        "from langchain.chains import ConversationalRetrievalChain, LLMChain\n",
        "from langchain.docstore.document import Document\n",
        "from langchain.prompts import PromptTemplate\n",
        "\n",
        "qa_chain = load_qa_chain(llm)\n",
        "\n",
        "template=\"\"\"Given the following conversation history and a new user question, generate a standalone question.\n",
        "Conversation history:\n",
        "{chat_history}\n",
        "New question: {question}\n",
        "Standalone question:\"\"\"\n",
        "\n",
        "question_generator_prompt = PromptTemplate(\n",
        "    input_variables=[\"chat_history\", \"question\"],\n",
        "    template=template\n",
        ")\n",
        "\n",
        "question_generator_chain = LLMChain(\n",
        "    llm=llm,\n",
        "    prompt=question_generator_prompt\n",
        ")\n",
        "\n",
        "retrieval_chain = ConversationalRetrievalChain(\n",
        "    retriever=database.as_retriever(search_kwargs={\"k\": 5}),\n",
        "    combine_docs_chain=qa_chain,\n",
        "    question_generator=question_generator_chain\n",
        ")\n",
        "\n",
        "def predict(message, history):\n",
        "    history_langchain_format = []\n",
        "    for human, ai in history:\n",
        "        history_langchain_format.append(HumanMessage(content=human))\n",
        "        history_langchain_format.append(AIMessage(content=ai))\n",
        "\n",
        "    history_langchain_format.append(HumanMessage(content=message))\n",
        "\n",
        "    response = retrieval_chain(\n",
        "        {\"question\": message, \"chat_history\": history_langchain_format}\n",
        "    )\n",
        "\n",
        "    return response[\"answer\"]\n",
        "\n",
        "gr.ChatInterface(predict).launch()"
      ]
    },
    {
      "cell_type": "markdown",
      "source": [
        "# Software development"
      ],
      "metadata": {
        "id": "1bgn3iOLu74H"
      }
    },
    {
      "cell_type": "code",
      "source": [
        "messages = [\n",
        "    SystemMessage(\n",
        "        content=\"You are a 150K EUR/year principal software engineer. You write the best code in the world.\"\n",
        "    ),\n",
        "    HumanMessage(\n",
        "        content=\"Implement Conway's game of life in Python.\"\n",
        "    )\n",
        "]\n",
        "result = llm.invoke(messages)\n",
        "print(result.content)"
      ],
      "metadata": {
        "id": "aBLkgFl6vHx6"
      },
      "execution_count": null,
      "outputs": []
    },
    {
      "cell_type": "code",
      "source": [
        "code = \"\"\"\n",
        "class ToDoList:\n",
        "    def __init__(self):\n",
        "        self.tasks = []\n",
        "\n",
        "    def add_task(self, task: str):\n",
        "        if not isinstance(task, str) or not task.strip():\n",
        "            raise ValueError(\"Task must be a non-empty string\")\n",
        "        self.tasks.append({\"task\": task, \"completed\": False})\n",
        "\n",
        "    def remove_task(self, task: str):\n",
        "        for t in self.tasks:\n",
        "            if t[\"task\"] == task:\n",
        "                self.tasks.remove(t)\n",
        "                return\n",
        "        raise ValueError(\"Task not found\")\n",
        "\n",
        "    def mark_completed(self, task: str):\n",
        "        for t in self.tasks:\n",
        "            if t[\"task\"] == task:\n",
        "                t[\"completed\"] = True\n",
        "                return\n",
        "        raise ValueError(\"Task not found\")\n",
        "\n",
        "    def get_tasks(self, completed=None):\n",
        "        if completed is None:\n",
        "            return self.tasks\n",
        "        return [t for t in self.tasks if t[\"completed\"] == completed]\n",
        "\n",
        "    def clear_completed(self):\n",
        "        self.tasks = [t for t in self.tasks if not t[\"completed\"]]\n",
        "\n",
        "\"\"\"\n",
        "\n",
        "messages = [\n",
        "    SystemMessage(\n",
        "        content=\"You are a 150K EUR/year principal software engineer. You write the best code in the world.\"\n",
        "    ),\n",
        "    HumanMessage(\n",
        "        content=f\"Here is some code:\\n\\n'''\\n{code}\\n'''\\n\\nPlease write unit tests.\"\n",
        "    )\n",
        "]\n",
        "result = llm.invoke(messages)\n",
        "print(result.content)"
      ],
      "metadata": {
        "id": "detX5NYyvE5d"
      },
      "execution_count": null,
      "outputs": []
    },
    {
      "cell_type": "code",
      "source": [
        "messages = [\n",
        "    SystemMessage(\n",
        "        content=\"You are a 150K EUR/year principal code reviewer. You write code reviews even god has never seen.\"\n",
        "    ),\n",
        "    HumanMessage(\n",
        "        content=f\"Here is some code:\\n\\n'''\\n{code}\\n'''\\n\\nPlease a code review..\"\n",
        "    )\n",
        "]\n",
        "result = llm.invoke(messages)\n",
        "print(result.content)"
      ],
      "metadata": {
        "id": "Jg9zhCP5vlqT"
      },
      "execution_count": null,
      "outputs": []
    },
    {
      "cell_type": "markdown",
      "metadata": {
        "id": "Yr9pB0pP3eQF"
      },
      "source": [
        "TODO: https://blog.langchain.dev/reflection-agents/"
      ]
    }
  ],
  "metadata": {
    "colab": {
      "provenance": [],
      "include_colab_link": true
    },
    "kernelspec": {
      "display_name": "Python 3",
      "name": "python3"
    },
    "language_info": {
      "name": "python"
    }
  },
  "nbformat": 4,
  "nbformat_minor": 0
}