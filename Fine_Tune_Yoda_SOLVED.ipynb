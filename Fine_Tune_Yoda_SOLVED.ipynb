{
  "cells": [
    {
      "cell_type": "markdown",
      "metadata": {
        "id": "view-in-github",
        "colab_type": "text"
      },
      "source": [
        "<a href=\"https://colab.research.google.com/github/NID123-CH/LLM-Codes/blob/main/Fine_Tune_Yoda_SOLVED.ipynb\" target=\"_parent\"><img src=\"https://colab.research.google.com/assets/colab-badge.svg\" alt=\"Open In Colab\"/></a>"
      ]
    },
    {
      "cell_type": "code",
      "execution_count": null,
      "id": "a8b9b585",
      "metadata": {
        "scrolled": true,
        "id": "a8b9b585",
        "outputId": "71e097d9-d66f-4edc-85d6-c8f39ed08afa"
      },
      "outputs": [
        {
          "name": "stdout",
          "output_type": "stream",
          "text": [
            "Collecting accelerate\n",
            "  Using cached accelerate-0.30.1-py3-none-any.whl.metadata (18 kB)\n",
            "Collecting datasets\n",
            "  Using cached datasets-2.19.1-py3-none-any.whl.metadata (19 kB)\n",
            "Collecting peft\n",
            "  Using cached peft-0.11.1-py3-none-any.whl.metadata (13 kB)\n",
            "Collecting trl\n",
            "  Using cached trl-0.8.6-py3-none-any.whl.metadata (11 kB)\n",
            "Collecting bitsandbytes\n",
            "  Using cached bitsandbytes-0.43.1-py3-none-manylinux_2_24_x86_64.whl.metadata (2.2 kB)\n",
            "Collecting matplotlib\n",
            "  Using cached matplotlib-3.9.0-cp310-cp310-manylinux_2_17_x86_64.manylinux2014_x86_64.whl.metadata (11 kB)\n",
            "Requirement already satisfied: numpy>=1.17 in /opt/micromamba/envs/python_310/lib/python3.10/site-packages (from accelerate) (1.26.4)\n",
            "Requirement already satisfied: packaging>=20.0 in /opt/micromamba/envs/python_310/lib/python3.10/site-packages (from accelerate) (24.0)\n",
            "Requirement already satisfied: psutil in /opt/micromamba/envs/python_310/lib/python3.10/site-packages (from accelerate) (5.9.8)\n",
            "Requirement already satisfied: pyyaml in /opt/micromamba/envs/python_310/lib/python3.10/site-packages (from accelerate) (6.0.1)\n",
            "Requirement already satisfied: torch>=1.10.0 in /opt/micromamba/envs/python_310/lib/python3.10/site-packages (from accelerate) (2.2.1)\n",
            "Collecting huggingface-hub (from accelerate)\n",
            "  Using cached huggingface_hub-0.23.0-py3-none-any.whl.metadata (12 kB)\n",
            "Collecting safetensors>=0.3.1 (from accelerate)\n",
            "  Using cached safetensors-0.4.3-cp310-cp310-manylinux_2_17_x86_64.manylinux2014_x86_64.whl.metadata (3.8 kB)\n",
            "Requirement already satisfied: filelock in /opt/micromamba/envs/python_310/lib/python3.10/site-packages (from datasets) (3.13.1)\n",
            "Collecting pyarrow>=12.0.0 (from datasets)\n",
            "  Using cached pyarrow-16.1.0-cp310-cp310-manylinux_2_28_x86_64.whl.metadata (3.0 kB)\n",
            "Collecting pyarrow-hotfix (from datasets)\n",
            "  Using cached pyarrow_hotfix-0.6-py3-none-any.whl.metadata (3.6 kB)\n",
            "Collecting dill<0.3.9,>=0.3.0 (from datasets)\n",
            "  Using cached dill-0.3.8-py3-none-any.whl.metadata (10 kB)\n",
            "Collecting pandas (from datasets)\n",
            "  Using cached pandas-2.2.2-cp310-cp310-manylinux_2_17_x86_64.manylinux2014_x86_64.whl.metadata (19 kB)\n",
            "Requirement already satisfied: requests>=2.19.0 in /opt/micromamba/envs/python_310/lib/python3.10/site-packages (from datasets) (2.31.0)\n",
            "Collecting tqdm>=4.62.1 (from datasets)\n",
            "  Using cached tqdm-4.66.4-py3-none-any.whl.metadata (57 kB)\n",
            "Collecting xxhash (from datasets)\n",
            "  Using cached xxhash-3.4.1-cp310-cp310-manylinux_2_17_x86_64.manylinux2014_x86_64.whl.metadata (12 kB)\n",
            "Collecting multiprocess (from datasets)\n",
            "  Using cached multiprocess-0.70.16-py310-none-any.whl.metadata (7.2 kB)\n",
            "Collecting fsspec<=2024.3.1,>=2023.1.0 (from fsspec[http]<=2024.3.1,>=2023.1.0->datasets)\n",
            "  Using cached fsspec-2024.3.1-py3-none-any.whl.metadata (6.8 kB)\n",
            "Collecting aiohttp (from datasets)\n",
            "  Using cached aiohttp-3.9.5-cp310-cp310-manylinux_2_17_x86_64.manylinux2014_x86_64.whl.metadata (7.5 kB)\n",
            "Collecting transformers (from peft)\n",
            "  Using cached transformers-4.41.0-py3-none-any.whl.metadata (43 kB)\n",
            "Collecting tyro>=0.5.11 (from trl)\n",
            "  Using cached tyro-0.8.4-py3-none-any.whl.metadata (7.9 kB)\n",
            "Collecting contourpy>=1.0.1 (from matplotlib)\n",
            "  Using cached contourpy-1.2.1-cp310-cp310-manylinux_2_17_x86_64.manylinux2014_x86_64.whl.metadata (5.8 kB)\n",
            "Collecting cycler>=0.10 (from matplotlib)\n",
            "  Using cached cycler-0.12.1-py3-none-any.whl.metadata (3.8 kB)\n",
            "Collecting fonttools>=4.22.0 (from matplotlib)\n",
            "  Using cached fonttools-4.51.0-cp310-cp310-manylinux_2_17_x86_64.manylinux2014_x86_64.whl.metadata (159 kB)\n",
            "Collecting kiwisolver>=1.3.1 (from matplotlib)\n",
            "  Using cached kiwisolver-1.4.5-cp310-cp310-manylinux_2_12_x86_64.manylinux2010_x86_64.whl.metadata (6.4 kB)\n",
            "Requirement already satisfied: pillow>=8 in /opt/micromamba/envs/python_310/lib/python3.10/site-packages (from matplotlib) (8.4.0)\n",
            "Collecting pyparsing>=2.3.1 (from matplotlib)\n",
            "  Using cached pyparsing-3.1.2-py3-none-any.whl.metadata (5.1 kB)\n",
            "Requirement already satisfied: python-dateutil>=2.7 in /opt/micromamba/envs/python_310/lib/python3.10/site-packages (from matplotlib) (2.9.0)\n",
            "Collecting aiosignal>=1.1.2 (from aiohttp->datasets)\n",
            "  Using cached aiosignal-1.3.1-py3-none-any.whl.metadata (4.0 kB)\n",
            "Collecting attrs>=17.3.0 (from aiohttp->datasets)\n",
            "  Using cached attrs-23.2.0-py3-none-any.whl.metadata (9.5 kB)\n",
            "Collecting frozenlist>=1.1.1 (from aiohttp->datasets)\n",
            "  Using cached frozenlist-1.4.1-cp310-cp310-manylinux_2_5_x86_64.manylinux1_x86_64.manylinux_2_17_x86_64.manylinux2014_x86_64.whl.metadata (12 kB)\n",
            "Collecting multidict<7.0,>=4.5 (from aiohttp->datasets)\n",
            "  Using cached multidict-6.0.5-cp310-cp310-manylinux_2_17_x86_64.manylinux2014_x86_64.whl.metadata (4.2 kB)\n",
            "Collecting yarl<2.0,>=1.0 (from aiohttp->datasets)\n",
            "  Using cached yarl-1.9.4-cp310-cp310-manylinux_2_17_x86_64.manylinux2014_x86_64.whl.metadata (31 kB)\n",
            "Collecting async-timeout<5.0,>=4.0 (from aiohttp->datasets)\n",
            "  Using cached async_timeout-4.0.3-py3-none-any.whl.metadata (4.2 kB)\n",
            "Requirement already satisfied: typing-extensions>=3.7.4.3 in /opt/micromamba/envs/python_310/lib/python3.10/site-packages (from huggingface-hub->accelerate) (4.10.0)\n",
            "Requirement already satisfied: six>=1.5 in /opt/micromamba/envs/python_310/lib/python3.10/site-packages (from python-dateutil>=2.7->matplotlib) (1.16.0)\n",
            "Requirement already satisfied: charset-normalizer<4,>=2 in /opt/micromamba/envs/python_310/lib/python3.10/site-packages (from requests>=2.19.0->datasets) (3.3.2)\n",
            "Requirement already satisfied: idna<4,>=2.5 in /opt/micromamba/envs/python_310/lib/python3.10/site-packages (from requests>=2.19.0->datasets) (3.6)\n",
            "Requirement already satisfied: urllib3<3,>=1.21.1 in /opt/micromamba/envs/python_310/lib/python3.10/site-packages (from requests>=2.19.0->datasets) (2.2.1)\n",
            "Requirement already satisfied: certifi>=2017.4.17 in /opt/micromamba/envs/python_310/lib/python3.10/site-packages (from requests>=2.19.0->datasets) (2024.2.2)\n",
            "Requirement already satisfied: sympy in /opt/micromamba/envs/python_310/lib/python3.10/site-packages (from torch>=1.10.0->accelerate) (1.12)\n",
            "Requirement already satisfied: networkx in /opt/micromamba/envs/python_310/lib/python3.10/site-packages (from torch>=1.10.0->accelerate) (3.2.1)\n",
            "Requirement already satisfied: jinja2 in /opt/micromamba/envs/python_310/lib/python3.10/site-packages (from torch>=1.10.0->accelerate) (3.1.3)\n",
            "Collecting regex!=2019.12.17 (from transformers->peft)\n",
            "  Using cached regex-2024.5.15-cp310-cp310-manylinux_2_17_x86_64.manylinux2014_x86_64.whl.metadata (40 kB)\n",
            "Collecting tokenizers<0.20,>=0.19 (from transformers->peft)\n",
            "  Using cached tokenizers-0.19.1-cp310-cp310-manylinux_2_17_x86_64.manylinux2014_x86_64.whl.metadata (6.7 kB)\n",
            "Collecting docstring-parser>=0.14.1 (from tyro>=0.5.11->trl)\n",
            "  Using cached docstring_parser-0.16-py3-none-any.whl.metadata (3.0 kB)\n",
            "Collecting rich>=11.1.0 (from tyro>=0.5.11->trl)\n",
            "  Using cached rich-13.7.1-py3-none-any.whl.metadata (18 kB)\n",
            "Collecting shtab>=1.5.6 (from tyro>=0.5.11->trl)\n",
            "  Using cached shtab-1.7.1-py3-none-any.whl.metadata (7.3 kB)\n",
            "Collecting pytz>=2020.1 (from pandas->datasets)\n",
            "  Using cached pytz-2024.1-py2.py3-none-any.whl.metadata (22 kB)\n",
            "Collecting tzdata>=2022.7 (from pandas->datasets)\n",
            "  Using cached tzdata-2024.1-py2.py3-none-any.whl.metadata (1.4 kB)\n",
            "Collecting markdown-it-py>=2.2.0 (from rich>=11.1.0->tyro>=0.5.11->trl)\n",
            "  Using cached markdown_it_py-3.0.0-py3-none-any.whl.metadata (6.9 kB)\n",
            "Requirement already satisfied: pygments<3.0.0,>=2.13.0 in /opt/micromamba/envs/python_310/lib/python3.10/site-packages (from rich>=11.1.0->tyro>=0.5.11->trl) (2.17.2)\n",
            "Requirement already satisfied: MarkupSafe>=2.0 in /opt/micromamba/envs/python_310/lib/python3.10/site-packages (from jinja2->torch>=1.10.0->accelerate) (2.1.5)\n",
            "Requirement already satisfied: mpmath>=0.19 in /opt/micromamba/envs/python_310/lib/python3.10/site-packages (from sympy->torch>=1.10.0->accelerate) (1.3.0)\n",
            "Collecting mdurl~=0.1 (from markdown-it-py>=2.2.0->rich>=11.1.0->tyro>=0.5.11->trl)\n",
            "  Using cached mdurl-0.1.2-py3-none-any.whl.metadata (1.6 kB)\n",
            "Using cached accelerate-0.30.1-py3-none-any.whl (302 kB)\n",
            "Using cached datasets-2.19.1-py3-none-any.whl (542 kB)\n",
            "Using cached peft-0.11.1-py3-none-any.whl (251 kB)\n",
            "Using cached trl-0.8.6-py3-none-any.whl (245 kB)\n",
            "Using cached bitsandbytes-0.43.1-py3-none-manylinux_2_24_x86_64.whl (119.8 MB)\n",
            "Using cached matplotlib-3.9.0-cp310-cp310-manylinux_2_17_x86_64.manylinux2014_x86_64.whl (8.3 MB)\n",
            "Using cached contourpy-1.2.1-cp310-cp310-manylinux_2_17_x86_64.manylinux2014_x86_64.whl (305 kB)\n",
            "Using cached cycler-0.12.1-py3-none-any.whl (8.3 kB)\n",
            "Using cached dill-0.3.8-py3-none-any.whl (116 kB)\n",
            "Using cached fonttools-4.51.0-cp310-cp310-manylinux_2_17_x86_64.manylinux2014_x86_64.whl (4.6 MB)\n",
            "Using cached fsspec-2024.3.1-py3-none-any.whl (171 kB)\n",
            "Using cached aiohttp-3.9.5-cp310-cp310-manylinux_2_17_x86_64.manylinux2014_x86_64.whl (1.2 MB)\n",
            "Using cached huggingface_hub-0.23.0-py3-none-any.whl (401 kB)\n",
            "Using cached kiwisolver-1.4.5-cp310-cp310-manylinux_2_12_x86_64.manylinux2010_x86_64.whl (1.6 MB)\n",
            "Using cached pyarrow-16.1.0-cp310-cp310-manylinux_2_28_x86_64.whl (40.8 MB)\n",
            "Using cached pyparsing-3.1.2-py3-none-any.whl (103 kB)\n",
            "Using cached safetensors-0.4.3-cp310-cp310-manylinux_2_17_x86_64.manylinux2014_x86_64.whl (1.2 MB)\n",
            "Using cached tqdm-4.66.4-py3-none-any.whl (78 kB)\n",
            "Using cached transformers-4.41.0-py3-none-any.whl (9.1 MB)\n",
            "Using cached tyro-0.8.4-py3-none-any.whl (102 kB)\n",
            "Using cached multiprocess-0.70.16-py310-none-any.whl (134 kB)\n",
            "Using cached pandas-2.2.2-cp310-cp310-manylinux_2_17_x86_64.manylinux2014_x86_64.whl (13.0 MB)\n",
            "Using cached pyarrow_hotfix-0.6-py3-none-any.whl (7.9 kB)\n",
            "Using cached xxhash-3.4.1-cp310-cp310-manylinux_2_17_x86_64.manylinux2014_x86_64.whl (194 kB)\n",
            "Using cached aiosignal-1.3.1-py3-none-any.whl (7.6 kB)\n",
            "Using cached async_timeout-4.0.3-py3-none-any.whl (5.7 kB)\n",
            "Using cached attrs-23.2.0-py3-none-any.whl (60 kB)\n",
            "Using cached docstring_parser-0.16-py3-none-any.whl (36 kB)\n",
            "Using cached frozenlist-1.4.1-cp310-cp310-manylinux_2_5_x86_64.manylinux1_x86_64.manylinux_2_17_x86_64.manylinux2014_x86_64.whl (239 kB)\n",
            "Using cached multidict-6.0.5-cp310-cp310-manylinux_2_17_x86_64.manylinux2014_x86_64.whl (124 kB)\n",
            "Using cached pytz-2024.1-py2.py3-none-any.whl (505 kB)\n",
            "Using cached regex-2024.5.15-cp310-cp310-manylinux_2_17_x86_64.manylinux2014_x86_64.whl (775 kB)\n",
            "Using cached rich-13.7.1-py3-none-any.whl (240 kB)\n",
            "Using cached shtab-1.7.1-py3-none-any.whl (14 kB)\n",
            "Using cached tokenizers-0.19.1-cp310-cp310-manylinux_2_17_x86_64.manylinux2014_x86_64.whl (3.6 MB)\n",
            "Using cached tzdata-2024.1-py2.py3-none-any.whl (345 kB)\n",
            "Using cached yarl-1.9.4-cp310-cp310-manylinux_2_17_x86_64.manylinux2014_x86_64.whl (301 kB)\n",
            "Using cached markdown_it_py-3.0.0-py3-none-any.whl (87 kB)\n",
            "Using cached mdurl-0.1.2-py3-none-any.whl (10.0 kB)\n",
            "Installing collected packages: pytz, xxhash, tzdata, tqdm, shtab, safetensors, regex, pyparsing, pyarrow-hotfix, pyarrow, multidict, mdurl, kiwisolver, fsspec, frozenlist, fonttools, docstring-parser, dill, cycler, contourpy, attrs, async-timeout, yarl, pandas, multiprocess, matplotlib, markdown-it-py, huggingface-hub, aiosignal, tokenizers, rich, bitsandbytes, aiohttp, accelerate, tyro, transformers, peft, datasets, trl\n",
            "Successfully installed accelerate-0.30.1 aiohttp-3.9.5 aiosignal-1.3.1 async-timeout-4.0.3 attrs-23.2.0 bitsandbytes-0.43.1 contourpy-1.2.1 cycler-0.12.1 datasets-2.19.1 dill-0.3.8 docstring-parser-0.16 fonttools-4.51.0 frozenlist-1.4.1 fsspec-2024.3.1 huggingface-hub-0.23.0 kiwisolver-1.4.5 markdown-it-py-3.0.0 matplotlib-3.9.0 mdurl-0.1.2 multidict-6.0.5 multiprocess-0.70.16 pandas-2.2.2 peft-0.11.1 pyarrow-16.1.0 pyarrow-hotfix-0.6 pyparsing-3.1.2 pytz-2024.1 regex-2024.5.15 rich-13.7.1 safetensors-0.4.3 shtab-1.7.1 tokenizers-0.19.1 tqdm-4.66.4 transformers-4.41.0 trl-0.8.6 tyro-0.8.4 tzdata-2024.1 xxhash-3.4.1 yarl-1.9.4\n"
          ]
        }
      ],
      "source": [
        "!pip install accelerate datasets peft trl bitsandbytes matplotlib gdown"
      ]
    },
    {
      "cell_type": "markdown",
      "id": "8d2788d6",
      "metadata": {
        "id": "8d2788d6"
      },
      "source": [
        "# Exercise\n",
        "\n",
        "In this exercise, we'll fine-tune Phi-2 to translate sentences from English to the way Yoda talks.\n",
        "\n",
        "In order to accomplish that, we'll create a \"response template\", that is, a special token that triggers the translation. We'll use the token `##[YODA]##>` so, whenever it is added at the end of a sentence, the model should complete it with the translated version.\n",
        "\n",
        "For example, given the prompt:\n",
        "\n",
        "`There is bacon in the sandwich.##[YODA]##>`\n",
        "\n",
        "It should complete the sentence like this:\n",
        "\n",
        "`There is bacon in the sandwich.##[YODA]##>Bacon in the sandwich there is.`"
      ]
    },
    {
      "cell_type": "markdown",
      "id": "c8a9b1fc",
      "metadata": {
        "id": "c8a9b1fc"
      },
      "source": [
        "## Yoda\n",
        "\n",
        "Download the CSV file and load it using [`load_dataset()`](https://huggingface.co/docs/datasets/en/loading). Then, shuffle the dataset and split it into train and test sets ([preprocessing a dataset](https://huggingface.co/docs/datasets/en/process))."
      ]
    },
    {
      "cell_type": "code",
      "execution_count": null,
      "id": "b2d82781",
      "metadata": {
        "id": "b2d82781"
      },
      "outputs": [],
      "source": [
        "# Downloads yoda_translation.csv\n",
        "!gdown 1luZxKTMuV2E6IGoHI9UARdOFGYAOfBMy"
      ]
    },
    {
      "cell_type": "code",
      "execution_count": null,
      "id": "e8406a24",
      "metadata": {
        "id": "e8406a24"
      },
      "outputs": [],
      "source": [
        "from datasets import load_dataset, Split\n",
        "dataset = load_dataset(path='csv', data_files='yoda_translation.csv', quotechar='\"', split=Split.ALL)\n",
        "dataset = dataset.shuffle().train_test_split(test_size=0.2)"
      ]
    },
    {
      "cell_type": "code",
      "execution_count": null,
      "id": "47e76944",
      "metadata": {
        "scrolled": true,
        "id": "47e76944",
        "outputId": "f56501e5-2d31-496e-b380-bfc909860d58"
      },
      "outputs": [
        {
          "data": {
            "text/plain": [
              "DatasetDict({\n",
              "    train: Dataset({\n",
              "        features: ['sentence', 'yoda'],\n",
              "        num_rows: 576\n",
              "    })\n",
              "    test: Dataset({\n",
              "        features: ['sentence', 'yoda'],\n",
              "        num_rows: 144\n",
              "    })\n",
              "})"
            ]
          },
          "execution_count": 3,
          "metadata": {},
          "output_type": "execute_result"
        }
      ],
      "source": [
        "dataset"
      ]
    },
    {
      "cell_type": "markdown",
      "id": "ec4bc1dc",
      "metadata": {
        "id": "ec4bc1dc"
      },
      "source": [
        "Take a look at one element of the training set. It should have two columns: `sentence` and `yoda` (the translated sentence)."
      ]
    },
    {
      "cell_type": "code",
      "execution_count": null,
      "id": "5b511fdd",
      "metadata": {
        "id": "5b511fdd",
        "outputId": "ea2c31a5-e4cd-4766-e417-634f78339d77"
      },
      "outputs": [
        {
          "data": {
            "text/plain": [
              "{'sentence': 'No cement will hold hard wood.',\n",
              " 'yoda': 'Hard wood no cement will hold.'}"
            ]
          },
          "execution_count": 4,
          "metadata": {},
          "output_type": "execute_result"
        }
      ],
      "source": [
        "dataset['train'][0]"
      ]
    },
    {
      "cell_type": "markdown",
      "id": "6f2217ac",
      "metadata": {
        "id": "6f2217ac"
      },
      "source": [
        "### Prompt Dataset\n",
        "\n",
        "Now, let's make it a \"prompt dataset\" by renaming the columns to `prompt` and `completion` ([preprocessing a dataset](https://huggingface.co/docs/datasets/en/process)).\n",
        "\n",
        "We'll train the model to take a regular English sentence (the prompt) and produce an output (that is, complete the sentence) with the Yoda translation (completion)."
      ]
    },
    {
      "cell_type": "code",
      "execution_count": null,
      "id": "023c23e9",
      "metadata": {
        "id": "023c23e9"
      },
      "outputs": [],
      "source": [
        "prompt_yoda = dataset.rename_columns({'sentence': 'prompt', 'yoda': 'completion'})"
      ]
    },
    {
      "cell_type": "code",
      "execution_count": null,
      "id": "5b8108d7",
      "metadata": {
        "id": "5b8108d7",
        "outputId": "c2f8d456-cd53-4117-8481-65efa79a9984"
      },
      "outputs": [
        {
          "data": {
            "text/plain": [
              "{'prompt': 'No cement will hold hard wood.',\n",
              " 'completion': 'Hard wood no cement will hold.'}"
            ]
          },
          "execution_count": 6,
          "metadata": {},
          "output_type": "execute_result"
        }
      ],
      "source": [
        "prompt_yoda['train'][0]"
      ]
    },
    {
      "cell_type": "markdown",
      "id": "dbc9a7da",
      "metadata": {
        "id": "dbc9a7da"
      },
      "source": [
        "## Tokenizer\n",
        "\n",
        "Use HF's [`AutoTokenizer`](https://huggingface.co/docs/transformers/main/en/model_doc/auto#transformers.AutoTokenizer) to create a tokenizer for `microsoft/phi-2` model.\n",
        "\n",
        "The parameters for Phi-2 can be found [here](https://huggingface.co/docs/transformers/main/en/model_doc/codegen#transformers.CodeGenTokenizer). Make sure you add a begin of sentence (BOS) and a padding token (`<|pad|>`) as well.\n",
        "\n",
        "We'll need to pad it on the left side (cause we're generating new words starting on the end - the right side). You can force the tokenizer to pad on the left by using `padding_side=\"left\"`. Moreover, we have to set `use_fast=False` because Phi's tokenizer does not support the fast tokenizer."
      ]
    },
    {
      "cell_type": "code",
      "execution_count": null,
      "id": "3f5fcf9c",
      "metadata": {
        "id": "3f5fcf9c",
        "outputId": "caeb768a-d996-4de3-961d-752fcdac7d7e"
      },
      "outputs": [
        {
          "name": "stderr",
          "output_type": "stream",
          "text": [
            "Special tokens have been added in the vocabulary, make sure the associated word embeddings are fine-tuned or trained.\n"
          ]
        }
      ],
      "source": [
        "from transformers import AutoTokenizer\n",
        "from torch.utils.data import DataLoader\n",
        "\n",
        "base_model_id = 'microsoft/phi-2'\n",
        "\n",
        "tokenizer = AutoTokenizer.from_pretrained(\n",
        "    base_model_id,\n",
        "    padding_side=\"left\",\n",
        "    add_bos_token=True,\n",
        "    use_fast=False,\n",
        "    pad_token='<|pad|>'\n",
        ")"
      ]
    },
    {
      "cell_type": "markdown",
      "id": "7d509a2e",
      "metadata": {
        "id": "7d509a2e"
      },
      "source": [
        "Our \"Yoda\" token isn't any of the expected special tokens (padding, unknown, mask, etc.). It is an *additional special token*. Luckily, there is a method to add such tokens to the tokenizer:"
      ]
    },
    {
      "cell_type": "code",
      "execution_count": null,
      "id": "43f3c587-a584-47aa-a229-5cd4156bb9bb",
      "metadata": {
        "id": "43f3c587-a584-47aa-a229-5cd4156bb9bb",
        "outputId": "36b67c1a-1bb2-4742-feee-af4d2035d06e"
      },
      "outputs": [
        {
          "data": {
            "text/plain": [
              "50297"
            ]
          },
          "execution_count": 8,
          "metadata": {},
          "output_type": "execute_result"
        }
      ],
      "source": [
        "response_template = '##[YODA]##>'\n",
        "tokenizer.add_special_tokens({'additional_special_tokens': [response_template]})\n",
        "\n",
        "len(tokenizer)"
      ]
    },
    {
      "cell_type": "code",
      "execution_count": null,
      "id": "88721eba-6779-4306-b21d-e6fbb0f70c60",
      "metadata": {
        "id": "88721eba-6779-4306-b21d-e6fbb0f70c60",
        "outputId": "ddb07edd-be68-4fc4-a4c1-c95664329087"
      },
      "outputs": [
        {
          "data": {
            "text/plain": [
              "('<|pad|>', '<|endoftext|>')"
            ]
          },
          "execution_count": 9,
          "metadata": {},
          "output_type": "execute_result"
        }
      ],
      "source": [
        "tokenizer.pad_token, tokenizer.eos_token"
      ]
    },
    {
      "cell_type": "markdown",
      "id": "7b591b27",
      "metadata": {
        "id": "7b591b27"
      },
      "source": [
        "### Formatting\n",
        "\n",
        "Let's build a formatting function that takes both prompt and completion, and inserts a particular string that will be used to trigger the translation. This string is the response template (`##[YODA]##>`) as previously discussed.\n",
        "\n",
        "The formatting function should produce outputs such as this one:\n",
        "\n",
        "`There is bacon in the sandwich.##[YODA]##>Bacon in the sandwich there is.`\n",
        "\n",
        "However, there is one small - yet important - detail to add: we should add the EOS token to the end of the sentence in order to signal to the model that it should stop the generation at that point.\n",
        "\n",
        "So, the output should really look like this:\n",
        "\n",
        "`There is bacon in the sandwich.##[YODA]##>Bacon in the sandwich there is.<|endoftext|>`"
      ]
    },
    {
      "cell_type": "code",
      "execution_count": null,
      "id": "520875d4",
      "metadata": {
        "id": "520875d4",
        "outputId": "af9e9d69-91a2-4e51-81a1-466e54789240"
      },
      "outputs": [
        {
          "data": {
            "text/plain": [
              "'No cement will hold hard wood.##[YODA]##>Hard wood no cement will hold.<|endoftext|>'"
            ]
          },
          "execution_count": 10,
          "metadata": {},
          "output_type": "execute_result"
        }
      ],
      "source": [
        "def formatting_func(example):\n",
        "    return f'{example[\"prompt\"]}{response_template}{example[\"completion\"]}' + tokenizer.eos_token\n",
        "\n",
        "formatting_func(prompt_yoda['train'][0])"
      ]
    },
    {
      "cell_type": "markdown",
      "id": "4da32309",
      "metadata": {
        "id": "4da32309"
      },
      "source": [
        "Now, we'll write a function that takes a prompt, formats it, and tokenizes it. It should truncate the formatted prompt according to the `max_length` argument and, optionally, pad the formatted prompt up to that length (see here the arguments for [calling](https://huggingface.co/docs/transformers/main/en/main_classes/tokenizer#transformers.PreTrainedTokenizer.__call__) a tokenizer)"
      ]
    },
    {
      "cell_type": "code",
      "execution_count": null,
      "id": "0c43bb9e",
      "metadata": {
        "colab": {
          "referenced_widgets": [
            "26ce4c67fade498b962fafa9bb5bfcbc"
          ]
        },
        "id": "0c43bb9e",
        "outputId": "33b2770c-d9cc-48ea-9b33-19c66972ac7b"
      },
      "outputs": [
        {
          "data": {
            "application/vnd.jupyter.widget-view+json": {
              "model_id": "26ce4c67fade498b962fafa9bb5bfcbc",
              "version_major": 2,
              "version_minor": 0
            },
            "text/plain": [
              "Map:   0%|          | 0/576 [00:00<?, ? examples/s]"
            ]
          },
          "metadata": {},
          "output_type": "display_data"
        },
        {
          "name": "stdout",
          "output_type": "stream",
          "text": [
            "{'input_ids': [50256, 2949, 20534, 481, 1745, 1327, 4898, 13, 50296, 17309, 4898, 645, 20534, 481, 1745, 13, 50256], 'attention_mask': [1, 1, 1, 1, 1, 1, 1, 1, 1, 1, 1, 1, 1, 1, 1, 1, 1]}\n"
          ]
        }
      ],
      "source": [
        "def generate_and_tokenize_prompt(prompt, max_length=128, padding=True):\n",
        "    result = tokenizer(\n",
        "        formatting_func(prompt),\n",
        "        truncation=True,\n",
        "        max_length=max_length,\n",
        "        padding=\"max_length\" if padding else False,\n",
        "    )\n",
        "    return result\n",
        "\n",
        "# We'll call it WITHOUT padding first\n",
        "dataset = prompt_yoda['train'].map(lambda v: generate_and_tokenize_prompt(v, padding=False))\n",
        "dataset = dataset.remove_columns(['prompt', 'completion'])\n",
        "print(dataset[0])"
      ]
    },
    {
      "cell_type": "markdown",
      "id": "9ba6e6e0",
      "metadata": {
        "id": "9ba6e6e0"
      },
      "source": [
        "Perhaps you're wondering where the labels are... as it turns out, the collator will take care of it. We'll be using a collator for completion only, since we're not interested in the regular English sentences that precede our special \"Yoda\" token."
      ]
    },
    {
      "cell_type": "code",
      "execution_count": null,
      "id": "7a8ffc51",
      "metadata": {
        "id": "7a8ffc51",
        "outputId": "557475ae-6b79-46a9-8215-0e18b9fa29f9"
      },
      "outputs": [
        {
          "data": {
            "text/plain": [
              "{'input_ids': tensor([[50295, 50295, 50295, 50256,  2949, 20534,   481,  1745,  1327,  4898,\n",
              "            13, 50296, 17309,  4898,   645, 20534,   481,  1745,    13, 50256],\n",
              "        [50256,   464,  1705,  7425,  4719,   656, 42537,  9017,    13, 50296,\n",
              "            35, 47675,   656, 42537,  9017,   262,  1705,  7425,    13, 50256]]), 'attention_mask': tensor([[0, 0, 0, 1, 1, 1, 1, 1, 1, 1, 1, 1, 1, 1, 1, 1, 1, 1, 1, 1],\n",
              "        [1, 1, 1, 1, 1, 1, 1, 1, 1, 1, 1, 1, 1, 1, 1, 1, 1, 1, 1, 1]]), 'labels': tensor([[ -100,  -100,  -100,  -100,  -100,  -100,  -100,  -100,  -100,  -100,\n",
              "          -100,  -100, 17309,  4898,   645, 20534,   481,  1745,    13, 50256],\n",
              "        [ -100,  -100,  -100,  -100,  -100,  -100,  -100,  -100,  -100,  -100,\n",
              "            35, 47675,   656, 42537,  9017,   262,  1705,  7425,    13, 50256]])}"
            ]
          },
          "execution_count": 20,
          "metadata": {},
          "output_type": "execute_result"
        }
      ],
      "source": [
        "from trl import DataCollatorForCompletionOnlyLM\n",
        "collator = DataCollatorForCompletionOnlyLM(response_template, tokenizer=tokenizer)\n",
        "\n",
        "dataloader_completion = DataLoader(dataset, batch_size=2, collate_fn=collator)\n",
        "next(iter(dataloader_completion))"
      ]
    },
    {
      "cell_type": "code",
      "execution_count": null,
      "id": "811b0803",
      "metadata": {
        "scrolled": false,
        "id": "811b0803",
        "outputId": "c945f811-5425-4017-a544-a7951ca70c17"
      },
      "outputs": [
        {
          "name": "stdout",
          "output_type": "stream",
          "text": [
            "576\n"
          ]
        },
        {
          "data": {
            "image/png": "[encoded data removed]",
            "text/plain": [
              "<Figure size 1000x600 with 1 Axes>"
            ]
          },
          "metadata": {},
          "output_type": "display_data"
        }
      ],
      "source": [
        "import matplotlib.pyplot as plt\n",
        "\n",
        "def plot_data_lengths(tokenized_train_dataset):\n",
        "    lengths = [len(x['input_ids']) for x in tokenized_train_dataset]\n",
        "    print(len(lengths))\n",
        "\n",
        "    # Plotting the histogram\n",
        "    plt.figure(figsize=(10, 6))\n",
        "    plt.hist(lengths, bins=20, alpha=0.7, color='blue')\n",
        "    plt.xlabel('Length of input_ids')\n",
        "    plt.ylabel('Frequency')\n",
        "    plt.title('Distribution of Lengths of input_ids')\n",
        "    plt.show()\n",
        "\n",
        "plot_data_lengths(dataset)"
      ]
    },
    {
      "cell_type": "markdown",
      "id": "a8c0726c",
      "metadata": {
        "id": "a8c0726c"
      },
      "source": [
        "Now, apply the `generate_and_tokenize_prompt` function to both train and validation sets using the dataset's [`map()`](https://huggingface.co/docs/datasets/en/process#map) method.\n",
        "\n",
        "You can adjust the max length to better match the observed length of the inputs (in the plot above)."
      ]
    },
    {
      "cell_type": "code",
      "execution_count": null,
      "id": "71156f39",
      "metadata": {
        "colab": {
          "referenced_widgets": [
            "b3d537aff6814c3cbc20031a5110faf1",
            "f462fe4d3ea84c3ca2722c7461e7ea36"
          ]
        },
        "id": "71156f39",
        "outputId": "03bc15c0-1de0-462c-fc9a-f18dd21f1dd1"
      },
      "outputs": [
        {
          "data": {
            "application/vnd.jupyter.widget-view+json": {
              "model_id": "b3d537aff6814c3cbc20031a5110faf1",
              "version_major": 2,
              "version_minor": 0
            },
            "text/plain": [
              "Map:   0%|          | 0/576 [00:00<?, ? examples/s]"
            ]
          },
          "metadata": {},
          "output_type": "display_data"
        },
        {
          "data": {
            "application/vnd.jupyter.widget-view+json": {
              "model_id": "f462fe4d3ea84c3ca2722c7461e7ea36",
              "version_major": 2,
              "version_minor": 0
            },
            "text/plain": [
              "Map:   0%|          | 0/144 [00:00<?, ? examples/s]"
            ]
          },
          "metadata": {},
          "output_type": "display_data"
        }
      ],
      "source": [
        "max_length = 64\n",
        "tokenized_train_dataset = prompt_yoda['train'].map(lambda v: generate_and_tokenize_prompt(v, max_length))\n",
        "tokenized_val_dataset = prompt_yoda['test'].map(lambda v: generate_and_tokenize_prompt(v, max_length))"
      ]
    },
    {
      "cell_type": "markdown",
      "id": "e0ba8b31",
      "metadata": {
        "id": "e0ba8b31"
      },
      "source": [
        "Try tokenizing (and decoding back) one example from the training set. You should see padding tokens to the left of the sentence, an `<|endoftext|>` token signaling the beginning of the sentence (the same token is used both as BOS and EOS token), the original sentence, our special \"Yoda\" token, the translated sentence, and the EOS token at the very end.\n",
        "\n",
        "Here is an example:\n",
        "\n",
        "`'<|pad|><|pad|><|pad|><|pad|><|pad|><|pad|><|pad|><|pad|><|pad|><|pad|><|pad|><|pad|><|pad|><|pad|><|pad|><|pad|><|pad|><|pad|><|pad|><|pad|><|pad|><|pad|><|pad|><|pad|><|pad|><|pad|><|pad|><|pad|><|pad|><|pad|><|pad|><|pad|><|pad|><|pad|><|pad|><|pad|><|pad|><|pad|><|pad|><|endoftext|>Quench your thirst, then eat the crackers. ##[YODA]##> Quench your thirst, the crackers then eat.<|endoftext|>'`"
      ]
    },
    {
      "cell_type": "code",
      "execution_count": null,
      "id": "13753530",
      "metadata": {
        "id": "13753530",
        "outputId": "4d323c4c-8193-4844-8397-668c28e43439"
      },
      "outputs": [
        {
          "data": {
            "text/plain": [
              "'<|pad|><|pad|><|pad|><|pad|><|pad|><|pad|><|pad|><|pad|><|pad|><|pad|><|pad|><|pad|><|pad|><|pad|><|pad|><|pad|><|pad|><|pad|><|pad|><|pad|><|pad|><|pad|><|pad|><|pad|><|pad|><|pad|><|pad|><|pad|><|pad|><|pad|><|pad|><|pad|><|pad|><|pad|><|pad|><|pad|><|pad|><|pad|><|pad|><|endoftext|>Quench your thirst, then eat the crackers. ##[YODA]##> Quench your thirst, the crackers then eat.<|endoftext|>'"
            ]
          },
          "execution_count": 17,
          "metadata": {},
          "output_type": "execute_result"
        }
      ],
      "source": [
        "tokenizer.decode(tokenized_train_dataset[1]['input_ids'])"
      ]
    },
    {
      "cell_type": "markdown",
      "id": "4e82d8b0",
      "metadata": {
        "id": "4e82d8b0"
      },
      "source": [
        "## Model\n",
        "\n",
        "Now, let's load the model itself. In order to quantize it while loading it, we need an instance of [`BitAndBytesConfig`](https://huggingface.co/docs/transformers/en/main_classes/quantization#transformers.BitsAndBytesConfig). We can load it in 8-bit using the `NF4` quantization type and double quantization. The computing dtype may be `torch.float16` or - if the GPU supports it - `torch.bfloat16`."
      ]
    },
    {
      "cell_type": "code",
      "execution_count": null,
      "id": "7df351eb",
      "metadata": {
        "colab": {
          "referenced_widgets": [
            "9a6fc1a165744f9b89236456e025f4ad"
          ]
        },
        "id": "7df351eb",
        "outputId": "ff20dd34-91a8-42e9-99a4-7eddc3fa63cb"
      },
      "outputs": [
        {
          "name": "stderr",
          "output_type": "stream",
          "text": [
            "`low_cpu_mem_usage` was None, now set to True since model is quantized.\n"
          ]
        },
        {
          "data": {
            "application/vnd.jupyter.widget-view+json": {
              "model_id": "9a6fc1a165744f9b89236456e025f4ad",
              "version_major": 2,
              "version_minor": 0
            },
            "text/plain": [
              "Loading checkpoint shards:   0%|          | 0/2 [00:00<?, ?it/s]"
            ]
          },
          "metadata": {},
          "output_type": "display_data"
        }
      ],
      "source": [
        "import torch\n",
        "from transformers import AutoTokenizer, AutoModelForCausalLM, BitsAndBytesConfig\n",
        "\n",
        "bnb_config = BitsAndBytesConfig(\n",
        "    load_in_8bit=True,\n",
        "    bnb_4bit_quant_type=\"nf4\",\n",
        "    bnb_4bit_use_double_quant=True,\n",
        "    bnb_4bit_compute_dtype=torch.float16\n",
        ")\n",
        "\n",
        "model = AutoModelForCausalLM.from_pretrained(base_model_id, trust_remote_code=True, quantization_config=bnb_config)"
      ]
    },
    {
      "cell_type": "markdown",
      "id": "f7c6f8ae",
      "metadata": {
        "id": "f7c6f8ae"
      },
      "source": [
        "Before moving forward, let's check if the embeddings layer needs resizing or not (since we have added a special token to the tokenizer)."
      ]
    },
    {
      "cell_type": "code",
      "execution_count": null,
      "id": "5d9ad190-7305-4fa5-be65-e6684c0f4c69",
      "metadata": {
        "id": "5d9ad190-7305-4fa5-be65-e6684c0f4c69",
        "outputId": "a610158e-5373-47d8-aab9-8a82e3b6b8a2"
      },
      "outputs": [
        {
          "data": {
            "text/plain": [
              "(Embedding(51200, 2560), 50297)"
            ]
          },
          "execution_count": 19,
          "metadata": {},
          "output_type": "execute_result"
        }
      ],
      "source": [
        "model.model.embed_tokens, len(tokenizer)\n",
        "# no need\n",
        "# model.resize_token_embeddings(len(tokenizer))"
      ]
    },
    {
      "cell_type": "code",
      "execution_count": null,
      "id": "642187c4-d763-4d1c-9d90-33e440f611b8",
      "metadata": {
        "id": "642187c4-d763-4d1c-9d90-33e440f611b8",
        "outputId": "42e45cce-3d4d-41f4-a88f-96305d0f61f6"
      },
      "outputs": [
        {
          "data": {
            "text/plain": [
              "PhiForCausalLM(\n",
              "  (model): PhiModel(\n",
              "    (embed_tokens): Embedding(51200, 2560)\n",
              "    (embed_dropout): Dropout(p=0.0, inplace=False)\n",
              "    (layers): ModuleList(\n",
              "      (0-31): 32 x PhiDecoderLayer(\n",
              "        (self_attn): PhiSdpaAttention(\n",
              "          (q_proj): Linear8bitLt(in_features=2560, out_features=2560, bias=True)\n",
              "          (k_proj): Linear8bitLt(in_features=2560, out_features=2560, bias=True)\n",
              "          (v_proj): Linear8bitLt(in_features=2560, out_features=2560, bias=True)\n",
              "          (dense): Linear8bitLt(in_features=2560, out_features=2560, bias=True)\n",
              "          (rotary_emb): PhiRotaryEmbedding()\n",
              "        )\n",
              "        (mlp): PhiMLP(\n",
              "          (activation_fn): NewGELUActivation()\n",
              "          (fc1): Linear8bitLt(in_features=2560, out_features=10240, bias=True)\n",
              "          (fc2): Linear8bitLt(in_features=10240, out_features=2560, bias=True)\n",
              "        )\n",
              "        (input_layernorm): LayerNorm((2560,), eps=1e-05, elementwise_affine=True)\n",
              "        (resid_dropout): Dropout(p=0.1, inplace=False)\n",
              "      )\n",
              "    )\n",
              "    (final_layernorm): LayerNorm((2560,), eps=1e-05, elementwise_affine=True)\n",
              "  )\n",
              "  (lm_head): Linear(in_features=2560, out_features=51200, bias=True)\n",
              ")"
            ]
          },
          "execution_count": 20,
          "metadata": {},
          "output_type": "execute_result"
        }
      ],
      "source": [
        "model"
      ]
    },
    {
      "cell_type": "markdown",
      "id": "b9be4de7",
      "metadata": {
        "id": "b9be4de7"
      },
      "source": [
        "How many trainable parameters are left after we load the quantized model? Which layers can still be trained? Let's check it out:"
      ]
    },
    {
      "cell_type": "code",
      "execution_count": null,
      "id": "072778a0",
      "metadata": {
        "id": "072778a0"
      },
      "outputs": [],
      "source": [
        "def print_trainable_parameters(model, verbose=False):\n",
        "    \"\"\"\n",
        "    Prints the number of trainable parameters in the model.\n",
        "    \"\"\"\n",
        "    trainable_params = 0\n",
        "    all_param = 0\n",
        "    for name, param in model.named_parameters():\n",
        "        all_param += param.numel()\n",
        "        if param.requires_grad:\n",
        "            if verbose:\n",
        "                print(name)\n",
        "            trainable_params += param.numel()\n",
        "    print(\n",
        "        f\"trainable params: {trainable_params} || all params: {all_param} || trainable%: {100 * trainable_params / all_param}\"\n",
        "    )"
      ]
    },
    {
      "cell_type": "code",
      "execution_count": null,
      "id": "6d2b9829-1507-4352-bfd8-3df2f8521507",
      "metadata": {
        "id": "6d2b9829-1507-4352-bfd8-3df2f8521507",
        "outputId": "f15e3777-4cdc-4f5d-9b3d-fe948d89cc21"
      },
      "outputs": [
        {
          "name": "stdout",
          "output_type": "stream",
          "text": [
            "model.embed_tokens.weight\n",
            "model.layers.0.input_layernorm.weight\n",
            "model.layers.0.input_layernorm.bias\n",
            "model.layers.1.input_layernorm.weight\n",
            "model.layers.1.input_layernorm.bias\n",
            "model.layers.2.input_layernorm.weight\n",
            "model.layers.2.input_layernorm.bias\n",
            "model.layers.3.input_layernorm.weight\n",
            "model.layers.3.input_layernorm.bias\n",
            "model.layers.4.input_layernorm.weight\n",
            "model.layers.4.input_layernorm.bias\n",
            "model.layers.5.input_layernorm.weight\n",
            "model.layers.5.input_layernorm.bias\n",
            "model.layers.6.input_layernorm.weight\n",
            "model.layers.6.input_layernorm.bias\n",
            "model.layers.7.input_layernorm.weight\n",
            "model.layers.7.input_layernorm.bias\n",
            "model.layers.8.input_layernorm.weight\n",
            "model.layers.8.input_layernorm.bias\n",
            "model.layers.9.input_layernorm.weight\n",
            "model.layers.9.input_layernorm.bias\n",
            "model.layers.10.input_layernorm.weight\n",
            "model.layers.10.input_layernorm.bias\n",
            "model.layers.11.input_layernorm.weight\n",
            "model.layers.11.input_layernorm.bias\n",
            "model.layers.12.input_layernorm.weight\n",
            "model.layers.12.input_layernorm.bias\n",
            "model.layers.13.input_layernorm.weight\n",
            "model.layers.13.input_layernorm.bias\n",
            "model.layers.14.input_layernorm.weight\n",
            "model.layers.14.input_layernorm.bias\n",
            "model.layers.15.input_layernorm.weight\n",
            "model.layers.15.input_layernorm.bias\n",
            "model.layers.16.input_layernorm.weight\n",
            "model.layers.16.input_layernorm.bias\n",
            "model.layers.17.input_layernorm.weight\n",
            "model.layers.17.input_layernorm.bias\n",
            "model.layers.18.input_layernorm.weight\n",
            "model.layers.18.input_layernorm.bias\n",
            "model.layers.19.input_layernorm.weight\n",
            "model.layers.19.input_layernorm.bias\n",
            "model.layers.20.input_layernorm.weight\n",
            "model.layers.20.input_layernorm.bias\n",
            "model.layers.21.input_layernorm.weight\n",
            "model.layers.21.input_layernorm.bias\n",
            "model.layers.22.input_layernorm.weight\n",
            "model.layers.22.input_layernorm.bias\n",
            "model.layers.23.input_layernorm.weight\n",
            "model.layers.23.input_layernorm.bias\n",
            "model.layers.24.input_layernorm.weight\n",
            "model.layers.24.input_layernorm.bias\n",
            "model.layers.25.input_layernorm.weight\n",
            "model.layers.25.input_layernorm.bias\n",
            "model.layers.26.input_layernorm.weight\n",
            "model.layers.26.input_layernorm.bias\n",
            "model.layers.27.input_layernorm.weight\n",
            "model.layers.27.input_layernorm.bias\n",
            "model.layers.28.input_layernorm.weight\n",
            "model.layers.28.input_layernorm.bias\n",
            "model.layers.29.input_layernorm.weight\n",
            "model.layers.29.input_layernorm.bias\n",
            "model.layers.30.input_layernorm.weight\n",
            "model.layers.30.input_layernorm.bias\n",
            "model.layers.31.input_layernorm.weight\n",
            "model.layers.31.input_layernorm.bias\n",
            "model.final_layernorm.weight\n",
            "model.final_layernorm.bias\n",
            "lm_head.weight\n",
            "lm_head.bias\n",
            "trainable params: 262364160 || all params: 2779683840 || trainable%: 9.438633136061977\n"
          ]
        }
      ],
      "source": [
        "print_trainable_parameters(model, verbose=True)"
      ]
    },
    {
      "cell_type": "markdown",
      "id": "6eed82b8",
      "metadata": {
        "id": "6eed82b8"
      },
      "source": [
        "## LoRA\n",
        "\n",
        "Quantization makes the model smaller to load, but we still need LoRA to make training faster.\n",
        "\n",
        "So, we need to create an instance of [`LoraConfig`](https://huggingface.co/docs/peft/main/en/developer_guides/quantization#loraconfig). You need to choose a rank (`r`), the alpha multiplier (`lora_alpha`), the target modules that will be modified by LoRA (`target_modules`), and - optionally - other modules that should be trained and saved (`modules_to_save`).\n",
        "\n",
        "These extra modules may include layer norm and embeddings modules, for example. Including these modules may deliver better performance but it comes at the cost of not being able to merge multiple adapters together later.\n",
        "\n",
        "Next, you can use the configuration to get the modified model using `get_peft_model()`."
      ]
    },
    {
      "cell_type": "code",
      "execution_count": null,
      "id": "2ae5103c",
      "metadata": {
        "id": "2ae5103c",
        "outputId": "09229afb-8431-4e5e-f286-d27e3a220cf5"
      },
      "outputs": [
        {
          "name": "stdout",
          "output_type": "stream",
          "text": [
            "trainable params: 146,519,040 || all params: 2,926,202,880 || trainable%: 5.0071\n"
          ]
        }
      ],
      "source": [
        "from peft import LoraConfig, get_peft_model\n",
        "\n",
        "config = LoraConfig(\n",
        "    r=16,\n",
        "    lora_alpha=32,\n",
        "    target_modules=[\n",
        "        \"q_proj\", \"k_proj\", \"v_proj\", \"dense\"\n",
        "        \"fc1\", \"fc2\",\n",
        "        \"lm_head\",\n",
        "    ],\n",
        "    modules_to_save=['layernorm', 'embed_tokens'],\n",
        "    bias=\"none\",\n",
        "    lora_dropout=0.05,  # Conventional\n",
        "    task_type=\"CAUSAL_LM\",\n",
        ")\n",
        "\n",
        "peft_model = get_peft_model(model, config)\n",
        "peft_model.print_trainable_parameters()"
      ]
    },
    {
      "cell_type": "code",
      "execution_count": null,
      "id": "72b5abd5-5af2-4e3e-b23f-386fff972db9",
      "metadata": {
        "id": "72b5abd5-5af2-4e3e-b23f-386fff972db9",
        "outputId": "e1dd09f8-771d-480b-a337-10fea9f66672"
      },
      "outputs": [
        {
          "name": "stdout",
          "output_type": "stream",
          "text": [
            "base_model.model.model.embed_tokens.modules_to_save.default.weight\n",
            "base_model.model.model.layers.0.self_attn.q_proj.lora_A.default.weight\n",
            "base_model.model.model.layers.0.self_attn.q_proj.lora_B.default.weight\n",
            "base_model.model.model.layers.0.self_attn.k_proj.lora_A.default.weight\n",
            "base_model.model.model.layers.0.self_attn.k_proj.lora_B.default.weight\n",
            "base_model.model.model.layers.0.self_attn.v_proj.lora_A.default.weight\n",
            "base_model.model.model.layers.0.self_attn.v_proj.lora_B.default.weight\n",
            "base_model.model.model.layers.0.mlp.fc2.lora_A.default.weight\n",
            "base_model.model.model.layers.0.mlp.fc2.lora_B.default.weight\n",
            "base_model.model.model.layers.0.input_layernorm.modules_to_save.default.weight\n",
            "base_model.model.model.layers.0.input_layernorm.modules_to_save.default.bias\n",
            "base_model.model.model.layers.1.self_attn.q_proj.lora_A.default.weight\n",
            "base_model.model.model.layers.1.self_attn.q_proj.lora_B.default.weight\n",
            "base_model.model.model.layers.1.self_attn.k_proj.lora_A.default.weight\n",
            "base_model.model.model.layers.1.self_attn.k_proj.lora_B.default.weight\n",
            "base_model.model.model.layers.1.self_attn.v_proj.lora_A.default.weight\n",
            "base_model.model.model.layers.1.self_attn.v_proj.lora_B.default.weight\n",
            "base_model.model.model.layers.1.mlp.fc2.lora_A.default.weight\n",
            "base_model.model.model.layers.1.mlp.fc2.lora_B.default.weight\n",
            "base_model.model.model.layers.1.input_layernorm.modules_to_save.default.weight\n",
            "base_model.model.model.layers.1.input_layernorm.modules_to_save.default.bias\n",
            "base_model.model.model.layers.2.self_attn.q_proj.lora_A.default.weight\n",
            "base_model.model.model.layers.2.self_attn.q_proj.lora_B.default.weight\n",
            "base_model.model.model.layers.2.self_attn.k_proj.lora_A.default.weight\n",
            "base_model.model.model.layers.2.self_attn.k_proj.lora_B.default.weight\n",
            "base_model.model.model.layers.2.self_attn.v_proj.lora_A.default.weight\n",
            "base_model.model.model.layers.2.self_attn.v_proj.lora_B.default.weight\n",
            "base_model.model.model.layers.2.mlp.fc2.lora_A.default.weight\n",
            "base_model.model.model.layers.2.mlp.fc2.lora_B.default.weight\n",
            "base_model.model.model.layers.2.input_layernorm.modules_to_save.default.weight\n",
            "base_model.model.model.layers.2.input_layernorm.modules_to_save.default.bias\n",
            "base_model.model.model.layers.3.self_attn.q_proj.lora_A.default.weight\n",
            "base_model.model.model.layers.3.self_attn.q_proj.lora_B.default.weight\n",
            "base_model.model.model.layers.3.self_attn.k_proj.lora_A.default.weight\n",
            "base_model.model.model.layers.3.self_attn.k_proj.lora_B.default.weight\n",
            "base_model.model.model.layers.3.self_attn.v_proj.lora_A.default.weight\n",
            "base_model.model.model.layers.3.self_attn.v_proj.lora_B.default.weight\n",
            "base_model.model.model.layers.3.mlp.fc2.lora_A.default.weight\n",
            "base_model.model.model.layers.3.mlp.fc2.lora_B.default.weight\n",
            "base_model.model.model.layers.3.input_layernorm.modules_to_save.default.weight\n",
            "base_model.model.model.layers.3.input_layernorm.modules_to_save.default.bias\n",
            "base_model.model.model.layers.4.self_attn.q_proj.lora_A.default.weight\n",
            "base_model.model.model.layers.4.self_attn.q_proj.lora_B.default.weight\n",
            "base_model.model.model.layers.4.self_attn.k_proj.lora_A.default.weight\n",
            "base_model.model.model.layers.4.self_attn.k_proj.lora_B.default.weight\n",
            "base_model.model.model.layers.4.self_attn.v_proj.lora_A.default.weight\n",
            "base_model.model.model.layers.4.self_attn.v_proj.lora_B.default.weight\n",
            "base_model.model.model.layers.4.mlp.fc2.lora_A.default.weight\n",
            "base_model.model.model.layers.4.mlp.fc2.lora_B.default.weight\n",
            "base_model.model.model.layers.4.input_layernorm.modules_to_save.default.weight\n",
            "base_model.model.model.layers.4.input_layernorm.modules_to_save.default.bias\n",
            "base_model.model.model.layers.5.self_attn.q_proj.lora_A.default.weight\n",
            "base_model.model.model.layers.5.self_attn.q_proj.lora_B.default.weight\n",
            "base_model.model.model.layers.5.self_attn.k_proj.lora_A.default.weight\n",
            "base_model.model.model.layers.5.self_attn.k_proj.lora_B.default.weight\n",
            "base_model.model.model.layers.5.self_attn.v_proj.lora_A.default.weight\n",
            "base_model.model.model.layers.5.self_attn.v_proj.lora_B.default.weight\n",
            "base_model.model.model.layers.5.mlp.fc2.lora_A.default.weight\n",
            "base_model.model.model.layers.5.mlp.fc2.lora_B.default.weight\n",
            "base_model.model.model.layers.5.input_layernorm.modules_to_save.default.weight\n",
            "base_model.model.model.layers.5.input_layernorm.modules_to_save.default.bias\n",
            "base_model.model.model.layers.6.self_attn.q_proj.lora_A.default.weight\n",
            "base_model.model.model.layers.6.self_attn.q_proj.lora_B.default.weight\n",
            "base_model.model.model.layers.6.self_attn.k_proj.lora_A.default.weight\n",
            "base_model.model.model.layers.6.self_attn.k_proj.lora_B.default.weight\n",
            "base_model.model.model.layers.6.self_attn.v_proj.lora_A.default.weight\n",
            "base_model.model.model.layers.6.self_attn.v_proj.lora_B.default.weight\n",
            "base_model.model.model.layers.6.mlp.fc2.lora_A.default.weight\n",
            "base_model.model.model.layers.6.mlp.fc2.lora_B.default.weight\n",
            "base_model.model.model.layers.6.input_layernorm.modules_to_save.default.weight\n",
            "base_model.model.model.layers.6.input_layernorm.modules_to_save.default.bias\n",
            "base_model.model.model.layers.7.self_attn.q_proj.lora_A.default.weight\n",
            "base_model.model.model.layers.7.self_attn.q_proj.lora_B.default.weight\n",
            "base_model.model.model.layers.7.self_attn.k_proj.lora_A.default.weight\n",
            "base_model.model.model.layers.7.self_attn.k_proj.lora_B.default.weight\n",
            "base_model.model.model.layers.7.self_attn.v_proj.lora_A.default.weight\n",
            "base_model.model.model.layers.7.self_attn.v_proj.lora_B.default.weight\n",
            "base_model.model.model.layers.7.mlp.fc2.lora_A.default.weight\n",
            "base_model.model.model.layers.7.mlp.fc2.lora_B.default.weight\n",
            "base_model.model.model.layers.7.input_layernorm.modules_to_save.default.weight\n",
            "base_model.model.model.layers.7.input_layernorm.modules_to_save.default.bias\n",
            "base_model.model.model.layers.8.self_attn.q_proj.lora_A.default.weight\n",
            "base_model.model.model.layers.8.self_attn.q_proj.lora_B.default.weight\n",
            "base_model.model.model.layers.8.self_attn.k_proj.lora_A.default.weight\n",
            "base_model.model.model.layers.8.self_attn.k_proj.lora_B.default.weight\n",
            "base_model.model.model.layers.8.self_attn.v_proj.lora_A.default.weight\n",
            "base_model.model.model.layers.8.self_attn.v_proj.lora_B.default.weight\n",
            "base_model.model.model.layers.8.mlp.fc2.lora_A.default.weight\n",
            "base_model.model.model.layers.8.mlp.fc2.lora_B.default.weight\n",
            "base_model.model.model.layers.8.input_layernorm.modules_to_save.default.weight\n",
            "base_model.model.model.layers.8.input_layernorm.modules_to_save.default.bias\n",
            "base_model.model.model.layers.9.self_attn.q_proj.lora_A.default.weight\n",
            "base_model.model.model.layers.9.self_attn.q_proj.lora_B.default.weight\n",
            "base_model.model.model.layers.9.self_attn.k_proj.lora_A.default.weight\n",
            "base_model.model.model.layers.9.self_attn.k_proj.lora_B.default.weight\n",
            "base_model.model.model.layers.9.self_attn.v_proj.lora_A.default.weight\n",
            "base_model.model.model.layers.9.self_attn.v_proj.lora_B.default.weight\n",
            "base_model.model.model.layers.9.mlp.fc2.lora_A.default.weight\n",
            "base_model.model.model.layers.9.mlp.fc2.lora_B.default.weight\n",
            "base_model.model.model.layers.9.input_layernorm.modules_to_save.default.weight\n",
            "base_model.model.model.layers.9.input_layernorm.modules_to_save.default.bias\n",
            "base_model.model.model.layers.10.self_attn.q_proj.lora_A.default.weight\n",
            "base_model.model.model.layers.10.self_attn.q_proj.lora_B.default.weight\n",
            "base_model.model.model.layers.10.self_attn.k_proj.lora_A.default.weight\n",
            "base_model.model.model.layers.10.self_attn.k_proj.lora_B.default.weight\n",
            "base_model.model.model.layers.10.self_attn.v_proj.lora_A.default.weight\n",
            "base_model.model.model.layers.10.self_attn.v_proj.lora_B.default.weight\n",
            "base_model.model.model.layers.10.mlp.fc2.lora_A.default.weight\n",
            "base_model.model.model.layers.10.mlp.fc2.lora_B.default.weight\n",
            "base_model.model.model.layers.10.input_layernorm.modules_to_save.default.weight\n",
            "base_model.model.model.layers.10.input_layernorm.modules_to_save.default.bias\n",
            "base_model.model.model.layers.11.self_attn.q_proj.lora_A.default.weight\n",
            "base_model.model.model.layers.11.self_attn.q_proj.lora_B.default.weight\n",
            "base_model.model.model.layers.11.self_attn.k_proj.lora_A.default.weight\n",
            "base_model.model.model.layers.11.self_attn.k_proj.lora_B.default.weight\n",
            "base_model.model.model.layers.11.self_attn.v_proj.lora_A.default.weight\n",
            "base_model.model.model.layers.11.self_attn.v_proj.lora_B.default.weight\n",
            "base_model.model.model.layers.11.mlp.fc2.lora_A.default.weight\n",
            "base_model.model.model.layers.11.mlp.fc2.lora_B.default.weight\n",
            "base_model.model.model.layers.11.input_layernorm.modules_to_save.default.weight\n",
            "base_model.model.model.layers.11.input_layernorm.modules_to_save.default.bias\n",
            "base_model.model.model.layers.12.self_attn.q_proj.lora_A.default.weight\n",
            "base_model.model.model.layers.12.self_attn.q_proj.lora_B.default.weight\n",
            "base_model.model.model.layers.12.self_attn.k_proj.lora_A.default.weight\n",
            "base_model.model.model.layers.12.self_attn.k_proj.lora_B.default.weight\n",
            "base_model.model.model.layers.12.self_attn.v_proj.lora_A.default.weight\n",
            "base_model.model.model.layers.12.self_attn.v_proj.lora_B.default.weight\n",
            "base_model.model.model.layers.12.mlp.fc2.lora_A.default.weight\n",
            "base_model.model.model.layers.12.mlp.fc2.lora_B.default.weight\n",
            "base_model.model.model.layers.12.input_layernorm.modules_to_save.default.weight\n",
            "base_model.model.model.layers.12.input_layernorm.modules_to_save.default.bias\n",
            "base_model.model.model.layers.13.self_attn.q_proj.lora_A.default.weight\n",
            "base_model.model.model.layers.13.self_attn.q_proj.lora_B.default.weight\n",
            "base_model.model.model.layers.13.self_attn.k_proj.lora_A.default.weight\n",
            "base_model.model.model.layers.13.self_attn.k_proj.lora_B.default.weight\n",
            "base_model.model.model.layers.13.self_attn.v_proj.lora_A.default.weight\n",
            "base_model.model.model.layers.13.self_attn.v_proj.lora_B.default.weight\n",
            "base_model.model.model.layers.13.mlp.fc2.lora_A.default.weight\n",
            "base_model.model.model.layers.13.mlp.fc2.lora_B.default.weight\n",
            "base_model.model.model.layers.13.input_layernorm.modules_to_save.default.weight\n",
            "base_model.model.model.layers.13.input_layernorm.modules_to_save.default.bias\n",
            "base_model.model.model.layers.14.self_attn.q_proj.lora_A.default.weight\n",
            "base_model.model.model.layers.14.self_attn.q_proj.lora_B.default.weight\n",
            "base_model.model.model.layers.14.self_attn.k_proj.lora_A.default.weight\n",
            "base_model.model.model.layers.14.self_attn.k_proj.lora_B.default.weight\n",
            "base_model.model.model.layers.14.self_attn.v_proj.lora_A.default.weight\n",
            "base_model.model.model.layers.14.self_attn.v_proj.lora_B.default.weight\n",
            "base_model.model.model.layers.14.mlp.fc2.lora_A.default.weight\n",
            "base_model.model.model.layers.14.mlp.fc2.lora_B.default.weight\n",
            "base_model.model.model.layers.14.input_layernorm.modules_to_save.default.weight\n",
            "base_model.model.model.layers.14.input_layernorm.modules_to_save.default.bias\n",
            "base_model.model.model.layers.15.self_attn.q_proj.lora_A.default.weight\n",
            "base_model.model.model.layers.15.self_attn.q_proj.lora_B.default.weight\n",
            "base_model.model.model.layers.15.self_attn.k_proj.lora_A.default.weight\n",
            "base_model.model.model.layers.15.self_attn.k_proj.lora_B.default.weight\n",
            "base_model.model.model.layers.15.self_attn.v_proj.lora_A.default.weight\n",
            "base_model.model.model.layers.15.self_attn.v_proj.lora_B.default.weight\n",
            "base_model.model.model.layers.15.mlp.fc2.lora_A.default.weight\n",
            "base_model.model.model.layers.15.mlp.fc2.lora_B.default.weight\n",
            "base_model.model.model.layers.15.input_layernorm.modules_to_save.default.weight\n",
            "base_model.model.model.layers.15.input_layernorm.modules_to_save.default.bias\n",
            "base_model.model.model.layers.16.self_attn.q_proj.lora_A.default.weight\n",
            "base_model.model.model.layers.16.self_attn.q_proj.lora_B.default.weight\n",
            "base_model.model.model.layers.16.self_attn.k_proj.lora_A.default.weight\n",
            "base_model.model.model.layers.16.self_attn.k_proj.lora_B.default.weight\n",
            "base_model.model.model.layers.16.self_attn.v_proj.lora_A.default.weight\n",
            "base_model.model.model.layers.16.self_attn.v_proj.lora_B.default.weight\n",
            "base_model.model.model.layers.16.mlp.fc2.lora_A.default.weight\n",
            "base_model.model.model.layers.16.mlp.fc2.lora_B.default.weight\n",
            "base_model.model.model.layers.16.input_layernorm.modules_to_save.default.weight\n",
            "base_model.model.model.layers.16.input_layernorm.modules_to_save.default.bias\n",
            "base_model.model.model.layers.17.self_attn.q_proj.lora_A.default.weight\n",
            "base_model.model.model.layers.17.self_attn.q_proj.lora_B.default.weight\n",
            "base_model.model.model.layers.17.self_attn.k_proj.lora_A.default.weight\n",
            "base_model.model.model.layers.17.self_attn.k_proj.lora_B.default.weight\n",
            "base_model.model.model.layers.17.self_attn.v_proj.lora_A.default.weight\n",
            "base_model.model.model.layers.17.self_attn.v_proj.lora_B.default.weight\n",
            "base_model.model.model.layers.17.mlp.fc2.lora_A.default.weight\n",
            "base_model.model.model.layers.17.mlp.fc2.lora_B.default.weight\n",
            "base_model.model.model.layers.17.input_layernorm.modules_to_save.default.weight\n",
            "base_model.model.model.layers.17.input_layernorm.modules_to_save.default.bias\n",
            "base_model.model.model.layers.18.self_attn.q_proj.lora_A.default.weight\n",
            "base_model.model.model.layers.18.self_attn.q_proj.lora_B.default.weight\n",
            "base_model.model.model.layers.18.self_attn.k_proj.lora_A.default.weight\n",
            "base_model.model.model.layers.18.self_attn.k_proj.lora_B.default.weight\n",
            "base_model.model.model.layers.18.self_attn.v_proj.lora_A.default.weight\n",
            "base_model.model.model.layers.18.self_attn.v_proj.lora_B.default.weight\n",
            "base_model.model.model.layers.18.mlp.fc2.lora_A.default.weight\n",
            "base_model.model.model.layers.18.mlp.fc2.lora_B.default.weight\n",
            "base_model.model.model.layers.18.input_layernorm.modules_to_save.default.weight\n",
            "base_model.model.model.layers.18.input_layernorm.modules_to_save.default.bias\n",
            "base_model.model.model.layers.19.self_attn.q_proj.lora_A.default.weight\n",
            "base_model.model.model.layers.19.self_attn.q_proj.lora_B.default.weight\n",
            "base_model.model.model.layers.19.self_attn.k_proj.lora_A.default.weight\n",
            "base_model.model.model.layers.19.self_attn.k_proj.lora_B.default.weight\n",
            "base_model.model.model.layers.19.self_attn.v_proj.lora_A.default.weight\n",
            "base_model.model.model.layers.19.self_attn.v_proj.lora_B.default.weight\n",
            "base_model.model.model.layers.19.mlp.fc2.lora_A.default.weight\n",
            "base_model.model.model.layers.19.mlp.fc2.lora_B.default.weight\n",
            "base_model.model.model.layers.19.input_layernorm.modules_to_save.default.weight\n",
            "base_model.model.model.layers.19.input_layernorm.modules_to_save.default.bias\n",
            "base_model.model.model.layers.20.self_attn.q_proj.lora_A.default.weight\n",
            "base_model.model.model.layers.20.self_attn.q_proj.lora_B.default.weight\n",
            "base_model.model.model.layers.20.self_attn.k_proj.lora_A.default.weight\n",
            "base_model.model.model.layers.20.self_attn.k_proj.lora_B.default.weight\n",
            "base_model.model.model.layers.20.self_attn.v_proj.lora_A.default.weight\n",
            "base_model.model.model.layers.20.self_attn.v_proj.lora_B.default.weight\n",
            "base_model.model.model.layers.20.mlp.fc2.lora_A.default.weight\n",
            "base_model.model.model.layers.20.mlp.fc2.lora_B.default.weight\n",
            "base_model.model.model.layers.20.input_layernorm.modules_to_save.default.weight\n",
            "base_model.model.model.layers.20.input_layernorm.modules_to_save.default.bias\n",
            "base_model.model.model.layers.21.self_attn.q_proj.lora_A.default.weight\n",
            "base_model.model.model.layers.21.self_attn.q_proj.lora_B.default.weight\n",
            "base_model.model.model.layers.21.self_attn.k_proj.lora_A.default.weight\n",
            "base_model.model.model.layers.21.self_attn.k_proj.lora_B.default.weight\n",
            "base_model.model.model.layers.21.self_attn.v_proj.lora_A.default.weight\n",
            "base_model.model.model.layers.21.self_attn.v_proj.lora_B.default.weight\n",
            "base_model.model.model.layers.21.mlp.fc2.lora_A.default.weight\n",
            "base_model.model.model.layers.21.mlp.fc2.lora_B.default.weight\n",
            "base_model.model.model.layers.21.input_layernorm.modules_to_save.default.weight\n",
            "base_model.model.model.layers.21.input_layernorm.modules_to_save.default.bias\n",
            "base_model.model.model.layers.22.self_attn.q_proj.lora_A.default.weight\n",
            "base_model.model.model.layers.22.self_attn.q_proj.lora_B.default.weight\n",
            "base_model.model.model.layers.22.self_attn.k_proj.lora_A.default.weight\n",
            "base_model.model.model.layers.22.self_attn.k_proj.lora_B.default.weight\n",
            "base_model.model.model.layers.22.self_attn.v_proj.lora_A.default.weight\n",
            "base_model.model.model.layers.22.self_attn.v_proj.lora_B.default.weight\n",
            "base_model.model.model.layers.22.mlp.fc2.lora_A.default.weight\n",
            "base_model.model.model.layers.22.mlp.fc2.lora_B.default.weight\n",
            "base_model.model.model.layers.22.input_layernorm.modules_to_save.default.weight\n",
            "base_model.model.model.layers.22.input_layernorm.modules_to_save.default.bias\n",
            "base_model.model.model.layers.23.self_attn.q_proj.lora_A.default.weight\n",
            "base_model.model.model.layers.23.self_attn.q_proj.lora_B.default.weight\n",
            "base_model.model.model.layers.23.self_attn.k_proj.lora_A.default.weight\n",
            "base_model.model.model.layers.23.self_attn.k_proj.lora_B.default.weight\n",
            "base_model.model.model.layers.23.self_attn.v_proj.lora_A.default.weight\n",
            "base_model.model.model.layers.23.self_attn.v_proj.lora_B.default.weight\n",
            "base_model.model.model.layers.23.mlp.fc2.lora_A.default.weight\n",
            "base_model.model.model.layers.23.mlp.fc2.lora_B.default.weight\n",
            "base_model.model.model.layers.23.input_layernorm.modules_to_save.default.weight\n",
            "base_model.model.model.layers.23.input_layernorm.modules_to_save.default.bias\n",
            "base_model.model.model.layers.24.self_attn.q_proj.lora_A.default.weight\n",
            "base_model.model.model.layers.24.self_attn.q_proj.lora_B.default.weight\n",
            "base_model.model.model.layers.24.self_attn.k_proj.lora_A.default.weight\n",
            "base_model.model.model.layers.24.self_attn.k_proj.lora_B.default.weight\n",
            "base_model.model.model.layers.24.self_attn.v_proj.lora_A.default.weight\n",
            "base_model.model.model.layers.24.self_attn.v_proj.lora_B.default.weight\n",
            "base_model.model.model.layers.24.mlp.fc2.lora_A.default.weight\n",
            "base_model.model.model.layers.24.mlp.fc2.lora_B.default.weight\n",
            "base_model.model.model.layers.24.input_layernorm.modules_to_save.default.weight\n",
            "base_model.model.model.layers.24.input_layernorm.modules_to_save.default.bias\n",
            "base_model.model.model.layers.25.self_attn.q_proj.lora_A.default.weight\n",
            "base_model.model.model.layers.25.self_attn.q_proj.lora_B.default.weight\n",
            "base_model.model.model.layers.25.self_attn.k_proj.lora_A.default.weight\n",
            "base_model.model.model.layers.25.self_attn.k_proj.lora_B.default.weight\n",
            "base_model.model.model.layers.25.self_attn.v_proj.lora_A.default.weight\n",
            "base_model.model.model.layers.25.self_attn.v_proj.lora_B.default.weight\n",
            "base_model.model.model.layers.25.mlp.fc2.lora_A.default.weight\n",
            "base_model.model.model.layers.25.mlp.fc2.lora_B.default.weight\n",
            "base_model.model.model.layers.25.input_layernorm.modules_to_save.default.weight\n",
            "base_model.model.model.layers.25.input_layernorm.modules_to_save.default.bias\n",
            "base_model.model.model.layers.26.self_attn.q_proj.lora_A.default.weight\n",
            "base_model.model.model.layers.26.self_attn.q_proj.lora_B.default.weight\n",
            "base_model.model.model.layers.26.self_attn.k_proj.lora_A.default.weight\n",
            "base_model.model.model.layers.26.self_attn.k_proj.lora_B.default.weight\n",
            "base_model.model.model.layers.26.self_attn.v_proj.lora_A.default.weight\n",
            "base_model.model.model.layers.26.self_attn.v_proj.lora_B.default.weight\n",
            "base_model.model.model.layers.26.mlp.fc2.lora_A.default.weight\n",
            "base_model.model.model.layers.26.mlp.fc2.lora_B.default.weight\n",
            "base_model.model.model.layers.26.input_layernorm.modules_to_save.default.weight\n",
            "base_model.model.model.layers.26.input_layernorm.modules_to_save.default.bias\n",
            "base_model.model.model.layers.27.self_attn.q_proj.lora_A.default.weight\n",
            "base_model.model.model.layers.27.self_attn.q_proj.lora_B.default.weight\n",
            "base_model.model.model.layers.27.self_attn.k_proj.lora_A.default.weight\n",
            "base_model.model.model.layers.27.self_attn.k_proj.lora_B.default.weight\n",
            "base_model.model.model.layers.27.self_attn.v_proj.lora_A.default.weight\n",
            "base_model.model.model.layers.27.self_attn.v_proj.lora_B.default.weight\n",
            "base_model.model.model.layers.27.mlp.fc2.lora_A.default.weight\n",
            "base_model.model.model.layers.27.mlp.fc2.lora_B.default.weight\n",
            "base_model.model.model.layers.27.input_layernorm.modules_to_save.default.weight\n",
            "base_model.model.model.layers.27.input_layernorm.modules_to_save.default.bias\n",
            "base_model.model.model.layers.28.self_attn.q_proj.lora_A.default.weight\n",
            "base_model.model.model.layers.28.self_attn.q_proj.lora_B.default.weight\n",
            "base_model.model.model.layers.28.self_attn.k_proj.lora_A.default.weight\n",
            "base_model.model.model.layers.28.self_attn.k_proj.lora_B.default.weight\n",
            "base_model.model.model.layers.28.self_attn.v_proj.lora_A.default.weight\n",
            "base_model.model.model.layers.28.self_attn.v_proj.lora_B.default.weight\n",
            "base_model.model.model.layers.28.mlp.fc2.lora_A.default.weight\n",
            "base_model.model.model.layers.28.mlp.fc2.lora_B.default.weight\n",
            "base_model.model.model.layers.28.input_layernorm.modules_to_save.default.weight\n",
            "base_model.model.model.layers.28.input_layernorm.modules_to_save.default.bias\n",
            "base_model.model.model.layers.29.self_attn.q_proj.lora_A.default.weight\n",
            "base_model.model.model.layers.29.self_attn.q_proj.lora_B.default.weight\n",
            "base_model.model.model.layers.29.self_attn.k_proj.lora_A.default.weight\n",
            "base_model.model.model.layers.29.self_attn.k_proj.lora_B.default.weight\n",
            "base_model.model.model.layers.29.self_attn.v_proj.lora_A.default.weight\n",
            "base_model.model.model.layers.29.self_attn.v_proj.lora_B.default.weight\n",
            "base_model.model.model.layers.29.mlp.fc2.lora_A.default.weight\n",
            "base_model.model.model.layers.29.mlp.fc2.lora_B.default.weight\n",
            "base_model.model.model.layers.29.input_layernorm.modules_to_save.default.weight\n",
            "base_model.model.model.layers.29.input_layernorm.modules_to_save.default.bias\n",
            "base_model.model.model.layers.30.self_attn.q_proj.lora_A.default.weight\n",
            "base_model.model.model.layers.30.self_attn.q_proj.lora_B.default.weight\n",
            "base_model.model.model.layers.30.self_attn.k_proj.lora_A.default.weight\n",
            "base_model.model.model.layers.30.self_attn.k_proj.lora_B.default.weight\n",
            "base_model.model.model.layers.30.self_attn.v_proj.lora_A.default.weight\n",
            "base_model.model.model.layers.30.self_attn.v_proj.lora_B.default.weight\n",
            "base_model.model.model.layers.30.mlp.fc2.lora_A.default.weight\n",
            "base_model.model.model.layers.30.mlp.fc2.lora_B.default.weight\n",
            "base_model.model.model.layers.30.input_layernorm.modules_to_save.default.weight\n",
            "base_model.model.model.layers.30.input_layernorm.modules_to_save.default.bias\n",
            "base_model.model.model.layers.31.self_attn.q_proj.lora_A.default.weight\n",
            "base_model.model.model.layers.31.self_attn.q_proj.lora_B.default.weight\n",
            "base_model.model.model.layers.31.self_attn.k_proj.lora_A.default.weight\n",
            "base_model.model.model.layers.31.self_attn.k_proj.lora_B.default.weight\n",
            "base_model.model.model.layers.31.self_attn.v_proj.lora_A.default.weight\n",
            "base_model.model.model.layers.31.self_attn.v_proj.lora_B.default.weight\n",
            "base_model.model.model.layers.31.mlp.fc2.lora_A.default.weight\n",
            "base_model.model.model.layers.31.mlp.fc2.lora_B.default.weight\n",
            "base_model.model.model.layers.31.input_layernorm.modules_to_save.default.weight\n",
            "base_model.model.model.layers.31.input_layernorm.modules_to_save.default.bias\n",
            "base_model.model.model.final_layernorm.modules_to_save.default.weight\n",
            "base_model.model.model.final_layernorm.modules_to_save.default.bias\n",
            "base_model.model.lm_head.lora_A.default.weight\n",
            "base_model.model.lm_head.lora_B.default.weight\n",
            "trainable params: 146519040 || all params: 2926202880 || trainable%: 5.007138807819095\n"
          ]
        }
      ],
      "source": [
        "print_trainable_parameters(peft_model, verbose=True)"
      ]
    },
    {
      "cell_type": "markdown",
      "id": "3c39202a",
      "metadata": {
        "id": "3c39202a"
      },
      "source": [
        "## Training\n",
        "\n",
        "Before actually training the model, we have to configure its training arguments. Hugging Face's `TrainingArguments` is very thorough and comprehensive, so we're providing suggested arguments right away.\n",
        "\n",
        "It is important to notice that:\n",
        "- it uses a paged 8-bit optimizer in order to save memory\n",
        "- it uses gradient accumulation"
      ]
    },
    {
      "cell_type": "code",
      "execution_count": null,
      "id": "5571db2b",
      "metadata": {
        "id": "5571db2b"
      },
      "outputs": [],
      "source": [
        "# Some Environment Setup\n",
        "OUTPUT_DIR = \"./results/yoda/\" # the path to the output directory; where model checkpoints will be saved"
      ]
    },
    {
      "cell_type": "code",
      "execution_count": null,
      "id": "02187851",
      "metadata": {
        "id": "02187851"
      },
      "outputs": [],
      "source": [
        "import transformers\n",
        "\n",
        "training_args = transformers.TrainingArguments(\n",
        "        output_dir=OUTPUT_DIR,\n",
        "        warmup_steps=1,\n",
        "        per_device_train_batch_size=2,\n",
        "        gradient_accumulation_steps=4,\n",
        "        auto_find_batch_size=True,\n",
        "        max_steps=1000,\n",
        "        learning_rate=2.5e-5,        # Want a small lr for finetuning\n",
        "        optim=\"paged_adamw_8bit\",\n",
        "        logging_steps=25,            # When to start reporting loss\n",
        "        logging_dir=\"./logs\",        # Directory for storing logs\n",
        "        save_strategy=\"steps\",       # Save the model checkpoint every logging step\n",
        "        save_steps=500,              # Save checkpoints every 50 steps\n",
        "        eval_strategy=\"steps\",       # Evaluate the model every logging step\n",
        "        eval_steps=25,               # Evaluate and save checkpoints every 50 steps\n",
        "        do_eval=True,                # Perform evaluation at the end of training\n",
        "        report_to=\"none\",\n",
        ")"
      ]
    },
    {
      "cell_type": "markdown",
      "id": "e6782df9",
      "metadata": {
        "id": "e6782df9"
      },
      "source": [
        "The `Trainer` object needs:\n",
        "- a model (`model` arg)\n",
        "- a training set (`train_dataset` arg)\n",
        "- an (optional) validation set (`eval_dataset` arg)\n",
        "- the training arguments (`args` arg)\n",
        "- a data collator (`data_collator` arg)"
      ]
    },
    {
      "cell_type": "markdown",
      "id": "7049e7f8",
      "metadata": {
        "id": "7049e7f8"
      },
      "source": [
        "Training may take around 10 minutes in an RTX 3090. In Colab's free version, it will take much longer."
      ]
    },
    {
      "cell_type": "code",
      "execution_count": null,
      "id": "4acbee45",
      "metadata": {
        "id": "4acbee45",
        "outputId": "d1106383-d570-43e8-e2d4-91edf7a3a445"
      },
      "outputs": [
        {
          "name": "stderr",
          "output_type": "stream",
          "text": [
            "max_steps is given, it will override any value given in num_train_epochs\n"
          ]
        },
        {
          "data": {
            "text/html": [
              "\n",
              "    <div>\n",
              "      \n",
              "      <progress value='1000' max='1000' style='width:300px; height:20px; vertical-align: middle;'></progress>\n",
              "      [1000/1000 09:50, Epoch 13/14]\n",
              "    </div>\n",
              "    <table border=\"1\" class=\"dataframe\">\n",
              "  <thead>\n",
              " <tr style=\"text-align: left;\">\n",
              "      <th>Step</th>\n",
              "      <th>Training Loss</th>\n",
              "      <th>Validation Loss</th>\n",
              "    </tr>\n",
              "  </thead>\n",
              "  <tbody>\n",
              "    <tr>\n",
              "      <td>25</td>\n",
              "      <td>3.162800</td>\n",
              "      <td>2.729766</td>\n",
              "    </tr>\n",
              "    <tr>\n",
              "      <td>50</td>\n",
              "      <td>2.532500</td>\n",
              "      <td>1.987815</td>\n",
              "    </tr>\n",
              "    <tr>\n",
              "      <td>75</td>\n",
              "      <td>1.794400</td>\n",
              "      <td>1.543532</td>\n",
              "    </tr>\n",
              "    <tr>\n",
              "      <td>100</td>\n",
              "      <td>1.519800</td>\n",
              "      <td>1.296836</td>\n",
              "    </tr>\n",
              "    <tr>\n",
              "      <td>125</td>\n",
              "      <td>1.264500</td>\n",
              "      <td>1.110637</td>\n",
              "    </tr>\n",
              "    <tr>\n",
              "      <td>150</td>\n",
              "      <td>1.018600</td>\n",
              "      <td>0.994319</td>\n",
              "    </tr>\n",
              "    <tr>\n",
              "      <td>175</td>\n",
              "      <td>0.922400</td>\n",
              "      <td>0.832627</td>\n",
              "    </tr>\n",
              "    <tr>\n",
              "      <td>200</td>\n",
              "      <td>0.701000</td>\n",
              "      <td>0.685616</td>\n",
              "    </tr>\n",
              "    <tr>\n",
              "      <td>225</td>\n",
              "      <td>0.636800</td>\n",
              "      <td>0.621049</td>\n",
              "    </tr>\n",
              "    <tr>\n",
              "      <td>250</td>\n",
              "      <td>0.509300</td>\n",
              "      <td>0.565084</td>\n",
              "    </tr>\n",
              "    <tr>\n",
              "      <td>275</td>\n",
              "      <td>0.529300</td>\n",
              "      <td>0.552678</td>\n",
              "    </tr>\n",
              "    <tr>\n",
              "      <td>300</td>\n",
              "      <td>0.444700</td>\n",
              "      <td>0.520075</td>\n",
              "    </tr>\n",
              "    <tr>\n",
              "      <td>325</td>\n",
              "      <td>0.424800</td>\n",
              "      <td>0.510664</td>\n",
              "    </tr>\n",
              "    <tr>\n",
              "      <td>350</td>\n",
              "      <td>0.422900</td>\n",
              "      <td>0.498617</td>\n",
              "    </tr>\n",
              "    <tr>\n",
              "      <td>375</td>\n",
              "      <td>0.428100</td>\n",
              "      <td>0.478401</td>\n",
              "    </tr>\n",
              "    <tr>\n",
              "      <td>400</td>\n",
              "      <td>0.378300</td>\n",
              "      <td>0.471837</td>\n",
              "    </tr>\n",
              "    <tr>\n",
              "      <td>425</td>\n",
              "      <td>0.362100</td>\n",
              "      <td>0.462808</td>\n",
              "    </tr>\n",
              "    <tr>\n",
              "      <td>450</td>\n",
              "      <td>0.399300</td>\n",
              "      <td>0.456574</td>\n",
              "    </tr>\n",
              "    <tr>\n",
              "      <td>475</td>\n",
              "      <td>0.324600</td>\n",
              "      <td>0.444118</td>\n",
              "    </tr>\n",
              "    <tr>\n",
              "      <td>500</td>\n",
              "      <td>0.369100</td>\n",
              "      <td>0.439637</td>\n",
              "    </tr>\n",
              "    <tr>\n",
              "      <td>525</td>\n",
              "      <td>0.340000</td>\n",
              "      <td>0.441958</td>\n",
              "    </tr>\n",
              "    <tr>\n",
              "      <td>550</td>\n",
              "      <td>0.343100</td>\n",
              "      <td>0.441537</td>\n",
              "    </tr>\n",
              "    <tr>\n",
              "      <td>575</td>\n",
              "      <td>0.293500</td>\n",
              "      <td>0.432965</td>\n",
              "    </tr>\n",
              "    <tr>\n",
              "      <td>600</td>\n",
              "      <td>0.317100</td>\n",
              "      <td>0.435015</td>\n",
              "    </tr>\n",
              "    <tr>\n",
              "      <td>625</td>\n",
              "      <td>0.291100</td>\n",
              "      <td>0.432573</td>\n",
              "    </tr>\n",
              "    <tr>\n",
              "      <td>650</td>\n",
              "      <td>0.293800</td>\n",
              "      <td>0.431924</td>\n",
              "    </tr>\n",
              "    <tr>\n",
              "      <td>675</td>\n",
              "      <td>0.300400</td>\n",
              "      <td>0.430797</td>\n",
              "    </tr>\n",
              "    <tr>\n",
              "      <td>700</td>\n",
              "      <td>0.316300</td>\n",
              "      <td>0.432331</td>\n",
              "    </tr>\n",
              "    <tr>\n",
              "      <td>725</td>\n",
              "      <td>0.273900</td>\n",
              "      <td>0.424429</td>\n",
              "    </tr>\n",
              "    <tr>\n",
              "      <td>750</td>\n",
              "      <td>0.286400</td>\n",
              "      <td>0.424575</td>\n",
              "    </tr>\n",
              "    <tr>\n",
              "      <td>775</td>\n",
              "      <td>0.275100</td>\n",
              "      <td>0.424179</td>\n",
              "    </tr>\n",
              "    <tr>\n",
              "      <td>800</td>\n",
              "      <td>0.303400</td>\n",
              "      <td>0.421751</td>\n",
              "    </tr>\n",
              "    <tr>\n",
              "      <td>825</td>\n",
              "      <td>0.281000</td>\n",
              "      <td>0.418980</td>\n",
              "    </tr>\n",
              "    <tr>\n",
              "      <td>850</td>\n",
              "      <td>0.272100</td>\n",
              "      <td>0.415066</td>\n",
              "    </tr>\n",
              "    <tr>\n",
              "      <td>875</td>\n",
              "      <td>0.261500</td>\n",
              "      <td>0.414659</td>\n",
              "    </tr>\n",
              "    <tr>\n",
              "      <td>900</td>\n",
              "      <td>0.272900</td>\n",
              "      <td>0.413970</td>\n",
              "    </tr>\n",
              "    <tr>\n",
              "      <td>925</td>\n",
              "      <td>0.271300</td>\n",
              "      <td>0.411701</td>\n",
              "    </tr>\n",
              "    <tr>\n",
              "      <td>950</td>\n",
              "      <td>0.273000</td>\n",
              "      <td>0.413010</td>\n",
              "    </tr>\n",
              "    <tr>\n",
              "      <td>975</td>\n",
              "      <td>0.259900</td>\n",
              "      <td>0.414200</td>\n",
              "    </tr>\n",
              "    <tr>\n",
              "      <td>1000</td>\n",
              "      <td>0.270800</td>\n",
              "      <td>0.411995</td>\n",
              "    </tr>\n",
              "  </tbody>\n",
              "</table><p>"
            ],
            "text/plain": [
              "<IPython.core.display.HTML object>"
            ]
          },
          "metadata": {},
          "output_type": "display_data"
        },
        {
          "name": "stderr",
          "output_type": "stream",
          "text": [
            "/opt/micromamba/envs/python_310/lib/python3.10/site-packages/peft/utils/save_and_load.py:180: UserWarning: Setting `save_embedding_layers` to `True` as embedding layers found in `target_modules`.\n",
            "  warnings.warn(\"Setting `save_embedding_layers` to `True` as embedding layers found in `target_modules`.\")\n",
            "/opt/micromamba/envs/python_310/lib/python3.10/site-packages/peft/utils/save_and_load.py:180: UserWarning: Setting `save_embedding_layers` to `True` as embedding layers found in `target_modules`.\n",
            "  warnings.warn(\"Setting `save_embedding_layers` to `True` as embedding layers found in `target_modules`.\")\n"
          ]
        },
        {
          "data": {
            "text/plain": [
              "TrainOutput(global_step=1000, training_loss=0.5985516076087951, metrics={'train_runtime': 591.2044, 'train_samples_per_second': 13.532, 'train_steps_per_second': 1.691, 'total_flos': 8183988879360000.0, 'train_loss': 0.5985516076087951, 'epoch': 13.88888888888889})"
            ]
          },
          "execution_count": 27,
          "metadata": {},
          "output_type": "execute_result"
        }
      ],
      "source": [
        "trainer = transformers.Trainer(\n",
        "    model=peft_model,\n",
        "    train_dataset=tokenized_train_dataset,\n",
        "    eval_dataset=tokenized_val_dataset,\n",
        "    args=training_args,\n",
        "    data_collator=collator\n",
        ")\n",
        "\n",
        "trainer.train()"
      ]
    },
    {
      "cell_type": "markdown",
      "id": "18ee1c98",
      "metadata": {
        "id": "18ee1c98"
      },
      "source": [
        "After 1,000 steps, training loss should be around 0.3. So, we save the trained model to disk."
      ]
    },
    {
      "cell_type": "code",
      "execution_count": null,
      "id": "bc8aa532",
      "metadata": {
        "id": "bc8aa532",
        "outputId": "4eef4930-6ed1-4824-ad6a-0523097dd18e"
      },
      "outputs": [
        {
          "name": "stderr",
          "output_type": "stream",
          "text": [
            "/opt/micromamba/envs/python_310/lib/python3.10/site-packages/peft/utils/save_and_load.py:180: UserWarning: Setting `save_embedding_layers` to `True` as embedding layers found in `target_modules`.\n",
            "  warnings.warn(\"Setting `save_embedding_layers` to `True` as embedding layers found in `target_modules`.\")\n"
          ]
        }
      ],
      "source": [
        "model_ckpt = OUTPUT_DIR + \"/stop\"\n",
        "\n",
        "trainer.save_model(model_ckpt)"
      ]
    },
    {
      "cell_type": "markdown",
      "id": "7d310dbb",
      "metadata": {
        "id": "7d310dbb"
      },
      "source": [
        "## Reloading the Model\n",
        "\n",
        "Now, let's reload the trained adapter we have just saved. Remember, it only saves a partial model, so we still need the (quantized) base model.\n",
        "\n",
        "We can use [`PeftModel.from_pretrained()`](https://huggingface.co/docs/peft/en/package_reference/peft_model#peft.PeftModel.from_pretrained) method to load the fine-tuned model."
      ]
    },
    {
      "cell_type": "code",
      "source": [
        "#!gdown 19z2Jn7N-Gek0z1Rhyyh28XDPoIt264vN\n",
        "#!unzip yoda_adapter.zip -d ./results/yoda/stop"
      ],
      "metadata": {
        "id": "gzkBRfrECsAr"
      },
      "id": "gzkBRfrECsAr",
      "execution_count": null,
      "outputs": []
    },
    {
      "cell_type": "code",
      "execution_count": null,
      "id": "f139b83b-1885-499b-af8a-9fdbd474d3b8",
      "metadata": {
        "id": "f139b83b-1885-499b-af8a-9fdbd474d3b8"
      },
      "outputs": [],
      "source": [
        "from peft import PeftModel\n",
        "\n",
        "fine_tuned_model = PeftModel.from_pretrained(model, model_ckpt)"
      ]
    },
    {
      "cell_type": "markdown",
      "id": "290c58bf",
      "metadata": {
        "id": "290c58bf"
      },
      "source": [
        "Now, let's try out our model!\n",
        "\n",
        "First, we'll \"forget\" the response template and see how the model reacts:"
      ]
    },
    {
      "cell_type": "code",
      "execution_count": null,
      "id": "8f0884df-f9ab-48c5-b367-dc6358c037c4",
      "metadata": {
        "id": "8f0884df-f9ab-48c5-b367-dc6358c037c4",
        "outputId": "c19efa09-bae0-4164-e2d0-0e2a562fb48d"
      },
      "outputs": [
        {
          "name": "stderr",
          "output_type": "stream",
          "text": [
            "Setting `pad_token_id` to `eos_token_id`:50256 for open-end generation.\n"
          ]
        },
        {
          "name": "stdout",
          "output_type": "stream",
          "text": [
            "Luke, I am your father!<|endoftext|>\n"
          ]
        }
      ],
      "source": [
        "eval_prompt = \"Luke, I am your father!\"\n",
        "model_input = tokenizer(eval_prompt, return_tensors=\"pt\").to(\"cuda\")\n",
        "\n",
        "fine_tuned_model.eval()\n",
        "with torch.no_grad():\n",
        "    print(tokenizer.decode(fine_tuned_model.generate(**model_input, max_new_tokens=100, repetition_penalty=1.1)[0], skip_special_tokens=False))"
      ]
    },
    {
      "cell_type": "markdown",
      "id": "a77dd238",
      "metadata": {
        "id": "a77dd238"
      },
      "source": [
        "Nothing happened... what if we add the proper response template (`##[YODA]##>`)?"
      ]
    },
    {
      "cell_type": "code",
      "execution_count": null,
      "id": "d417267a-16ba-4518-b47d-55af2eb2498f",
      "metadata": {
        "id": "d417267a-16ba-4518-b47d-55af2eb2498f",
        "outputId": "01fb1020-4717-4734-be99-dc66cb5074f6"
      },
      "outputs": [
        {
          "name": "stderr",
          "output_type": "stream",
          "text": [
            "Setting `pad_token_id` to `eos_token_id`:50256 for open-end generation.\n"
          ]
        },
        {
          "name": "stdout",
          "output_type": "stream",
          "text": [
            "I am your father! ##[YODA]##> Your father I am.<|endoftext|>\n"
          ]
        }
      ],
      "source": [
        "eval_prompt = \"I am your father!\"\n",
        "model_input = tokenizer(eval_prompt+response_template, return_tensors=\"pt\").to(\"cuda\")\n",
        "\n",
        "fine_tuned_model.eval()\n",
        "with torch.no_grad():\n",
        "    print(tokenizer.decode(fine_tuned_model.generate(**model_input, max_new_tokens=100, repetition_penalty=1.1)[0], skip_special_tokens=False))"
      ]
    },
    {
      "cell_type": "markdown",
      "id": "fcbc7901",
      "metadata": {
        "id": "fcbc7901"
      },
      "source": [
        "OK, that's more like it! We got a Yoda-like sentence back!\n",
        "\n",
        "Let's write a function that handles all the boilerplate for us:"
      ]
    },
    {
      "cell_type": "code",
      "execution_count": null,
      "id": "9378e164-2671-4351-9dbc-b05c66e59f87",
      "metadata": {
        "id": "9378e164-2671-4351-9dbc-b05c66e59f87"
      },
      "outputs": [],
      "source": [
        "def generate(model, tokenizer, prompt, response_template=\"\", max_new_tokens=100):\n",
        "    tokenized_input = tokenizer(prompt+response_template, return_tensors=\"pt\")\n",
        "    input_ids = tokenized_input[\"input_ids\"].cuda()\n",
        "\n",
        "    model.eval()\n",
        "    generation_output = model.generate(\n",
        "        input_ids=input_ids,\n",
        "        num_beams=3,\n",
        "        max_new_tokens=max_new_tokens,\n",
        "        repetition_penalty=1.1,\n",
        "        do_sample=True, top_p=0.9,temperature=0.95,\n",
        "        eos_token_id=tokenizer.eos_token_id,\n",
        "    )\n",
        "    output = tokenizer.batch_decode(generation_output, skip_special_tokens=False)[0]\n",
        "    return output"
      ]
    },
    {
      "cell_type": "markdown",
      "id": "2f06d644",
      "metadata": {
        "id": "2f06d644"
      },
      "source": [
        "Now, let's see our new function in action:"
      ]
    },
    {
      "cell_type": "code",
      "execution_count": null,
      "id": "961b4634-71ea-4469-82fb-cce2837246c3",
      "metadata": {
        "id": "961b4634-71ea-4469-82fb-cce2837246c3",
        "outputId": "6c3fcb36-caed-4405-97a8-ea264db438c1"
      },
      "outputs": [
        {
          "name": "stderr",
          "output_type": "stream",
          "text": [
            "The attention mask and the pad token id were not set. As a consequence, you may observe unexpected behavior. Please pass your input's `attention_mask` to obtain reliable results.\n",
            "Setting `pad_token_id` to `eos_token_id`:50256 for open-end generation.\n"
          ]
        },
        {
          "data": {
            "text/plain": [
              "'The Force is strong in this one. ##[YODA]##> Strong in this one the force is.<|endoftext|>'"
            ]
          },
          "execution_count": 72,
          "metadata": {},
          "output_type": "execute_result"
        }
      ],
      "source": [
        "generate(fine_tuned_model, tokenizer, 'The Force is strong in this one.', response_template, max_length)"
      ]
    },
    {
      "cell_type": "code",
      "execution_count": null,
      "id": "ccaf6ac0-31fc-41eb-8fbc-bb48103c21ca",
      "metadata": {
        "id": "ccaf6ac0-31fc-41eb-8fbc-bb48103c21ca",
        "outputId": "f59ea1bf-4033-475c-fad3-248bc88188ab"
      },
      "outputs": [
        {
          "name": "stderr",
          "output_type": "stream",
          "text": [
            "The attention mask and the pad token id were not set. As a consequence, you may observe unexpected behavior. Please pass your input's `attention_mask` to obtain reliable results.\n",
            "Setting `pad_token_id` to `eos_token_id`:50256 for open-end generation.\n"
          ]
        },
        {
          "data": {
            "text/plain": [
              "'I am coming home. ##[YODA]##> Coming home I am. Yes, hrrmmm.<|endoftext|>'"
            ]
          },
          "execution_count": 74,
          "metadata": {},
          "output_type": "execute_result"
        }
      ],
      "source": [
        "generate(fine_tuned_model, tokenizer, 'I am coming home.', response_template, max_length)"
      ]
    },
    {
      "cell_type": "code",
      "execution_count": null,
      "id": "513af2d4-80dd-4b7a-920e-e55a56667f30",
      "metadata": {
        "id": "513af2d4-80dd-4b7a-920e-e55a56667f30",
        "outputId": "fd0c61c9-aa03-49ff-b588-7b2e94552e5f"
      },
      "outputs": [
        {
          "name": "stderr",
          "output_type": "stream",
          "text": [
            "The attention mask and the pad token id were not set. As a consequence, you may observe unexpected behavior. Please pass your input's `attention_mask` to obtain reliable results.\n",
            "Setting `pad_token_id` to `eos_token_id`:50256 for open-end generation.\n"
          ]
        },
        {
          "data": {
            "text/plain": [
              "'The glow deepened in the eyes of the sweet girl. ##[YODA]##> Deepened in the eyes of the sweet girl the glow was.<|endoftext|>'"
            ]
          },
          "execution_count": 77,
          "metadata": {},
          "output_type": "execute_result"
        }
      ],
      "source": [
        "sample = prompt_yoda['test'][1]\n",
        "generate(fine_tuned_model, tokenizer, sample['prompt'], response_template, max_length)"
      ]
    },
    {
      "cell_type": "markdown",
      "id": "c6959363",
      "metadata": {
        "id": "c6959363"
      },
      "source": [
        "Finally, we can *disable* the LoRA adapter we trained to see how the base model reacts to the sample sentence (with and without the response template):"
      ]
    },
    {
      "cell_type": "code",
      "execution_count": null,
      "id": "1bbcde4f-7e27-4ba1-973e-13ab57d3d556",
      "metadata": {
        "scrolled": false,
        "id": "1bbcde4f-7e27-4ba1-973e-13ab57d3d556",
        "outputId": "0e0b6e37-2bab-4562-a52a-6d1a71adb114"
      },
      "outputs": [
        {
          "name": "stderr",
          "output_type": "stream",
          "text": [
            "The attention mask and the pad token id were not set. As a consequence, you may observe unexpected behavior. Please pass your input's `attention_mask` to obtain reliable results.\n",
            "Setting `pad_token_id` to `eos_token_id`:50256 for open-end generation.\n",
            "The attention mask and the pad token id were not set. As a consequence, you may observe unexpected behavior. Please pass your input's `attention_mask` to obtain reliable results.\n",
            "Setting `pad_token_id` to `eos_token_id`:50256 for open-end generation.\n"
          ]
        },
        {
          "name": "stdout",
          "output_type": "stream",
          "text": [
            "The glow deepened in the eyes of the sweet girl.\n",
            "\n",
            "\"I know,\" she said, her voice barely above a whisper. \"It's like we're two pieces of a puzzle that were meant to fit together.\"\n",
            "\n",
            "The man smiled, his heart swelling with love.\n",
            "\n",
            "\"Exactly,\" he said. \"And I'm so grateful that we finally found each other.\"\n",
            "\n",
            "They sat in silence for a few moments, lost in their own thoughts.\n",
            "\n",
            "\"You know,\" the man said, breaking the silence. \"I\n",
            "The glow deepened in the eyes of the sweet girl. ##[YODA]##> ’s words had resonated with her, and she felt a newfound sense of purpose. She was determined to make a difference in the world, and she was ready to take on the challenge.\n",
            "\n",
            "Theory of Mind Exercises:\n",
            "\n",
            "1. What was the mood of the sweet girl when she first entered the shop?\n",
            "\n",
            "Answer: The sweet girl was likely feeling a sense of anticipation and excitement when she first entered the shop. She was eager to learn more about the\n"
          ]
        }
      ],
      "source": [
        "with fine_tuned_model.disable_adapter():\n",
        "    print(generate(fine_tuned_model, tokenizer, sample['prompt']))\n",
        "    print(generate(fine_tuned_model, tokenizer, sample['prompt'], response_template))"
      ]
    },
    {
      "cell_type": "code",
      "execution_count": null,
      "id": "1248c637-ab9f-4d25-8859-b98ee7285cd9",
      "metadata": {
        "id": "1248c637-ab9f-4d25-8859-b98ee7285cd9"
      },
      "outputs": [],
      "source": []
    }
  ],
  "metadata": {
    "kernelspec": {
      "display_name": "Python 3 (ipykernel)",
      "language": "python",
      "name": "python3"
    },
    "language_info": {
      "codemirror_mode": {
        "name": "ipython",
        "version": 3
      },
      "file_extension": ".py",
      "mimetype": "text/x-python",
      "name": "python",
      "nbconvert_exporter": "python",
      "pygments_lexer": "ipython3",
      "version": "3.9.0"
    },
    "colab": {
      "provenance": [],
      "include_colab_link": true
    }
  },
  "nbformat": 4,
  "nbformat_minor": 5
}